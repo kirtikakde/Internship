{
 "cells": [
  {
   "cell_type": "markdown",
   "metadata": {},
   "source": [
    "# Q.1  Write a python program which searches all the product under a particular product from www.amazon.in. The \n",
    "product to be searched will be taken as input from user. For e.g. If user input is ‘guitar’. Then search for \n",
    "guitars. "
   ]
  },
  {
   "cell_type": "code",
   "execution_count": 2,
   "metadata": {},
   "outputs": [
    {
     "name": "stdout",
     "output_type": "stream",
     "text": [
      "Requirement already satisfied: selenium in c:\\users\\kirti\\anaconda3\\lib\\site-packages (4.11.2)\n",
      "Requirement already satisfied: urllib3<3,>=1.26 in c:\\users\\kirti\\anaconda3\\lib\\site-packages (from urllib3[socks]<3,>=1.26->selenium) (2.0.7)\n",
      "Requirement already satisfied: trio~=0.17 in c:\\users\\kirti\\anaconda3\\lib\\site-packages (from selenium) (0.22.2)\n",
      "Requirement already satisfied: trio-websocket~=0.9 in c:\\users\\kirti\\anaconda3\\lib\\site-packages (from selenium) (0.11.1)\n",
      "Requirement already satisfied: certifi>=2021.10.8 in c:\\users\\kirti\\anaconda3\\lib\\site-packages (from selenium) (2024.2.2)\n",
      "Requirement already satisfied: attrs>=20.1.0 in c:\\users\\kirti\\anaconda3\\lib\\site-packages (from trio~=0.17->selenium) (23.2.0)\n",
      "Requirement already satisfied: sortedcontainers in c:\\users\\kirti\\anaconda3\\lib\\site-packages (from trio~=0.17->selenium) (2.1.0)\n",
      "Requirement already satisfied: idna in c:\\users\\kirti\\anaconda3\\lib\\site-packages (from trio~=0.17->selenium) (2.8)\n",
      "Requirement already satisfied: outcome in c:\\users\\kirti\\anaconda3\\lib\\site-packages (from trio~=0.17->selenium) (1.3.0.post0)\n",
      "Requirement already satisfied: sniffio in c:\\users\\kirti\\anaconda3\\lib\\site-packages (from trio~=0.17->selenium) (1.3.0)\n",
      "Requirement already satisfied: cffi>=1.14 in c:\\users\\kirti\\anaconda3\\lib\\site-packages (from trio~=0.17->selenium) (1.15.1)\n",
      "Requirement already satisfied: exceptiongroup>=1.0.0rc9 in c:\\users\\kirti\\anaconda3\\lib\\site-packages (from trio~=0.17->selenium) (1.2.0)\n",
      "Requirement already satisfied: wsproto>=0.14 in c:\\users\\kirti\\anaconda3\\lib\\site-packages (from trio-websocket~=0.9->selenium) (1.2.0)\n",
      "Requirement already satisfied: pysocks!=1.5.7,<2.0,>=1.5.6 in c:\\users\\kirti\\anaconda3\\lib\\site-packages (from urllib3[socks]<3,>=1.26->selenium) (1.7.1)\n",
      "Requirement already satisfied: importlib-metadata in c:\\users\\kirti\\anaconda3\\lib\\site-packages (from attrs>=20.1.0->trio~=0.17->selenium) (0.23)\n",
      "Requirement already satisfied: pycparser in c:\\users\\kirti\\anaconda3\\lib\\site-packages (from cffi>=1.14->trio~=0.17->selenium) (2.19)\n",
      "Requirement already satisfied: h11<1,>=0.9.0 in c:\\users\\kirti\\anaconda3\\lib\\site-packages (from wsproto>=0.14->trio-websocket~=0.9->selenium) (0.14.0)\n",
      "Requirement already satisfied: typing-extensions in c:\\users\\kirti\\anaconda3\\lib\\site-packages (from h11<1,>=0.9.0->wsproto>=0.14->trio-websocket~=0.9->selenium) (3.10.0.2)\n",
      "Requirement already satisfied: zipp>=0.5 in c:\\users\\kirti\\anaconda3\\lib\\site-packages (from importlib-metadata->attrs>=20.1.0->trio~=0.17->selenium) (3.15.0)\n"
     ]
    }
   ],
   "source": [
    "!pip install selenium"
   ]
  },
  {
   "cell_type": "code",
   "execution_count": 190,
   "metadata": {},
   "outputs": [],
   "source": [
    "import selenium\n",
    "import pandas as pd"
   ]
  },
  {
   "cell_type": "code",
   "execution_count": 191,
   "metadata": {},
   "outputs": [],
   "source": [
    "from selenium import webdriver\n",
    "import warnings\n",
    "warnings.filterwarnings('ignore')\n",
    "from selenium.webdriver.common.by import By\n",
    "import time"
   ]
  },
  {
   "cell_type": "code",
   "execution_count": 139,
   "metadata": {},
   "outputs": [],
   "source": [
    "driver = webdriver.Chrome()"
   ]
  },
  {
   "cell_type": "code",
   "execution_count": 140,
   "metadata": {},
   "outputs": [],
   "source": [
    "#opening the amazon page on automated chrome browser\n",
    "driver.get(\"https://www.amazon.in/\")"
   ]
  },
  {
   "cell_type": "code",
   "execution_count": 141,
   "metadata": {},
   "outputs": [],
   "source": [
    "#//div[@class=\"nav-search-field \"]\n",
    "search_input=driver.find_element(By.XPATH,\"//div[@class='nav-search-field ']//input\")\n",
    "search_input.send_keys(\"guitar\")"
   ]
  },
  {
   "cell_type": "code",
   "execution_count": 142,
   "metadata": {},
   "outputs": [],
   "source": [
    "search=driver.find_element(By.XPATH,\"//div[@class='nav-search-submit nav-sprite']//span\")\n",
    "search.click()\n"
   ]
  },
  {
   "cell_type": "markdown",
   "metadata": {},
   "source": [
    "# Q.2 In the above question, now scrape the following details of each product listed in first 3 pages of your search results and save it in a data frame and csv. In case if any product has less than 3 pages in search results then scrape all the products available under that product name. Details to be scraped are: \"Brand Name\", \"Name of the Product\", \"Price\", \"Return/Exchange\", \"Expected Delivery\", \"Availability\" and “Product URL”. In case, if any of the details are missing for any of the product then replace it by “-“."
   ]
  },
  {
   "cell_type": "code",
   "execution_count": 35,
   "metadata": {},
   "outputs": [],
   "source": [
    "brand_name=[]\n",
    "prod_name=[]\n",
    "prod_price=[]\n",
    "prod_return_exchange=[]\n",
    "expected_delivery=[]\n",
    "prod_avail=[]\n",
    "prod_url=[]"
   ]
  },
  {
   "cell_type": "code",
   "execution_count": 10,
   "metadata": {},
   "outputs": [],
   "source": [
    "#Scrapping prod name from the given page\n",
    "\n",
    "prod_tags = driver.find_elements(By.XPATH,'//span[@class=\"a-size-base-plus a-color-base a-text-normal\"]')\n",
    "for i in prod_tags:\n",
    "    prod=i.text\n",
    "    prod_name.append(prod)"
   ]
  },
  {
   "cell_type": "code",
   "execution_count": 90,
   "metadata": {},
   "outputs": [
    {
     "data": {
      "text/plain": [
       "['Kadence rosewood Guitar Frontier Series, Electric Acoustic Black Guitar With EQ, Die Cast Keys, Set Of Strings, Strap, Picks And Bag (Black EQ, Electric Acoustic)',\n",
       " 'Kadence Frontier guitar with Online Guitar learning course , Wine Red Acoustic Guitar with Die Cast Keys, Set of Strings, Strap, Picks and Bag (Wine Red, Acoustic)',\n",
       " 'Kadence Slowhand Premium Jumbo Semi Acoustic Guitar with Heavy Padded Bag, guitar cable, Pro Capo (Black Spruce Wood)',\n",
       " 'Samara SA39CE CS 39\" Cutaway Electro-Acoustic Guitar',\n",
       " 'Intern INT-38C Right hand Acoustic Guitar Kit, With Bag, Strings, Pick And Strap, Black, small',\n",
       " 'Juârez Acoustic Guitar, 38 Inch Cutaway, 038C with Bag, Strings, Pick and Strap, Black',\n",
       " 'Cort AC120CEOP Semi Classical Guitar, Brown',\n",
       " 'Kadence Frontier guitar with Online Guitar learning course , Wine Red Acoustic Guitar with Die Cast Keys, Set of Strings, Strap, Picks and Bag (Wine Red, Acoustic)',\n",
       " 'Kadence rosewood Guitar Frontier Series, Electric Acoustic Black Guitar With EQ, Die Cast Keys, Set Of Strings, Strap, Picks And Bag (Black EQ, Electric Acoustic)',\n",
       " 'Enya Nova Go Carbon Fiber Acoustic Guitar 1/2 Size Beginner Adult Travel Acustica Guitarra w/Starter Bundle Kit of Colorful Packaging, Acoustic Guitar Strap, Gig Bag, Cleaning Cloth, String(White)',\n",
       " '',\n",
       " '',\n",
       " 'Intern INT-38C-SB Linden Wood Cutaway Right Handed Acoustic Guitar Kit, With Bag, Strings, Pick And Strap (Sunburst, 6 Strings)',\n",
       " 'Yamaha F280 Acoustic Rosewood Guitar (Natural, Beige)',\n",
       " 'Intern INT-38C Acoustic Guitar Kit (Purple)',\n",
       " 'Juarez Lindenwood Acoustic Guitar Kit, 38 Inches Cutaway, 38C With Bag, Strings, Pick And Strap, TBS Transparent (Blue Sunburst)',\n",
       " 'Intern INT-38C Acoustic Guitar Kit (Blue)',\n",
       " 'Juarez Lindenwood Acoustic Guitar Kit, 38 Inches Cutaway, 38C With Bag, Strings, Pick And Strap, 3TS Sunburst',\n",
       " 'Intern 38C Ebony Wood Cutaway Design Acoustic Guitar with Picks And Carry Bag (Black)',\n",
       " 'Kadence Frontier guitar with Online Guitar learning course , Wine Red Acoustic Guitar with Die Cast Keys, Set of Strings, Strap, Picks and Bag (Wine Red, Acoustic)',\n",
       " 'Intern Int-38c Linden Wood Acoustic Guitar Kit with Carry Bag and Picks (Brown)',\n",
       " 'Intern INT-38C-NT-G 38 Incheses lindenwood Right HAnded Acoustic Guitar Kit With Bag, Strings, Pick And Strap (Natural, 6-Strings)',\n",
       " 'Juârez JRZ38C/WH 6 Strings Acoustic Guitar 38 Inch Cutaway, Right Handed, White with Bag, Strings, Picks and Strap',\n",
       " 'Henrix 38C 38 Inch Cutaway Acoustic Guitar With Dual Action Truss Rod, Gigbag, Picks, String Set, String Winder, Strap, Polishing Cloth & Ebook - Black',\n",
       " 'Juarez Acoustic Guitar, 38 Inch Cutaway JRZ38C/PP - Retro Hippie Funky Design, Complete Set with Bag, Picks, Strap & Extra Strings, Purple Doodle',\n",
       " 'MOCKING BIRD 38c Acoustic Guitar for Beginners Musical Instruments For Adults premium kit wood curved cutaway design Guitar Accessories with string & 5 picks & bag for beige (Beige)',\n",
       " 'PERLMAN Paper Guitar Fretboard, Fingerboard Self-Adhesive Stickers, Decals Tool For Learner Or Beginner',\n",
       " 'Enya Nova Go Carbon Fiber Acoustic Guitar 1/2 Size Beginner Adult Travel Acustica Guitarra w/Starter Bundle Kit of Colorful Packaging, Acoustic Guitar Strap, Gig Bag, Cleaning Cloth, String(White)',\n",
       " 'chiransi String Acoustic Guitar // Learning Toys for Girl & Boys//Musical Instrument Educational Guitar Toy for Beginners Kids - ( Pack of 1 )',\n",
       " 'JUAREZ JRZ38C 38 Inches Lindenwood Right Handed Acoustic Guitar With Bag, Strings, Pick And Strap (Natural, Brown, 6 Strings)',\n",
       " 'Hovner 215 Black F-Cut Rosewood Fretboard Acoustic Guitar With Bag,Strap,1 Set of Extra Strings and 2 Picks By K-Retail',\n",
       " 'Intern INT-38C Acoustic Guitar Kit (Red)',\n",
       " 'Intern INT-38C-VT-G 38 Incheses Cutaway Right HAnded lindenwood Acoustic Guitar Kit, With Bag, Strings, Pick And Strap (Violet, 6-Strings)',\n",
       " 'Intern INT-38C-BK-G Cutaway Right Handed Acoustic Guitar Kit, with Bag, Nickel Strings, Pick And Strap (Black) -6 Strings',\n",
       " 'Juarez Acoustic Guitar, 38 Inch Cutaway, JRZ38C/BKNA Black',\n",
       " 'Juarez Acoustic Guitar, 38 Inch Cutaway, JRZ38C/TBLSNA TRANSPARENT BLUE SUNBURST',\n",
       " 'Intern INT-38C Natural Linden Wood Acoustic Guitar Kit with Carry Bag & Picks',\n",
       " 'Intern INT-38C-SB-G Linden Wood Cutaway Right Handed Acoustic Guitar Kit, With Bag, Strings, Pick And Strap (Sunburst, 6 Strings)',\n",
       " 'Washburn Bella Tono 6 String Acoustic-Electric Guitar, Right, Gloss Charcoal Burst (BTS9VCECH-D)',\n",
       " 'Medellin 38” Acoustic Guitar with (free learning course) Matt finish, Picks and Bag (Blue)',\n",
       " 'Revel 38 Inches Lindenwood Cutaway Design Acoustic Guitar With Carry Bag And Plectrums. (sunburst)',\n",
       " 'Medellin Acoustic Guitar (with guitar learning course) Neon Pink (Combo, Strings,Bag,Picks and guitar course)',\n",
       " 'BLUEBERRY VIP-380, Acoustic Guitar Kit With Bag, Belt, String Set and 2 Picks - 38 Inch (Black)',\n",
       " 'BLUEBERRY B-38C, Acoustic Guitar Kit with Bag, Strap, One Pack Strings And 2 Picks - 38 Inch (Black)',\n",
       " 'Yamaha FS80C Acoustic Guitar Cutaway Concert Body With Mexa Sponge Bag, Guitar Belt, Guitar Stand, String Set & Plectrums.(NT)',\n",
       " 'Intern Int-38c Sunburst Linden Wood Acoustic Guitar Kit with Carry Bag and Picks',\n",
       " 'PS Signature 41inch Acoustic Guitar Black Matte New Model (Free 1 set Strings, 3 Picks, Bag & Belt)',\n",
       " 'Intern INT-38C Acoustic Guitar Kit (Natural)',\n",
       " 'Yamaha F280 Acoustic Guitar, Tobacco Brown Sunburst',\n",
       " 'INTERN Cutaway Design Acoustic Guitar Pack -Humidity Proof, Bend resistant, Durable Action, Natural tone & resonance. Sunburst Carbon Fibre/Fiber Guitar with carry bag, Strap, Strings set, Picks.',\n",
       " 'Juarez JRZ38C/3TSNA Acoustic Guitar, 38 Inch Cutaway, 3TS Sunburst',\n",
       " 'Yamaha F280 Acoustic wood Guitar, Tobacco own Sunburst With Bajaao Gig bag',\n",
       " 'Yamaha FS100C Acoustic Guitar, Black',\n",
       " 'YAMAHA FS80C BLACK CONCERT CUTAWAY GUITAR',\n",
       " 'Kadence 12 strings Slowhand Premium Mahogany wood Semi Acoustic Guitar KSH03-12EQ',\n",
       " 'BLUEBERRY B-D38, Acoustic Guitar Kit Inbuilt Truss Rod with Bag, Strap, One Pack Strings And Picks - 38 Inch (Black)',\n",
       " 'MOCKING BIRD 38 Inch Acoustic Guitar for Beginners Musical Instruments For Adults premium kit wood curved cutaway design Guitar Accessories with string & 5 picks & bag for beige (Sunburst Matte)',\n",
       " 'Fender Squier 39 Inch 6 String Cutaway Acoustic Guitar Hardwood Fretboard-Natural SA-135C',\n",
       " 'JUAREZ Arpeggio Guitar JRA41SP-RD-K, red',\n",
       " 'Fender Dreadnought Acoustic Guitar FA-125 Black Right-Handed 971210706',\n",
       " 'Kadence rosewood Guitar Frontier Series, Electric Acoustic Black Guitar With EQ, Die Cast Keys, Set Of Strings, Strap, Picks And Bag (Black EQ, Electric Acoustic)',\n",
       " 'BLUEBERRY 38C, Acoustic Guitar Kit with Bag, Strap, One Pack Strings And Picks - 38 Inch (Natural)',\n",
       " 'PS Signature 41inch PURE SEFALI WOOD Acoustic Guitar (WOODEN COLOR), Free 1 set Strings, 3 Picks, Bag & Belt)',\n",
       " 'PS Signature 41inch Acoustic Guitar (Wooden Matte Color) Free 1 set Strings, 3 Picks, Bag & Belt)',\n",
       " 'Vault DA20 Dreadnought Acoustic Guitar With Gig-Bag, Picks, Strings Set, String Winder, Strap, Polishing Cloth And Allen Key']"
      ]
     },
     "execution_count": 90,
     "metadata": {},
     "output_type": "execute_result"
    }
   ],
   "source": [
    "prod_name"
   ]
  },
  {
   "cell_type": "code",
   "execution_count": 11,
   "metadata": {},
   "outputs": [
    {
     "data": {
      "text/plain": [
       "65"
      ]
     },
     "execution_count": 11,
     "metadata": {},
     "output_type": "execute_result"
    }
   ],
   "source": [
    "len(prod_name)"
   ]
  },
  {
   "cell_type": "code",
   "execution_count": 36,
   "metadata": {},
   "outputs": [],
   "source": [
    "\n",
    "\n",
    "start=0\n",
    "end=2\n",
    "for page in range(start,end):\n",
    "    prod_tags = driver.find_elements(By.XPATH,'//span[@class=\"a-size-base-plus a-color-base a-text-normal\"]')\n",
    "    for i in prod_tags:\n",
    "        prod_name.append(i.text)\n",
    "    next_button=driver.find_element(By.XPATH,'//a[@class=\"s-pagination-item s-pagination-next s-pagination-button s-pagination-separator\"]')\n",
    "    next_button.click()\n",
    "    time.sleep(3)"
   ]
  },
  {
   "cell_type": "code",
   "execution_count": 37,
   "metadata": {},
   "outputs": [
    {
     "data": {
      "text/plain": [
       "124"
      ]
     },
     "execution_count": 37,
     "metadata": {},
     "output_type": "execute_result"
    }
   ],
   "source": [
    "len(prod_name)"
   ]
  },
  {
   "cell_type": "code",
   "execution_count": 14,
   "metadata": {},
   "outputs": [],
   "source": [
    "#Scrapping price from the given page\n",
    "\n",
    "price_tags = driver.find_elements(By.XPATH,'//span[@class=\"a-price-whole\"]')\n",
    "for i in price_tags:\n",
    "    price=i.text\n",
    "    prod_price.append(price)"
   ]
  },
  {
   "cell_type": "code",
   "execution_count": 15,
   "metadata": {},
   "outputs": [
    {
     "data": {
      "text/plain": [
       "61"
      ]
     },
     "execution_count": 15,
     "metadata": {},
     "output_type": "execute_result"
    }
   ],
   "source": [
    "len(prod_price)"
   ]
  },
  {
   "cell_type": "code",
   "execution_count": 38,
   "metadata": {},
   "outputs": [],
   "source": [
    "#Scrapping expected delivery from the given page\n",
    "start=0\n",
    "end=2\n",
    "for page in range(start,end):\n",
    "    delivery_tags = driver.find_elements(By.XPATH,'//span[@class=\"a-color-base a-text-bold\"]')\n",
    "    for i in delivery_tags:\n",
    "        expected_delivery.append(i.text)\n",
    "    next_button=driver.find_element(By.XPATH,'//a[@class=\"s-pagination-item s-pagination-next s-pagination-button s-pagination-separator\"]')\n",
    "    next_button.click()\n",
    "    time.sleep(3)"
   ]
  },
  {
   "cell_type": "code",
   "execution_count": 39,
   "metadata": {},
   "outputs": [
    {
     "data": {
      "text/plain": [
       "122"
      ]
     },
     "execution_count": 39,
     "metadata": {},
     "output_type": "execute_result"
    }
   ],
   "source": [
    "len(expected_delivery)"
   ]
  },
  {
   "cell_type": "code",
   "execution_count": 40,
   "metadata": {},
   "outputs": [],
   "source": [
    "\n",
    "#Scrapping availability from the given page\n",
    "start=0\n",
    "end=2\n",
    "for page in range(start,end):\n",
    "    ava_tags = driver.find_elements(By.XPATH,'//span[@class=\"a-size-base a-color-base\"]')\n",
    "    for i in ava_tags:\n",
    "        prod_avail.append(i.text)\n",
    "    next_button=driver.find_element(By.XPATH,'//a[@class=\"s-pagination-item s-pagination-next s-pagination-button s-pagination-separator\"]')\n",
    "    next_button.click()\n",
    "    time.sleep(3)"
   ]
  },
  {
   "cell_type": "code",
   "execution_count": 41,
   "metadata": {},
   "outputs": [
    {
     "data": {
      "text/plain": [
       "134"
      ]
     },
     "execution_count": 41,
     "metadata": {},
     "output_type": "execute_result"
    }
   ],
   "source": [
    "len(prod_avail)"
   ]
  },
  {
   "cell_type": "code",
   "execution_count": 48,
   "metadata": {},
   "outputs": [],
   "source": [
    "#Scrapping availability from the given page\n",
    "start=0\n",
    "end=2\n",
    "for page in range(start,end):\n",
    "    url_tags = driver.find_elements(By.XPATH,'//a[@class=\"a-link-normal s-underline-text s-underline-link-text s-link-style a-text-normal\"]')\n",
    "    for i in url_tags:\n",
    "            prod_url.append(i.text)\n",
    "    next_button=driver.find_element(By.XPATH,'//a[@class=\"s-pagination-item s-pagination-next s-pagination-button s-pagination-separator\"]')\n",
    "    next_button.click()\n",
    "    time.sleep(3)\n",
    "   "
   ]
  },
  {
   "cell_type": "code",
   "execution_count": 50,
   "metadata": {},
   "outputs": [
    {
     "data": {
      "text/plain": [
       "156"
      ]
     },
     "execution_count": 50,
     "metadata": {},
     "output_type": "execute_result"
    }
   ],
   "source": [
    "len(prod_url)"
   ]
  },
  {
   "cell_type": "code",
   "execution_count": 51,
   "metadata": {},
   "outputs": [
    {
     "ename": "ValueError",
     "evalue": "All arrays must be of the same length",
     "output_type": "error",
     "traceback": [
      "\u001b[1;31m---------------------------------------------------------------------------\u001b[0m",
      "\u001b[1;31mValueError\u001b[0m                                Traceback (most recent call last)",
      "\u001b[1;32m<ipython-input-51-b52ed487abb2>\u001b[0m in \u001b[0;36m<module>\u001b[1;34m\u001b[0m\n\u001b[0;32m      1\u001b[0m \u001b[1;32mimport\u001b[0m \u001b[0mpandas\u001b[0m \u001b[1;32mas\u001b[0m \u001b[0mpd\u001b[0m\u001b[1;33m\u001b[0m\u001b[1;33m\u001b[0m\u001b[0m\n\u001b[1;32m----> 2\u001b[1;33m \u001b[0mdf\u001b[0m\u001b[1;33m=\u001b[0m\u001b[0mpd\u001b[0m\u001b[1;33m.\u001b[0m\u001b[0mDataFrame\u001b[0m\u001b[1;33m(\u001b[0m\u001b[1;33m{\u001b[0m\u001b[1;34m'Name'\u001b[0m\u001b[1;33m:\u001b[0m\u001b[0mprod_name\u001b[0m\u001b[1;33m,\u001b[0m\u001b[1;34m'Price'\u001b[0m\u001b[1;33m:\u001b[0m\u001b[0mprod_price\u001b[0m\u001b[1;33m,\u001b[0m\u001b[1;34m'Delivery'\u001b[0m\u001b[1;33m:\u001b[0m\u001b[0mexpected_delivery\u001b[0m\u001b[1;33m,\u001b[0m\u001b[1;34m'Availability'\u001b[0m\u001b[1;33m:\u001b[0m\u001b[0mprod_avail\u001b[0m\u001b[1;33m,\u001b[0m\u001b[1;34m'Url'\u001b[0m\u001b[1;33m:\u001b[0m\u001b[0mprod_url\u001b[0m\u001b[1;33m}\u001b[0m\u001b[1;33m)\u001b[0m\u001b[1;33m\u001b[0m\u001b[1;33m\u001b[0m\u001b[0m\n\u001b[0m\u001b[0;32m      3\u001b[0m \u001b[0mdf\u001b[0m\u001b[1;33m\u001b[0m\u001b[1;33m\u001b[0m\u001b[0m\n\u001b[0;32m      4\u001b[0m \u001b[1;33m\u001b[0m\u001b[0m\n",
      "\u001b[1;32m~\\Anaconda3\\lib\\site-packages\\pandas\\core\\frame.py\u001b[0m in \u001b[0;36m__init__\u001b[1;34m(self, data, index, columns, dtype, copy)\u001b[0m\n\u001b[0;32m    612\u001b[0m         \u001b[1;32melif\u001b[0m \u001b[0misinstance\u001b[0m\u001b[1;33m(\u001b[0m\u001b[0mdata\u001b[0m\u001b[1;33m,\u001b[0m \u001b[0mdict\u001b[0m\u001b[1;33m)\u001b[0m\u001b[1;33m:\u001b[0m\u001b[1;33m\u001b[0m\u001b[1;33m\u001b[0m\u001b[0m\n\u001b[0;32m    613\u001b[0m             \u001b[1;31m# GH#38939 de facto copy defaults to False only in non-dict cases\u001b[0m\u001b[1;33m\u001b[0m\u001b[1;33m\u001b[0m\u001b[1;33m\u001b[0m\u001b[0m\n\u001b[1;32m--> 614\u001b[1;33m             \u001b[0mmgr\u001b[0m \u001b[1;33m=\u001b[0m \u001b[0mdict_to_mgr\u001b[0m\u001b[1;33m(\u001b[0m\u001b[0mdata\u001b[0m\u001b[1;33m,\u001b[0m \u001b[0mindex\u001b[0m\u001b[1;33m,\u001b[0m \u001b[0mcolumns\u001b[0m\u001b[1;33m,\u001b[0m \u001b[0mdtype\u001b[0m\u001b[1;33m=\u001b[0m\u001b[0mdtype\u001b[0m\u001b[1;33m,\u001b[0m \u001b[0mcopy\u001b[0m\u001b[1;33m=\u001b[0m\u001b[0mcopy\u001b[0m\u001b[1;33m,\u001b[0m \u001b[0mtyp\u001b[0m\u001b[1;33m=\u001b[0m\u001b[0mmanager\u001b[0m\u001b[1;33m)\u001b[0m\u001b[1;33m\u001b[0m\u001b[1;33m\u001b[0m\u001b[0m\n\u001b[0m\u001b[0;32m    615\u001b[0m         \u001b[1;32melif\u001b[0m \u001b[0misinstance\u001b[0m\u001b[1;33m(\u001b[0m\u001b[0mdata\u001b[0m\u001b[1;33m,\u001b[0m \u001b[0mma\u001b[0m\u001b[1;33m.\u001b[0m\u001b[0mMaskedArray\u001b[0m\u001b[1;33m)\u001b[0m\u001b[1;33m:\u001b[0m\u001b[1;33m\u001b[0m\u001b[1;33m\u001b[0m\u001b[0m\n\u001b[0;32m    616\u001b[0m             \u001b[1;32mimport\u001b[0m \u001b[0mnumpy\u001b[0m\u001b[1;33m.\u001b[0m\u001b[0mma\u001b[0m\u001b[1;33m.\u001b[0m\u001b[0mmrecords\u001b[0m \u001b[1;32mas\u001b[0m \u001b[0mmrecords\u001b[0m\u001b[1;33m\u001b[0m\u001b[1;33m\u001b[0m\u001b[0m\n",
      "\u001b[1;32m~\\Anaconda3\\lib\\site-packages\\pandas\\core\\internals\\construction.py\u001b[0m in \u001b[0;36mdict_to_mgr\u001b[1;34m(data, index, columns, dtype, typ, copy)\u001b[0m\n\u001b[0;32m    463\u001b[0m \u001b[1;33m\u001b[0m\u001b[0m\n\u001b[0;32m    464\u001b[0m     return arrays_to_mgr(\n\u001b[1;32m--> 465\u001b[1;33m         \u001b[0marrays\u001b[0m\u001b[1;33m,\u001b[0m \u001b[0mdata_names\u001b[0m\u001b[1;33m,\u001b[0m \u001b[0mindex\u001b[0m\u001b[1;33m,\u001b[0m \u001b[0mcolumns\u001b[0m\u001b[1;33m,\u001b[0m \u001b[0mdtype\u001b[0m\u001b[1;33m=\u001b[0m\u001b[0mdtype\u001b[0m\u001b[1;33m,\u001b[0m \u001b[0mtyp\u001b[0m\u001b[1;33m=\u001b[0m\u001b[0mtyp\u001b[0m\u001b[1;33m,\u001b[0m \u001b[0mconsolidate\u001b[0m\u001b[1;33m=\u001b[0m\u001b[0mcopy\u001b[0m\u001b[1;33m\u001b[0m\u001b[1;33m\u001b[0m\u001b[0m\n\u001b[0m\u001b[0;32m    466\u001b[0m     )\n\u001b[0;32m    467\u001b[0m \u001b[1;33m\u001b[0m\u001b[0m\n",
      "\u001b[1;32m~\\Anaconda3\\lib\\site-packages\\pandas\\core\\internals\\construction.py\u001b[0m in \u001b[0;36marrays_to_mgr\u001b[1;34m(arrays, arr_names, index, columns, dtype, verify_integrity, typ, consolidate)\u001b[0m\n\u001b[0;32m    117\u001b[0m         \u001b[1;31m# figure out the index, if necessary\u001b[0m\u001b[1;33m\u001b[0m\u001b[1;33m\u001b[0m\u001b[1;33m\u001b[0m\u001b[0m\n\u001b[0;32m    118\u001b[0m         \u001b[1;32mif\u001b[0m \u001b[0mindex\u001b[0m \u001b[1;32mis\u001b[0m \u001b[1;32mNone\u001b[0m\u001b[1;33m:\u001b[0m\u001b[1;33m\u001b[0m\u001b[1;33m\u001b[0m\u001b[0m\n\u001b[1;32m--> 119\u001b[1;33m             \u001b[0mindex\u001b[0m \u001b[1;33m=\u001b[0m \u001b[0m_extract_index\u001b[0m\u001b[1;33m(\u001b[0m\u001b[0marrays\u001b[0m\u001b[1;33m)\u001b[0m\u001b[1;33m\u001b[0m\u001b[1;33m\u001b[0m\u001b[0m\n\u001b[0m\u001b[0;32m    120\u001b[0m         \u001b[1;32melse\u001b[0m\u001b[1;33m:\u001b[0m\u001b[1;33m\u001b[0m\u001b[1;33m\u001b[0m\u001b[0m\n\u001b[0;32m    121\u001b[0m             \u001b[0mindex\u001b[0m \u001b[1;33m=\u001b[0m \u001b[0mensure_index\u001b[0m\u001b[1;33m(\u001b[0m\u001b[0mindex\u001b[0m\u001b[1;33m)\u001b[0m\u001b[1;33m\u001b[0m\u001b[1;33m\u001b[0m\u001b[0m\n",
      "\u001b[1;32m~\\Anaconda3\\lib\\site-packages\\pandas\\core\\internals\\construction.py\u001b[0m in \u001b[0;36m_extract_index\u001b[1;34m(data)\u001b[0m\n\u001b[0;32m    633\u001b[0m             \u001b[0mlengths\u001b[0m \u001b[1;33m=\u001b[0m \u001b[0mlist\u001b[0m\u001b[1;33m(\u001b[0m\u001b[0mset\u001b[0m\u001b[1;33m(\u001b[0m\u001b[0mraw_lengths\u001b[0m\u001b[1;33m)\u001b[0m\u001b[1;33m)\u001b[0m\u001b[1;33m\u001b[0m\u001b[1;33m\u001b[0m\u001b[0m\n\u001b[0;32m    634\u001b[0m             \u001b[1;32mif\u001b[0m \u001b[0mlen\u001b[0m\u001b[1;33m(\u001b[0m\u001b[0mlengths\u001b[0m\u001b[1;33m)\u001b[0m \u001b[1;33m>\u001b[0m \u001b[1;36m1\u001b[0m\u001b[1;33m:\u001b[0m\u001b[1;33m\u001b[0m\u001b[1;33m\u001b[0m\u001b[0m\n\u001b[1;32m--> 635\u001b[1;33m                 \u001b[1;32mraise\u001b[0m \u001b[0mValueError\u001b[0m\u001b[1;33m(\u001b[0m\u001b[1;34m\"All arrays must be of the same length\"\u001b[0m\u001b[1;33m)\u001b[0m\u001b[1;33m\u001b[0m\u001b[1;33m\u001b[0m\u001b[0m\n\u001b[0m\u001b[0;32m    636\u001b[0m \u001b[1;33m\u001b[0m\u001b[0m\n\u001b[0;32m    637\u001b[0m             \u001b[1;32mif\u001b[0m \u001b[0mhave_dicts\u001b[0m\u001b[1;33m:\u001b[0m\u001b[1;33m\u001b[0m\u001b[1;33m\u001b[0m\u001b[0m\n",
      "\u001b[1;31mValueError\u001b[0m: All arrays must be of the same length"
     ]
    }
   ],
   "source": [
    "import pandas as pd\n",
    "df=pd.DataFrame({'Name':prod_name,'Price':prod_price,'Delivery':expected_delivery,'Availability':prod_avail,'Url':prod_url})\n",
    "df\n",
    "\n"
   ]
  },
  {
   "cell_type": "markdown",
   "metadata": {},
   "source": [
    "# Q.3 Write a python program to access the search bar and search button on images.google.com and scrape 10 images each for keywords ‘fruits’, ‘cars’ and ‘Machine Learning’, ‘Guitar’, ‘Cakes’. "
   ]
  },
  {
   "cell_type": "code",
   "execution_count": 93,
   "metadata": {},
   "outputs": [],
   "source": [
    "driver = webdriver.Chrome()"
   ]
  },
  {
   "cell_type": "code",
   "execution_count": 94,
   "metadata": {},
   "outputs": [],
   "source": [
    "\n",
    "driver.get(\"https://images.google.com/\")"
   ]
  },
  {
   "cell_type": "code",
   "execution_count": 96,
   "metadata": {},
   "outputs": [],
   "source": [
    "\n",
    "search_input=driver.find_element(By.XPATH,'//textarea[@class=\"gLFyf\"]')\n",
    "\n",
    "search_input.send_keys(\"fruits\")\n",
    "\n"
   ]
  },
  {
   "cell_type": "code",
   "execution_count": 97,
   "metadata": {},
   "outputs": [],
   "source": [
    "search=driver.find_element(By.XPATH,'//span[@class=\"z1asCe MZy1Rb\"]')\n",
    "search.click()"
   ]
  },
  {
   "cell_type": "code",
   "execution_count": null,
   "metadata": {},
   "outputs": [],
   "source": [
    "//div[@class=\"fR600b islir\"]\n"
   ]
  },
  {
   "cell_type": "code",
   "execution_count": 68,
   "metadata": {},
   "outputs": [],
   "source": [
    "fruits_scrap=[]"
   ]
  },
  {
   "cell_type": "code",
   "execution_count": 102,
   "metadata": {},
   "outputs": [],
   "source": [
    "import requests"
   ]
  },
  {
   "cell_type": "code",
   "execution_count": 110,
   "metadata": {},
   "outputs": [],
   "source": [
    "#Scrapping job title from the given page\n",
    "for _ in range(20):\n",
    "    driver.execute_script(\"window.scrollBy(0,500)\")\n",
    "images = driver.find_elements(By.XPATH,'//img[@class=\"rg_i Q4LuWd\"]')\n",
    "img_urls=[]\n",
    "\n",
    "for image in images:\n",
    "    source=image.get_attribute('src')\n",
    "    if source is not None:\n",
    "        if(source[0:4]=='http'):\n",
    "            img_urls.append(source)\n",
    "        \n",
    "for i in range(len(img_urls)):\n",
    "    if i > 10:\n",
    "        breakBy.XPATH,\n",
    "    responce=requests.get(img_urls[i])\n",
    "    file=open(r\"E:\\Kirti Folder\\kk\"+str(i)+\".jpg\",\"wb\")\n",
    "    file.write(responce.content)"
   ]
  },
  {
   "cell_type": "code",
   "execution_count": 111,
   "metadata": {},
   "outputs": [
    {
     "data": {
      "text/plain": [
       "0"
      ]
     },
     "execution_count": 111,
     "metadata": {},
     "output_type": "execute_result"
    }
   ],
   "source": [
    "len(img_urls)"
   ]
  },
  {
   "cell_type": "code",
   "execution_count": null,
   "metadata": {},
   "outputs": [],
   "source": []
  },
  {
   "cell_type": "code",
   "execution_count": 115,
   "metadata": {},
   "outputs": [
    {
     "name": "stdout",
     "output_type": "stream",
     "text": [
      "Enter a city name: amravati\n"
     ]
    },
    {
     "ename": "IndexError",
     "evalue": "list index out of range",
     "output_type": "error",
     "traceback": [
      "\u001b[1;31m---------------------------------------------------------------------------\u001b[0m",
      "\u001b[1;31mIndexError\u001b[0m                                Traceback (most recent call last)",
      "\u001b[1;32m<ipython-input-115-77868d758025>\u001b[0m in \u001b[0;36m<module>\u001b[1;34m\u001b[0m\n\u001b[0;32m     24\u001b[0m \u001b[1;31m# Example usage\u001b[0m\u001b[1;33m\u001b[0m\u001b[1;33m\u001b[0m\u001b[1;33m\u001b[0m\u001b[0m\n\u001b[0;32m     25\u001b[0m \u001b[0mcity\u001b[0m \u001b[1;33m=\u001b[0m \u001b[0minput\u001b[0m\u001b[1;33m(\u001b[0m\u001b[1;34m\"Enter a city name: \"\u001b[0m\u001b[1;33m)\u001b[0m\u001b[1;33m\u001b[0m\u001b[1;33m\u001b[0m\u001b[0m\n\u001b[1;32m---> 26\u001b[1;33m \u001b[0mlatitude\u001b[0m\u001b[1;33m,\u001b[0m \u001b[0mlongitude\u001b[0m \u001b[1;33m=\u001b[0m \u001b[0mget_coordinates\u001b[0m\u001b[1;33m(\u001b[0m\u001b[0mcity\u001b[0m\u001b[1;33m)\u001b[0m\u001b[1;33m\u001b[0m\u001b[1;33m\u001b[0m\u001b[0m\n\u001b[0m\u001b[0;32m     27\u001b[0m \u001b[0mprint\u001b[0m\u001b[1;33m(\u001b[0m\u001b[1;34mf\"The coordinates of {city} are: Latitude: {latitude}, Longitude: {longitude}\"\u001b[0m\u001b[1;33m)\u001b[0m\u001b[1;33m\u001b[0m\u001b[1;33m\u001b[0m\u001b[0m\n",
      "\u001b[1;32m<ipython-input-115-77868d758025>\u001b[0m in \u001b[0;36mget_coordinates\u001b[1;34m(city)\u001b[0m\n\u001b[0;32m     17\u001b[0m \u001b[1;33m\u001b[0m\u001b[0m\n\u001b[0;32m     18\u001b[0m   \u001b[1;31m# Extract the coordinates from the element's content attribute\u001b[0m\u001b[1;33m\u001b[0m\u001b[1;33m\u001b[0m\u001b[1;33m\u001b[0m\u001b[0m\n\u001b[1;32m---> 19\u001b[1;33m   \u001b[0mcoordinates\u001b[0m \u001b[1;33m=\u001b[0m \u001b[0mcoordinates_element\u001b[0m\u001b[1;33m[\u001b[0m\u001b[1;34m\"content\"\u001b[0m\u001b[1;33m]\u001b[0m\u001b[1;33m.\u001b[0m\u001b[0msplit\u001b[0m\u001b[1;33m(\u001b[0m\u001b[1;34m\";\"\u001b[0m\u001b[1;33m)\u001b[0m\u001b[1;33m[\u001b[0m\u001b[1;36m1\u001b[0m\u001b[1;33m]\u001b[0m\u001b[1;33m.\u001b[0m\u001b[0mstrip\u001b[0m\u001b[1;33m(\u001b[0m\u001b[1;33m)\u001b[0m\u001b[1;33m.\u001b[0m\u001b[0msplit\u001b[0m\u001b[1;33m(\u001b[0m\u001b[1;34m\",\"\u001b[0m\u001b[1;33m)\u001b[0m\u001b[1;33m\u001b[0m\u001b[1;33m\u001b[0m\u001b[0m\n\u001b[0m\u001b[0;32m     20\u001b[0m \u001b[1;33m\u001b[0m\u001b[0m\n\u001b[0;32m     21\u001b[0m   \u001b[1;31m# Return the latitude and longitude as a tuple\u001b[0m\u001b[1;33m\u001b[0m\u001b[1;33m\u001b[0m\u001b[1;33m\u001b[0m\u001b[0m\n",
      "\u001b[1;31mIndexError\u001b[0m: list index out of range"
     ]
    }
   ],
   "source": [
    "import requests\n",
    "from bs4 import BeautifulSoup\n",
    "\n",
    "def get_coordinates(city):\n",
    "  # Format the city name for the URL\n",
    "  formatted_city = city.replace(\" \", \"+\")\n",
    "\n",
    "  # Send a GET request to Google Maps with the formatted city name\n",
    "  url = f\"https://www.google.com/maps/search/{formatted_city}\"\n",
    "  response = requests.get(url)\n",
    "\n",
    "  # Parse the HTML response using BeautifulSoup\n",
    "  soup = BeautifulSoup(response.text, \"html.parser\")\n",
    "\n",
    "  # Find the element containing the coordinates\n",
    "  coordinates_element = soup.find(\"meta\", itemprop=\"image\")\n",
    "\n",
    "  # Extract the coordinates from the element's content attribute\n",
    "  coordinates = coordinates_element[\"content\"].split(\";\")[1].strip().split(\",\")\n",
    "\n",
    "  # Return the latitude and longitude as a tuple\n",
    "  return float(coordinates[0]), float(coordinates[1])\n",
    "\n",
    "# Example usage\n",
    "city = input(\"Enter a city name: \")\n",
    "latitude, longitude = get_coordinates(city)\n",
    "print(f\"The coordinates of {city} are: Latitude: {latitude}, Longitude: {longitude}\")"
   ]
  },
  {
   "cell_type": "markdown",
   "metadata": {},
   "source": [
    "# Q.4 Write a python program to search for a smartphone(e.g.: Oneplus Nord, pixel 4A, etc.) on https://www.flipkart.com/ scrape following details for all the search results displayed on 1st page. Details to be scraped: “Brand Name”, “Smartphone name”, “Colour”, “RAM”, “Storage(ROM)”, “Primary Camera”, “Secondary Camera”, “Display Size”, “Battery Capacity”, “Price”, “Product URL”. Incase if any of the details is missing then replace it by “- “. Save your results in a dataframe and CSV"
   ]
  },
  {
   "cell_type": "code",
   "execution_count": 153,
   "metadata": {},
   "outputs": [],
   "source": [
    "driver = webdriver.Chrome()"
   ]
  },
  {
   "cell_type": "code",
   "execution_count": 154,
   "metadata": {},
   "outputs": [],
   "source": [
    "driver.get(\"https://www.flipkart.com/\")"
   ]
  },
  {
   "cell_type": "code",
   "execution_count": 155,
   "metadata": {},
   "outputs": [],
   "source": [
    "phone=driver.find_element(By.XPATH,'//input[@class=\"Pke_EE\"]')\n",
    "phone.send_keys(\"smartphone\")"
   ]
  },
  {
   "cell_type": "code",
   "execution_count": 156,
   "metadata": {},
   "outputs": [],
   "source": [
    "search=driver.find_element(By.XPATH,'//button[@class=\"_2iLD__\"]')\n",
    "search.click()"
   ]
  },
  {
   "cell_type": "code",
   "execution_count": 163,
   "metadata": {},
   "outputs": [],
   "source": [
    "brand_name=[]\n",
    "smart_name=[]\n",
    "smart_color=[]"
   ]
  },
  {
   "cell_type": "code",
   "execution_count": 170,
   "metadata": {},
   "outputs": [],
   "source": [
    "\n",
    "\n",
    "#Scrapping job title from the given page\n",
    "brand_tags = driver.find_elements(By.XPATH,'//div[@class=\"_4rR01T\"]')\n",
    "for i in brand_tags:\n",
    "    brand=i.text\n",
    "    brand_name.append(brand)"
   ]
  },
  {
   "cell_type": "code",
   "execution_count": 171,
   "metadata": {},
   "outputs": [
    {
     "data": {
      "text/plain": [
       "['POCO C55 (Power Black, 128 GB)',\n",
       " 'vivo T2x 5G (Aurora Gold, 128 GB)',\n",
       " 'Motorola G34 5G (Ocean Green, 128 GB)',\n",
       " 'vivo T2x 5G (Aurora Gold, 128 GB)',\n",
       " 'vivo T2x 5G (Marine Blue, 128 GB)',\n",
       " 'vivo T2x 5G (Glimmer Black, 128 GB)',\n",
       " 'POCO C51 (Royal Blue, 64 GB)',\n",
       " 'vivo T2x 5G (Glimmer Black, 128 GB)',\n",
       " 'OnePlus Nord CE 3 Lite 5G (Pastel Lime, 256 GB)',\n",
       " 'OnePlus Nord CE 3 Lite 5G (Chromatic Gray, 128 GB)',\n",
       " 'OnePlus Nord CE 3 Lite 5G (Pastel Lime, 128 GB)',\n",
       " 'SAMSUNG Galaxy F04 (Opal Green, 64 GB)',\n",
       " 'vivo T2x 5G (Marine Blue, 128 GB)',\n",
       " 'vivo T2x 5G (Glimmer Black, 128 GB)',\n",
       " 'OnePlus Nord CE 3 Lite 5G (Chromatic Gray, 256 GB)',\n",
       " 'vivo T2x 5G (Marine Blue, 128 GB)',\n",
       " 'vivo T2x 5G (Aurora Gold, 128 GB)',\n",
       " 'POCO C55 (Forest Green, 64 GB)',\n",
       " 'Motorola G34 5G (Ice Blue, 128 GB)',\n",
       " 'POCO C55 (Power Black, 64 GB)',\n",
       " 'Apple iPhone 15 (Green, 128 GB)',\n",
       " 'POCO C51 (Power Black, 64 GB)',\n",
       " 'Infinix SMART 8 (Rainbow Blue, 128 GB)']"
      ]
     },
     "execution_count": 171,
     "metadata": {},
     "output_type": "execute_result"
    }
   ],
   "source": [
    "brand_name"
   ]
  },
  {
   "cell_type": "code",
   "execution_count": 158,
   "metadata": {},
   "outputs": [],
   "source": [
    "#//h2[@class=\"a-size-mini a-spacing-none a-color-base s-line-clamp-4\"]\n",
    "#Scrapping job title from the given page\n",
    "smart_tags = driver.find_elements(By.XPATH,'//div[@class=\"_4rR01T\"]')\n",
    "for i in smart_tags:\n",
    "    smart=i.text\n",
    "    smart_name.append(smart)\n"
   ]
  },
  {
   "cell_type": "code",
   "execution_count": 159,
   "metadata": {},
   "outputs": [
    {
     "data": {
      "text/plain": [
       "['POCO C55 (Cool Blue, 128 GB)',\n",
       " 'POCO C55 (Power Black, 128 GB)',\n",
       " 'vivo T2x 5G (Aurora Gold, 128 GB)',\n",
       " 'Motorola G34 5G (Ocean Green, 128 GB)',\n",
       " 'vivo T2x 5G (Aurora Gold, 128 GB)',\n",
       " 'vivo T2x 5G (Marine Blue, 128 GB)',\n",
       " 'vivo T2x 5G (Glimmer Black, 128 GB)',\n",
       " 'POCO C51 (Royal Blue, 64 GB)',\n",
       " 'vivo T2x 5G (Glimmer Black, 128 GB)',\n",
       " 'OnePlus Nord CE 3 Lite 5G (Pastel Lime, 256 GB)',\n",
       " 'OnePlus Nord CE 3 Lite 5G (Chromatic Gray, 128 GB)',\n",
       " 'OnePlus Nord CE 3 Lite 5G (Pastel Lime, 128 GB)',\n",
       " 'SAMSUNG Galaxy F04 (Opal Green, 64 GB)',\n",
       " 'vivo T2x 5G (Marine Blue, 128 GB)',\n",
       " 'vivo T2x 5G (Glimmer Black, 128 GB)',\n",
       " 'OnePlus Nord CE 3 Lite 5G (Chromatic Gray, 256 GB)',\n",
       " 'vivo T2x 5G (Marine Blue, 128 GB)',\n",
       " 'vivo T2x 5G (Aurora Gold, 128 GB)',\n",
       " 'POCO C55 (Forest Green, 64 GB)',\n",
       " 'Motorola G34 5G (Ice Blue, 128 GB)',\n",
       " 'POCO C55 (Power Black, 64 GB)',\n",
       " 'Apple iPhone 15 (Green, 128 GB)',\n",
       " 'POCO C51 (Power Black, 64 GB)',\n",
       " 'Infinix SMART 8 (Rainbow Blue, 128 GB)']"
      ]
     },
     "execution_count": 159,
     "metadata": {},
     "output_type": "execute_result"
    }
   ],
   "source": [
    "smart_name"
   ]
  },
  {
   "cell_type": "code",
   "execution_count": 160,
   "metadata": {},
   "outputs": [
    {
     "data": {
      "text/plain": [
       "24"
      ]
     },
     "execution_count": 160,
     "metadata": {},
     "output_type": "execute_result"
    }
   ],
   "source": [
    "len(smart_name)"
   ]
  },
  {
   "cell_type": "code",
   "execution_count": 174,
   "metadata": {},
   "outputs": [],
   "source": [
    "\n",
    "color_tags = driver.find_elements(By.XPATH,\"//div[@class='_2WkVRV']\")\n",
    "for i in color_tags:\n",
    "    smartcolor=i.text\n",
    "    smart_color.append(smart)"
   ]
  },
  {
   "cell_type": "code",
   "execution_count": 175,
   "metadata": {},
   "outputs": [
    {
     "data": {
      "text/plain": [
       "['Infinix SMART 8 (Rainbow Blue, 128 GB)',\n",
       " 'Infinix SMART 8 (Rainbow Blue, 128 GB)',\n",
       " 'Infinix SMART 8 (Rainbow Blue, 128 GB)',\n",
       " 'Infinix SMART 8 (Rainbow Blue, 128 GB)',\n",
       " 'Infinix SMART 8 (Rainbow Blue, 128 GB)',\n",
       " 'Infinix SMART 8 (Rainbow Blue, 128 GB)',\n",
       " 'Infinix SMART 8 (Rainbow Blue, 128 GB)',\n",
       " 'Infinix SMART 8 (Rainbow Blue, 128 GB)',\n",
       " 'Infinix SMART 8 (Rainbow Blue, 128 GB)',\n",
       " 'Infinix SMART 8 (Rainbow Blue, 128 GB)',\n",
       " 'Infinix SMART 8 (Rainbow Blue, 128 GB)',\n",
       " 'Infinix SMART 8 (Rainbow Blue, 128 GB)',\n",
       " 'Infinix SMART 8 (Rainbow Blue, 128 GB)',\n",
       " 'Infinix SMART 8 (Rainbow Blue, 128 GB)',\n",
       " 'Infinix SMART 8 (Rainbow Blue, 128 GB)',\n",
       " 'Infinix SMART 8 (Rainbow Blue, 128 GB)',\n",
       " 'Infinix SMART 8 (Rainbow Blue, 128 GB)',\n",
       " 'Infinix SMART 8 (Rainbow Blue, 128 GB)',\n",
       " 'Infinix SMART 8 (Rainbow Blue, 128 GB)',\n",
       " 'Infinix SMART 8 (Rainbow Blue, 128 GB)',\n",
       " 'Infinix SMART 8 (Rainbow Blue, 128 GB)',\n",
       " 'Infinix SMART 8 (Rainbow Blue, 128 GB)',\n",
       " 'Infinix SMART 8 (Rainbow Blue, 128 GB)',\n",
       " 'Infinix SMART 8 (Rainbow Blue, 128 GB)',\n",
       " 'Infinix SMART 8 (Rainbow Blue, 128 GB)',\n",
       " 'Infinix SMART 8 (Rainbow Blue, 128 GB)',\n",
       " 'Infinix SMART 8 (Rainbow Blue, 128 GB)',\n",
       " 'Infinix SMART 8 (Rainbow Blue, 128 GB)',\n",
       " 'Infinix SMART 8 (Rainbow Blue, 128 GB)',\n",
       " 'Infinix SMART 8 (Rainbow Blue, 128 GB)',\n",
       " 'Infinix SMART 8 (Rainbow Blue, 128 GB)',\n",
       " 'Infinix SMART 8 (Rainbow Blue, 128 GB)',\n",
       " 'Infinix SMART 8 (Rainbow Blue, 128 GB)',\n",
       " 'Infinix SMART 8 (Rainbow Blue, 128 GB)',\n",
       " 'Infinix SMART 8 (Rainbow Blue, 128 GB)',\n",
       " 'Infinix SMART 8 (Rainbow Blue, 128 GB)',\n",
       " 'Infinix SMART 8 (Rainbow Blue, 128 GB)',\n",
       " 'Infinix SMART 8 (Rainbow Blue, 128 GB)',\n",
       " 'Infinix SMART 8 (Rainbow Blue, 128 GB)',\n",
       " 'Infinix SMART 8 (Rainbow Blue, 128 GB)',\n",
       " 'Infinix SMART 8 (Rainbow Blue, 128 GB)',\n",
       " 'Infinix SMART 8 (Rainbow Blue, 128 GB)',\n",
       " 'Infinix SMART 8 (Rainbow Blue, 128 GB)',\n",
       " 'Infinix SMART 8 (Rainbow Blue, 128 GB)',\n",
       " 'Infinix SMART 8 (Rainbow Blue, 128 GB)',\n",
       " 'Infinix SMART 8 (Rainbow Blue, 128 GB)',\n",
       " 'Infinix SMART 8 (Rainbow Blue, 128 GB)',\n",
       " 'Infinix SMART 8 (Rainbow Blue, 128 GB)',\n",
       " 'Infinix SMART 8 (Rainbow Blue, 128 GB)',\n",
       " 'Infinix SMART 8 (Rainbow Blue, 128 GB)',\n",
       " 'Infinix SMART 8 (Rainbow Blue, 128 GB)',\n",
       " 'Infinix SMART 8 (Rainbow Blue, 128 GB)',\n",
       " 'Infinix SMART 8 (Rainbow Blue, 128 GB)',\n",
       " 'Infinix SMART 8 (Rainbow Blue, 128 GB)',\n",
       " 'Infinix SMART 8 (Rainbow Blue, 128 GB)',\n",
       " 'Infinix SMART 8 (Rainbow Blue, 128 GB)',\n",
       " 'Infinix SMART 8 (Rainbow Blue, 128 GB)',\n",
       " 'Infinix SMART 8 (Rainbow Blue, 128 GB)',\n",
       " 'Infinix SMART 8 (Rainbow Blue, 128 GB)',\n",
       " 'Infinix SMART 8 (Rainbow Blue, 128 GB)',\n",
       " 'Infinix SMART 8 (Rainbow Blue, 128 GB)',\n",
       " 'Infinix SMART 8 (Rainbow Blue, 128 GB)',\n",
       " 'Infinix SMART 8 (Rainbow Blue, 128 GB)',\n",
       " 'Infinix SMART 8 (Rainbow Blue, 128 GB)',\n",
       " 'Infinix SMART 8 (Rainbow Blue, 128 GB)',\n",
       " 'Infinix SMART 8 (Rainbow Blue, 128 GB)',\n",
       " 'Infinix SMART 8 (Rainbow Blue, 128 GB)',\n",
       " 'Infinix SMART 8 (Rainbow Blue, 128 GB)',\n",
       " 'Infinix SMART 8 (Rainbow Blue, 128 GB)',\n",
       " 'Infinix SMART 8 (Rainbow Blue, 128 GB)',\n",
       " 'Infinix SMART 8 (Rainbow Blue, 128 GB)']"
      ]
     },
     "execution_count": 175,
     "metadata": {},
     "output_type": "execute_result"
    }
   ],
   "source": [
    "smart_color"
   ]
  },
  {
   "cell_type": "markdown",
   "metadata": {},
   "source": [
    "# Q.6  Write a program to scrap all the available details of best gaming laptops from digit.in. "
   ]
  },
  {
   "cell_type": "code",
   "execution_count": 183,
   "metadata": {},
   "outputs": [],
   "source": [
    "driver = webdriver.Chrome()"
   ]
  },
  {
   "cell_type": "code",
   "execution_count": 184,
   "metadata": {},
   "outputs": [],
   "source": [
    "url=\"https://www.digit.in/top-products/best-gaming-laptops-40.html\""
   ]
  },
  {
   "cell_type": "code",
   "execution_count": 185,
   "metadata": {},
   "outputs": [],
   "source": [
    "driver.get(url)"
   ]
  },
  {
   "cell_type": "code",
   "execution_count": 186,
   "metadata": {},
   "outputs": [],
   "source": [
    "Brands=[]\n",
    "Products_Description=[]\n",
    "Specification=[]\n",
    "Price=[]"
   ]
  },
  {
   "cell_type": "code",
   "execution_count": 192,
   "metadata": {},
   "outputs": [],
   "source": [
    "br=driver.find_elements(By.XPATH,\"//div[@class='TopNumbeHeading active sticky-footer']\")\n"
   ]
  },
  {
   "cell_type": "code",
   "execution_count": 193,
   "metadata": {},
   "outputs": [
    {
     "data": {
      "text/plain": [
       "0"
      ]
     },
     "execution_count": 193,
     "metadata": {},
     "output_type": "execute_result"
    }
   ],
   "source": [
    "len(br)"
   ]
  },
  {
   "cell_type": "code",
   "execution_count": 189,
   "metadata": {},
   "outputs": [
    {
     "data": {
      "text/plain": [
       "[]"
      ]
     },
     "execution_count": 189,
     "metadata": {},
     "output_type": "execute_result"
    }
   ],
   "source": [
    "for i in br:\n",
    "   \n",
    "    Brands.append(str(i.text).replace(\"\\n\",\"\"))\n",
    "Brands"
   ]
  },
  {
   "cell_type": "code",
   "execution_count": null,
   "metadata": {},
   "outputs": [],
   "source": []
  }
 ],
 "metadata": {
  "kernelspec": {
   "display_name": "Python 3",
   "language": "python",
   "name": "python3"
  },
  "language_info": {
   "codemirror_mode": {
    "name": "ipython",
    "version": 3
   },
   "file_extension": ".py",
   "mimetype": "text/x-python",
   "name": "python",
   "nbconvert_exporter": "python",
   "pygments_lexer": "ipython3",
   "version": "3.7.4"
  }
 },
 "nbformat": 4,
 "nbformat_minor": 2
}
