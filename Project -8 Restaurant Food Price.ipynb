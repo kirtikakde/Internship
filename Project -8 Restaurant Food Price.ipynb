{
 "cells": [
  {
   "cell_type": "code",
   "execution_count": 14,
   "metadata": {},
   "outputs": [],
   "source": [
    "import numpy as np\n",
    "import pandas as pd\n",
    "import matplotlib.pyplot as plt\n",
    "import seaborn as sns\n",
    "import warnings\n",
    "warnings.filterwarnings(\"ignore\")\n",
    "\n",
    "from sklearn.preprocessing import LabelEncoder\n",
    "\n",
    "\n",
    "\n",
    "from sklearn.ensemble import ExtraTreesClassifier\n",
    "from sklearn.linear_model import LogisticRegression\n",
    "from sklearn.svm import SVC\n",
    "from sklearn.tree import DecisionTreeClassifier\n",
    "from sklearn.ensemble import RandomForestClassifier\n",
    "from xgboost import XGBClassifier \n",
    "from sklearn.neighbors import KNeighborsClassifier\n",
    "\n",
    "from sklearn.metrics import confusion_matrix"
   ]
  },
  {
   "cell_type": "code",
   "execution_count": 15,
   "metadata": {},
   "outputs": [
    {
     "data": {
      "text/html": [
       "<div>\n",
       "<style scoped>\n",
       "    .dataframe tbody tr th:only-of-type {\n",
       "        vertical-align: middle;\n",
       "    }\n",
       "\n",
       "    .dataframe tbody tr th {\n",
       "        vertical-align: top;\n",
       "    }\n",
       "\n",
       "    .dataframe thead th {\n",
       "        text-align: right;\n",
       "    }\n",
       "</style>\n",
       "<table border=\"1\" class=\"dataframe\">\n",
       "  <thead>\n",
       "    <tr style=\"text-align: right;\">\n",
       "      <th></th>\n",
       "      <th>TITLE</th>\n",
       "      <th>RESTAURANT_ID</th>\n",
       "      <th>CUISINES</th>\n",
       "      <th>TIME</th>\n",
       "      <th>CITY</th>\n",
       "      <th>LOCALITY</th>\n",
       "      <th>RATING</th>\n",
       "      <th>VOTES</th>\n",
       "      <th>COST</th>\n",
       "    </tr>\n",
       "  </thead>\n",
       "  <tbody>\n",
       "    <tr>\n",
       "      <th>0</th>\n",
       "      <td>CASUAL DINING</td>\n",
       "      <td>9438</td>\n",
       "      <td>Malwani, Goan, North Indian</td>\n",
       "      <td>11am – 4pm, 7:30pm – 11:30pm (Mon-Sun)</td>\n",
       "      <td>Thane</td>\n",
       "      <td>Dombivali East</td>\n",
       "      <td>3.6</td>\n",
       "      <td>49 votes</td>\n",
       "      <td>1200</td>\n",
       "    </tr>\n",
       "    <tr>\n",
       "      <th>1</th>\n",
       "      <td>CASUAL DINING,BAR</td>\n",
       "      <td>13198</td>\n",
       "      <td>Asian, Modern Indian, Japanese</td>\n",
       "      <td>6pm – 11pm (Mon-Sun)</td>\n",
       "      <td>Chennai</td>\n",
       "      <td>Ramapuram</td>\n",
       "      <td>4.2</td>\n",
       "      <td>30 votes</td>\n",
       "      <td>1500</td>\n",
       "    </tr>\n",
       "    <tr>\n",
       "      <th>2</th>\n",
       "      <td>CASUAL DINING</td>\n",
       "      <td>10915</td>\n",
       "      <td>North Indian, Chinese, Biryani, Hyderabadi</td>\n",
       "      <td>11am – 3:30pm, 7pm – 11pm (Mon-Sun)</td>\n",
       "      <td>Chennai</td>\n",
       "      <td>Saligramam</td>\n",
       "      <td>3.8</td>\n",
       "      <td>221 votes</td>\n",
       "      <td>800</td>\n",
       "    </tr>\n",
       "    <tr>\n",
       "      <th>3</th>\n",
       "      <td>QUICK BITES</td>\n",
       "      <td>6346</td>\n",
       "      <td>Tibetan, Chinese</td>\n",
       "      <td>11:30am – 1am (Mon-Sun)</td>\n",
       "      <td>Mumbai</td>\n",
       "      <td>Bandra West</td>\n",
       "      <td>4.1</td>\n",
       "      <td>24 votes</td>\n",
       "      <td>800</td>\n",
       "    </tr>\n",
       "    <tr>\n",
       "      <th>4</th>\n",
       "      <td>DESSERT PARLOR</td>\n",
       "      <td>15387</td>\n",
       "      <td>Desserts</td>\n",
       "      <td>11am – 1am (Mon-Sun)</td>\n",
       "      <td>Mumbai</td>\n",
       "      <td>Lower Parel</td>\n",
       "      <td>3.8</td>\n",
       "      <td>165 votes</td>\n",
       "      <td>300</td>\n",
       "    </tr>\n",
       "  </tbody>\n",
       "</table>\n",
       "</div>"
      ],
      "text/plain": [
       "               TITLE  RESTAURANT_ID  \\\n",
       "0      CASUAL DINING           9438   \n",
       "1  CASUAL DINING,BAR          13198   \n",
       "2      CASUAL DINING          10915   \n",
       "3        QUICK BITES           6346   \n",
       "4     DESSERT PARLOR          15387   \n",
       "\n",
       "                                     CUISINES  \\\n",
       "0                 Malwani, Goan, North Indian   \n",
       "1              Asian, Modern Indian, Japanese   \n",
       "2  North Indian, Chinese, Biryani, Hyderabadi   \n",
       "3                            Tibetan, Chinese   \n",
       "4                                    Desserts   \n",
       "\n",
       "                                     TIME     CITY        LOCALITY RATING  \\\n",
       "0  11am – 4pm, 7:30pm – 11:30pm (Mon-Sun)    Thane  Dombivali East    3.6   \n",
       "1                    6pm – 11pm (Mon-Sun)  Chennai       Ramapuram    4.2   \n",
       "2     11am – 3:30pm, 7pm – 11pm (Mon-Sun)  Chennai      Saligramam    3.8   \n",
       "3                 11:30am – 1am (Mon-Sun)   Mumbai     Bandra West    4.1   \n",
       "4                    11am – 1am (Mon-Sun)   Mumbai     Lower Parel    3.8   \n",
       "\n",
       "       VOTES  COST  \n",
       "0   49 votes  1200  \n",
       "1   30 votes  1500  \n",
       "2  221 votes   800  \n",
       "3   24 votes   800  \n",
       "4  165 votes   300  "
      ]
     },
     "execution_count": 15,
     "metadata": {},
     "output_type": "execute_result"
    }
   ],
   "source": [
    "#reading the dataset\n",
    "import pandas as pd\n",
    "df=pd.read_csv('C:/Users/Kirti/Downloads/Data_Train.csv')\n",
    "df.head()"
   ]
  },
  {
   "cell_type": "code",
   "execution_count": 16,
   "metadata": {},
   "outputs": [
    {
     "data": {
      "text/plain": [
       "Index(['TITLE', 'RESTAURANT_ID', 'CUISINES', 'TIME', 'CITY', 'LOCALITY',\n",
       "       'RATING', 'VOTES', 'COST'],\n",
       "      dtype='object')"
      ]
     },
     "execution_count": 16,
     "metadata": {},
     "output_type": "execute_result"
    }
   ],
   "source": [
    "#view the columns of dataset\n",
    "df.columns"
   ]
  },
  {
   "cell_type": "code",
   "execution_count": 17,
   "metadata": {},
   "outputs": [
    {
     "data": {
      "text/plain": [
       "(12690, 9)"
      ]
     },
     "execution_count": 17,
     "metadata": {},
     "output_type": "execute_result"
    }
   ],
   "source": [
    "#checking the shape of dataset\n",
    "df.shape"
   ]
  },
  {
   "cell_type": "code",
   "execution_count": 18,
   "metadata": {},
   "outputs": [
    {
     "data": {
      "text/html": [
       "<div>\n",
       "<style scoped>\n",
       "    .dataframe tbody tr th:only-of-type {\n",
       "        vertical-align: middle;\n",
       "    }\n",
       "\n",
       "    .dataframe tbody tr th {\n",
       "        vertical-align: top;\n",
       "    }\n",
       "\n",
       "    .dataframe thead th {\n",
       "        text-align: right;\n",
       "    }\n",
       "</style>\n",
       "<table border=\"1\" class=\"dataframe\">\n",
       "  <thead>\n",
       "    <tr style=\"text-align: right;\">\n",
       "      <th></th>\n",
       "      <th>TITLE</th>\n",
       "      <th>RESTAURANT_ID</th>\n",
       "      <th>CUISINES</th>\n",
       "      <th>TIME</th>\n",
       "      <th>CITY</th>\n",
       "      <th>LOCALITY</th>\n",
       "      <th>RATING</th>\n",
       "      <th>VOTES</th>\n",
       "      <th>COST</th>\n",
       "    </tr>\n",
       "  </thead>\n",
       "  <tbody>\n",
       "    <tr>\n",
       "      <th>0</th>\n",
       "      <td>CASUAL DINING</td>\n",
       "      <td>9438</td>\n",
       "      <td>Malwani, Goan, North Indian</td>\n",
       "      <td>11am – 4pm, 7:30pm – 11:30pm (Mon-Sun)</td>\n",
       "      <td>Thane</td>\n",
       "      <td>Dombivali East</td>\n",
       "      <td>3.6</td>\n",
       "      <td>49 votes</td>\n",
       "      <td>1200</td>\n",
       "    </tr>\n",
       "    <tr>\n",
       "      <th>1</th>\n",
       "      <td>CASUAL DINING,BAR</td>\n",
       "      <td>13198</td>\n",
       "      <td>Asian, Modern Indian, Japanese</td>\n",
       "      <td>6pm – 11pm (Mon-Sun)</td>\n",
       "      <td>Chennai</td>\n",
       "      <td>Ramapuram</td>\n",
       "      <td>4.2</td>\n",
       "      <td>30 votes</td>\n",
       "      <td>1500</td>\n",
       "    </tr>\n",
       "    <tr>\n",
       "      <th>2</th>\n",
       "      <td>CASUAL DINING</td>\n",
       "      <td>10915</td>\n",
       "      <td>North Indian, Chinese, Biryani, Hyderabadi</td>\n",
       "      <td>11am – 3:30pm, 7pm – 11pm (Mon-Sun)</td>\n",
       "      <td>Chennai</td>\n",
       "      <td>Saligramam</td>\n",
       "      <td>3.8</td>\n",
       "      <td>221 votes</td>\n",
       "      <td>800</td>\n",
       "    </tr>\n",
       "    <tr>\n",
       "      <th>3</th>\n",
       "      <td>QUICK BITES</td>\n",
       "      <td>6346</td>\n",
       "      <td>Tibetan, Chinese</td>\n",
       "      <td>11:30am – 1am (Mon-Sun)</td>\n",
       "      <td>Mumbai</td>\n",
       "      <td>Bandra West</td>\n",
       "      <td>4.1</td>\n",
       "      <td>24 votes</td>\n",
       "      <td>800</td>\n",
       "    </tr>\n",
       "    <tr>\n",
       "      <th>4</th>\n",
       "      <td>DESSERT PARLOR</td>\n",
       "      <td>15387</td>\n",
       "      <td>Desserts</td>\n",
       "      <td>11am – 1am (Mon-Sun)</td>\n",
       "      <td>Mumbai</td>\n",
       "      <td>Lower Parel</td>\n",
       "      <td>3.8</td>\n",
       "      <td>165 votes</td>\n",
       "      <td>300</td>\n",
       "    </tr>\n",
       "  </tbody>\n",
       "</table>\n",
       "</div>"
      ],
      "text/plain": [
       "               TITLE  RESTAURANT_ID  \\\n",
       "0      CASUAL DINING           9438   \n",
       "1  CASUAL DINING,BAR          13198   \n",
       "2      CASUAL DINING          10915   \n",
       "3        QUICK BITES           6346   \n",
       "4     DESSERT PARLOR          15387   \n",
       "\n",
       "                                     CUISINES  \\\n",
       "0                 Malwani, Goan, North Indian   \n",
       "1              Asian, Modern Indian, Japanese   \n",
       "2  North Indian, Chinese, Biryani, Hyderabadi   \n",
       "3                            Tibetan, Chinese   \n",
       "4                                    Desserts   \n",
       "\n",
       "                                     TIME     CITY        LOCALITY RATING  \\\n",
       "0  11am – 4pm, 7:30pm – 11:30pm (Mon-Sun)    Thane  Dombivali East    3.6   \n",
       "1                    6pm – 11pm (Mon-Sun)  Chennai       Ramapuram    4.2   \n",
       "2     11am – 3:30pm, 7pm – 11pm (Mon-Sun)  Chennai      Saligramam    3.8   \n",
       "3                 11:30am – 1am (Mon-Sun)   Mumbai     Bandra West    4.1   \n",
       "4                    11am – 1am (Mon-Sun)   Mumbai     Lower Parel    3.8   \n",
       "\n",
       "       VOTES  COST  \n",
       "0   49 votes  1200  \n",
       "1   30 votes  1500  \n",
       "2  221 votes   800  \n",
       "3   24 votes   800  \n",
       "4  165 votes   300  "
      ]
     },
     "execution_count": 18,
     "metadata": {},
     "output_type": "execute_result"
    }
   ],
   "source": [
    "df.head()"
   ]
  },
  {
   "cell_type": "code",
   "execution_count": 19,
   "metadata": {},
   "outputs": [
    {
     "data": {
      "text/plain": [
       "TITLE            object\n",
       "RESTAURANT_ID     int64\n",
       "CUISINES         object\n",
       "TIME             object\n",
       "CITY             object\n",
       "LOCALITY         object\n",
       "RATING           object\n",
       "VOTES            object\n",
       "COST              int64\n",
       "dtype: object"
      ]
     },
     "execution_count": 19,
     "metadata": {},
     "output_type": "execute_result"
    }
   ],
   "source": [
    "#checking the data type \n",
    "df.dtypes"
   ]
  },
  {
   "cell_type": "code",
   "execution_count": 20,
   "metadata": {},
   "outputs": [
    {
     "name": "stdout",
     "output_type": "stream",
     "text": [
      "<class 'pandas.core.frame.DataFrame'>\n",
      "RangeIndex: 12690 entries, 0 to 12689\n",
      "Data columns (total 9 columns):\n",
      " #   Column         Non-Null Count  Dtype \n",
      "---  ------         --------------  ----- \n",
      " 0   TITLE          12690 non-null  object\n",
      " 1   RESTAURANT_ID  12690 non-null  int64 \n",
      " 2   CUISINES       12690 non-null  object\n",
      " 3   TIME           12690 non-null  object\n",
      " 4   CITY           12578 non-null  object\n",
      " 5   LOCALITY       12592 non-null  object\n",
      " 6   RATING         12688 non-null  object\n",
      " 7   VOTES          11486 non-null  object\n",
      " 8   COST           12690 non-null  int64 \n",
      "dtypes: int64(2), object(7)\n",
      "memory usage: 892.4+ KB\n"
     ]
    }
   ],
   "source": [
    "#checking the info of dataset\n",
    "df.info()"
   ]
  },
  {
   "cell_type": "code",
   "execution_count": 21,
   "metadata": {},
   "outputs": [
    {
     "data": {
      "text/plain": [
       "TITLE               0\n",
       "RESTAURANT_ID       0\n",
       "CUISINES            0\n",
       "TIME                0\n",
       "CITY              112\n",
       "LOCALITY           98\n",
       "RATING              2\n",
       "VOTES            1204\n",
       "COST                0\n",
       "dtype: int64"
      ]
     },
     "execution_count": 21,
     "metadata": {},
     "output_type": "execute_result"
    }
   ],
   "source": [
    "#checking null values in dataset\n",
    "df.isnull().sum()"
   ]
  },
  {
   "cell_type": "code",
   "execution_count": 22,
   "metadata": {},
   "outputs": [
    {
     "data": {
      "text/plain": [
       "TITLE              113\n",
       "RESTAURANT_ID    11892\n",
       "CUISINES          4155\n",
       "TIME              2689\n",
       "CITY               359\n",
       "LOCALITY          1416\n",
       "RATING              32\n",
       "VOTES             1847\n",
       "COST                86\n",
       "dtype: int64"
      ]
     },
     "execution_count": 22,
     "metadata": {},
     "output_type": "execute_result"
    }
   ],
   "source": [
    "#checking unique values in each column\n",
    "df.nunique()"
   ]
  },
  {
   "cell_type": "markdown",
   "metadata": {},
   "source": [
    "# filling the Null values"
   ]
  },
  {
   "cell_type": "code",
   "execution_count": 23,
   "metadata": {},
   "outputs": [],
   "source": [
    "df['CITY'].fillna(\"Not known\",inplace=True) #filling NaN's in city\n",
    "df['LOCALITY'].fillna(\"Not known\",inplace=True)\n",
    "df['VOTES'].fillna(\"00 votes\",inplace=True)\n",
    "df['RATING'].fillna(df['RATING'].mode()[0],inplace=True)"
   ]
  },
  {
   "cell_type": "code",
   "execution_count": 24,
   "metadata": {},
   "outputs": [
    {
     "data": {
      "text/plain": [
       "TITLE            0\n",
       "RESTAURANT_ID    0\n",
       "CUISINES         0\n",
       "TIME             0\n",
       "CITY             0\n",
       "LOCALITY         0\n",
       "RATING           0\n",
       "VOTES            0\n",
       "COST             0\n",
       "dtype: int64"
      ]
     },
     "execution_count": 24,
     "metadata": {},
     "output_type": "execute_result"
    }
   ],
   "source": [
    "#see if the Nulls are filled\n",
    "df.isnull().sum()"
   ]
  },
  {
   "cell_type": "markdown",
   "metadata": {},
   "source": [
    "# changing the datatypes"
   ]
  },
  {
   "cell_type": "code",
   "execution_count": 25,
   "metadata": {},
   "outputs": [
    {
     "data": {
      "text/plain": [
       "array(['3.6', '4.2', '3.8', '4.1', '4.0', '4.3', '3.9', '3.3', '3.4', '-',\n",
       "       '4.5', '3.5', '4.4', '2.7', '3.7', '4.7', 'NEW', '3.1', '2.5',\n",
       "       '4.6', '2.8', '3.0', '3.2', '2.6', '2.9', '4.9', '4.8', '2.4',\n",
       "       '2.3', '2.0', '2.1', '2.2'], dtype=object)"
      ]
     },
     "execution_count": 25,
     "metadata": {},
     "output_type": "execute_result"
    }
   ],
   "source": [
    "#check unique values in ratings\n",
    "df.RATING.unique()"
   ]
  },
  {
   "cell_type": "code",
   "execution_count": 26,
   "metadata": {},
   "outputs": [],
   "source": [
    "#replacing the hypen and 'new' with numeric values\n",
    "df['RATING']=df['RATING'].replace({'-':3.0,'NEW':3.0})"
   ]
  },
  {
   "cell_type": "code",
   "execution_count": 27,
   "metadata": {},
   "outputs": [],
   "source": [
    "#rating can be changed into float type\n",
    "df['RATING']=df['RATING'].astype(float)"
   ]
  },
  {
   "cell_type": "markdown",
   "metadata": {},
   "source": [
    "# FEATURE ENGINEERING"
   ]
  },
  {
   "cell_type": "code",
   "execution_count": 28,
   "metadata": {},
   "outputs": [
    {
     "data": {
      "text/html": [
       "<div>\n",
       "<style scoped>\n",
       "    .dataframe tbody tr th:only-of-type {\n",
       "        vertical-align: middle;\n",
       "    }\n",
       "\n",
       "    .dataframe tbody tr th {\n",
       "        vertical-align: top;\n",
       "    }\n",
       "\n",
       "    .dataframe thead th {\n",
       "        text-align: right;\n",
       "    }\n",
       "</style>\n",
       "<table border=\"1\" class=\"dataframe\">\n",
       "  <thead>\n",
       "    <tr style=\"text-align: right;\">\n",
       "      <th></th>\n",
       "      <th>RESTAURANT_ID</th>\n",
       "      <th>CUISINES</th>\n",
       "      <th>TIME</th>\n",
       "      <th>CITY</th>\n",
       "      <th>LOCALITY</th>\n",
       "      <th>RATING</th>\n",
       "      <th>VOTES</th>\n",
       "      <th>COST</th>\n",
       "      <th>TITLE 1</th>\n",
       "      <th>TITLE 2</th>\n",
       "    </tr>\n",
       "  </thead>\n",
       "  <tbody>\n",
       "    <tr>\n",
       "      <th>0</th>\n",
       "      <td>9438</td>\n",
       "      <td>Malwani, Goan, North Indian</td>\n",
       "      <td>11am – 4pm, 7:30pm – 11:30pm (Mon-Sun)</td>\n",
       "      <td>Thane</td>\n",
       "      <td>Dombivali East</td>\n",
       "      <td>3.6</td>\n",
       "      <td>49 votes</td>\n",
       "      <td>1200</td>\n",
       "      <td>CASUAL DINING</td>\n",
       "      <td>NaN</td>\n",
       "    </tr>\n",
       "    <tr>\n",
       "      <th>1</th>\n",
       "      <td>13198</td>\n",
       "      <td>Asian, Modern Indian, Japanese</td>\n",
       "      <td>6pm – 11pm (Mon-Sun)</td>\n",
       "      <td>Chennai</td>\n",
       "      <td>Ramapuram</td>\n",
       "      <td>4.2</td>\n",
       "      <td>30 votes</td>\n",
       "      <td>1500</td>\n",
       "      <td>CASUAL DINING</td>\n",
       "      <td>BAR</td>\n",
       "    </tr>\n",
       "    <tr>\n",
       "      <th>2</th>\n",
       "      <td>10915</td>\n",
       "      <td>North Indian, Chinese, Biryani, Hyderabadi</td>\n",
       "      <td>11am – 3:30pm, 7pm – 11pm (Mon-Sun)</td>\n",
       "      <td>Chennai</td>\n",
       "      <td>Saligramam</td>\n",
       "      <td>3.8</td>\n",
       "      <td>221 votes</td>\n",
       "      <td>800</td>\n",
       "      <td>CASUAL DINING</td>\n",
       "      <td>NaN</td>\n",
       "    </tr>\n",
       "    <tr>\n",
       "      <th>3</th>\n",
       "      <td>6346</td>\n",
       "      <td>Tibetan, Chinese</td>\n",
       "      <td>11:30am – 1am (Mon-Sun)</td>\n",
       "      <td>Mumbai</td>\n",
       "      <td>Bandra West</td>\n",
       "      <td>4.1</td>\n",
       "      <td>24 votes</td>\n",
       "      <td>800</td>\n",
       "      <td>QUICK BITES</td>\n",
       "      <td>NaN</td>\n",
       "    </tr>\n",
       "    <tr>\n",
       "      <th>4</th>\n",
       "      <td>15387</td>\n",
       "      <td>Desserts</td>\n",
       "      <td>11am – 1am (Mon-Sun)</td>\n",
       "      <td>Mumbai</td>\n",
       "      <td>Lower Parel</td>\n",
       "      <td>3.8</td>\n",
       "      <td>165 votes</td>\n",
       "      <td>300</td>\n",
       "      <td>DESSERT PARLOR</td>\n",
       "      <td>NaN</td>\n",
       "    </tr>\n",
       "  </tbody>\n",
       "</table>\n",
       "</div>"
      ],
      "text/plain": [
       "   RESTAURANT_ID                                    CUISINES  \\\n",
       "0           9438                 Malwani, Goan, North Indian   \n",
       "1          13198              Asian, Modern Indian, Japanese   \n",
       "2          10915  North Indian, Chinese, Biryani, Hyderabadi   \n",
       "3           6346                            Tibetan, Chinese   \n",
       "4          15387                                    Desserts   \n",
       "\n",
       "                                     TIME     CITY        LOCALITY  RATING  \\\n",
       "0  11am – 4pm, 7:30pm – 11:30pm (Mon-Sun)    Thane  Dombivali East     3.6   \n",
       "1                    6pm – 11pm (Mon-Sun)  Chennai       Ramapuram     4.2   \n",
       "2     11am – 3:30pm, 7pm – 11pm (Mon-Sun)  Chennai      Saligramam     3.8   \n",
       "3                 11:30am – 1am (Mon-Sun)   Mumbai     Bandra West     4.1   \n",
       "4                    11am – 1am (Mon-Sun)   Mumbai     Lower Parel     3.8   \n",
       "\n",
       "       VOTES  COST         TITLE 1 TITLE 2  \n",
       "0   49 votes  1200   CASUAL DINING     NaN  \n",
       "1   30 votes  1500   CASUAL DINING     BAR  \n",
       "2  221 votes   800   CASUAL DINING     NaN  \n",
       "3   24 votes   800     QUICK BITES     NaN  \n",
       "4  165 votes   300  DESSERT PARLOR     NaN  "
      ]
     },
     "execution_count": 28,
     "metadata": {},
     "output_type": "execute_result"
    }
   ],
   "source": [
    "#splitting title into 2 different columns\n",
    "df['TITLE 1'] = df[\"TITLE\"].str.split(\",\").str[0]\n",
    "df['TITLE 2']=df[\"TITLE\"].str.split(\",\").str[1]\n",
    "\n",
    "#dropping 'TITLE' column\n",
    "df.drop(['TITLE'],axis=1,inplace=True)\n",
    "df.head()"
   ]
  },
  {
   "cell_type": "code",
   "execution_count": 29,
   "metadata": {},
   "outputs": [
    {
     "data": {
      "text/plain": [
       "0"
      ]
     },
     "execution_count": 29,
     "metadata": {},
     "output_type": "execute_result"
    }
   ],
   "source": [
    "#check Nulls in title 1\n",
    "df['TITLE 1'].isnull().sum()"
   ]
  },
  {
   "cell_type": "code",
   "execution_count": 30,
   "metadata": {},
   "outputs": [
    {
     "data": {
      "text/plain": [
       "11208"
      ]
     },
     "execution_count": 30,
     "metadata": {},
     "output_type": "execute_result"
    }
   ],
   "source": [
    "#check Nulls in title 2\n",
    "df['TITLE 2'].isnull().sum()"
   ]
  },
  {
   "cell_type": "code",
   "execution_count": 31,
   "metadata": {},
   "outputs": [],
   "source": [
    "#filling the null in titile 2 with not known\n",
    "df['TITLE 2'].fillna(\"Not Known\",inplace=True)"
   ]
  },
  {
   "cell_type": "code",
   "execution_count": 32,
   "metadata": {},
   "outputs": [
    {
     "data": {
      "text/html": [
       "<div>\n",
       "<style scoped>\n",
       "    .dataframe tbody tr th:only-of-type {\n",
       "        vertical-align: middle;\n",
       "    }\n",
       "\n",
       "    .dataframe tbody tr th {\n",
       "        vertical-align: top;\n",
       "    }\n",
       "\n",
       "    .dataframe thead th {\n",
       "        text-align: right;\n",
       "    }\n",
       "</style>\n",
       "<table border=\"1\" class=\"dataframe\">\n",
       "  <thead>\n",
       "    <tr style=\"text-align: right;\">\n",
       "      <th></th>\n",
       "      <th>RESTAURANT_ID</th>\n",
       "      <th>CUISINES</th>\n",
       "      <th>TIME</th>\n",
       "      <th>CITY</th>\n",
       "      <th>LOCALITY</th>\n",
       "      <th>RATING</th>\n",
       "      <th>VOTES</th>\n",
       "      <th>COST</th>\n",
       "      <th>TITLE 1</th>\n",
       "      <th>TITLE 2</th>\n",
       "    </tr>\n",
       "  </thead>\n",
       "  <tbody>\n",
       "    <tr>\n",
       "      <th>0</th>\n",
       "      <td>9438</td>\n",
       "      <td>Malwani, Goan, North Indian</td>\n",
       "      <td>11am – 4pm, 7:30pm – 11:30pm (Mon-Sun)</td>\n",
       "      <td>Thane</td>\n",
       "      <td>Dombivali East</td>\n",
       "      <td>3.6</td>\n",
       "      <td>49</td>\n",
       "      <td>1200</td>\n",
       "      <td>CASUAL DINING</td>\n",
       "      <td>Not Known</td>\n",
       "    </tr>\n",
       "    <tr>\n",
       "      <th>1</th>\n",
       "      <td>13198</td>\n",
       "      <td>Asian, Modern Indian, Japanese</td>\n",
       "      <td>6pm – 11pm (Mon-Sun)</td>\n",
       "      <td>Chennai</td>\n",
       "      <td>Ramapuram</td>\n",
       "      <td>4.2</td>\n",
       "      <td>30</td>\n",
       "      <td>1500</td>\n",
       "      <td>CASUAL DINING</td>\n",
       "      <td>BAR</td>\n",
       "    </tr>\n",
       "    <tr>\n",
       "      <th>2</th>\n",
       "      <td>10915</td>\n",
       "      <td>North Indian, Chinese, Biryani, Hyderabadi</td>\n",
       "      <td>11am – 3:30pm, 7pm – 11pm (Mon-Sun)</td>\n",
       "      <td>Chennai</td>\n",
       "      <td>Saligramam</td>\n",
       "      <td>3.8</td>\n",
       "      <td>221</td>\n",
       "      <td>800</td>\n",
       "      <td>CASUAL DINING</td>\n",
       "      <td>Not Known</td>\n",
       "    </tr>\n",
       "    <tr>\n",
       "      <th>3</th>\n",
       "      <td>6346</td>\n",
       "      <td>Tibetan, Chinese</td>\n",
       "      <td>11:30am – 1am (Mon-Sun)</td>\n",
       "      <td>Mumbai</td>\n",
       "      <td>Bandra West</td>\n",
       "      <td>4.1</td>\n",
       "      <td>24</td>\n",
       "      <td>800</td>\n",
       "      <td>QUICK BITES</td>\n",
       "      <td>Not Known</td>\n",
       "    </tr>\n",
       "    <tr>\n",
       "      <th>4</th>\n",
       "      <td>15387</td>\n",
       "      <td>Desserts</td>\n",
       "      <td>11am – 1am (Mon-Sun)</td>\n",
       "      <td>Mumbai</td>\n",
       "      <td>Lower Parel</td>\n",
       "      <td>3.8</td>\n",
       "      <td>165</td>\n",
       "      <td>300</td>\n",
       "      <td>DESSERT PARLOR</td>\n",
       "      <td>Not Known</td>\n",
       "    </tr>\n",
       "  </tbody>\n",
       "</table>\n",
       "</div>"
      ],
      "text/plain": [
       "   RESTAURANT_ID                                    CUISINES  \\\n",
       "0           9438                 Malwani, Goan, North Indian   \n",
       "1          13198              Asian, Modern Indian, Japanese   \n",
       "2          10915  North Indian, Chinese, Biryani, Hyderabadi   \n",
       "3           6346                            Tibetan, Chinese   \n",
       "4          15387                                    Desserts   \n",
       "\n",
       "                                     TIME     CITY        LOCALITY  RATING  \\\n",
       "0  11am – 4pm, 7:30pm – 11:30pm (Mon-Sun)    Thane  Dombivali East     3.6   \n",
       "1                    6pm – 11pm (Mon-Sun)  Chennai       Ramapuram     4.2   \n",
       "2     11am – 3:30pm, 7pm – 11pm (Mon-Sun)  Chennai      Saligramam     3.8   \n",
       "3                 11:30am – 1am (Mon-Sun)   Mumbai     Bandra West     4.1   \n",
       "4                    11am – 1am (Mon-Sun)   Mumbai     Lower Parel     3.8   \n",
       "\n",
       "  VOTES  COST         TITLE 1    TITLE 2  \n",
       "0    49  1200   CASUAL DINING  Not Known  \n",
       "1    30  1500   CASUAL DINING        BAR  \n",
       "2   221   800   CASUAL DINING  Not Known  \n",
       "3    24   800     QUICK BITES  Not Known  \n",
       "4   165   300  DESSERT PARLOR  Not Known  "
      ]
     },
     "execution_count": 32,
     "metadata": {},
     "output_type": "execute_result"
    }
   ],
   "source": [
    "#breaking the votes column for visualization\n",
    "#splitting votes\n",
    "df['VOTES']=df['VOTES'].str.split(' ').str[0]\n",
    "df.head()"
   ]
  },
  {
   "cell_type": "code",
   "execution_count": 33,
   "metadata": {},
   "outputs": [],
   "source": [
    "#changing data type for votes\n",
    "df['VOTES']=df['VOTES'].astype(int)"
   ]
  },
  {
   "cell_type": "code",
   "execution_count": 34,
   "metadata": {},
   "outputs": [],
   "source": [
    "df['VOTES']=df['VOTES'].replace({00:132.0})"
   ]
  },
  {
   "cell_type": "markdown",
   "metadata": {},
   "source": [
    "# EDA"
   ]
  },
  {
   "cell_type": "code",
   "execution_count": 35,
   "metadata": {},
   "outputs": [],
   "source": [
    "#import libraries\n",
    "import matplotlib.pyplot as plt\n",
    "import seaborn as sns\n",
    "import warnings\n",
    "warnings.filterwarnings('ignore')"
   ]
  },
  {
   "cell_type": "code",
   "execution_count": 36,
   "metadata": {},
   "outputs": [
    {
     "data": {
      "image/png": "[encoded data removed]",
      "text/plain": [
       "<Figure size 1440x360 with 1 Axes>"
      ]
     },
     "metadata": {
      "needs_background": "light"
     },
     "output_type": "display_data"
    },
    {
     "name": "stdout",
     "output_type": "stream",
     "text": [
      "QUICK BITES       4337\n",
      "CASUAL DINING     4122\n",
      "None              1003\n",
      "CAFÉ               749\n",
      "DESSERT PARLOR     478\n",
      "BAKERY             463\n",
      "FINE DINING        350\n",
      "BAR                254\n",
      "BEVERAGE SHOP      215\n",
      "LOUNGE             154\n",
      "PUB                103\n",
      "SWEET SHOP         102\n",
      "FOOD COURT          93\n",
      "KIOSK               56\n",
      "MESS                53\n",
      "DHABA               45\n",
      "MICROBREWERY        44\n",
      "FOOD TRUCK          30\n",
      "CLUB                23\n",
      "COCKTAIL BAR         6\n",
      "PAAN SHOP            4\n",
      "MEAT SHOP            3\n",
      "CONFECTIONERY        3\n",
      "Name: TITLE 1, dtype: int64\n"
     ]
    }
   ],
   "source": [
    "plt.figure(figsize=(20,5))\n",
    "sns.countplot(df['TITLE 1'])\n",
    "plt.xticks(rotation=60)\n",
    "plt.title(\"Title 1 count\")\n",
    "plt.show()\n",
    "\n",
    "print(df['TITLE 1'].value_counts())"
   ]
  },
  {
   "cell_type": "markdown",
   "metadata": {},
   "source": [
    "observations\n",
    "Most of the restaurants were quick bites and casual dinings\n",
    "\n",
    "The records for PAAN SHOP ,MEAT SHOP and CONFECTIONARY were the least"
   ]
  },
  {
   "cell_type": "code",
   "execution_count": 37,
   "metadata": {},
   "outputs": [
    {
     "data": {
      "image/png": "[encoded data removed]",
      "text/plain": [
       "<Figure size 1440x360 with 1 Axes>"
      ]
     },
     "metadata": {
      "needs_background": "light"
     },
     "output_type": "display_data"
    }
   ],
   "source": [
    "plt.figure(figsize=(20,5))\n",
    "sns.countplot(df['TITLE 2'])\n",
    "plt.xticks(rotation=60)\n",
    "plt.title(\"Title 2 count\")\n",
    "plt.show()"
   ]
  },
  {
   "cell_type": "markdown",
   "metadata": {},
   "source": [
    "bar has the most entries\n",
    "\n",
    "Not Known are the maximum"
   ]
  },
  {
   "cell_type": "code",
   "execution_count": 38,
   "metadata": {},
   "outputs": [
    {
     "data": {
      "image/png": "[encoded data removed]",
      "text/plain": [
       "<Figure size 1080x432 with 1 Axes>"
      ]
     },
     "metadata": {
      "needs_background": "light"
     },
     "output_type": "display_data"
    }
   ],
   "source": [
    "#relationship between fees and profiles\n",
    "plt.figure(figsize=(15,6))\n",
    "sns.barplot(y=\"COST\",x=\"TITLE 1\",palette='tab20',data=df)\n",
    "plt.xticks(rotation=90)\n",
    "plt.show()"
   ]
  },
  {
   "cell_type": "code",
   "execution_count": 39,
   "metadata": {},
   "outputs": [
    {
     "data": {
      "image/png": "[encoded data removed]",
      "text/plain": [
       "<Figure size 864x432 with 1 Axes>"
      ]
     },
     "metadata": {
      "needs_background": "light"
     },
     "output_type": "display_data"
    }
   ],
   "source": [
    "#relationship between RATINGS and COST\n",
    "plt.figure(figsize=(12,6))\n",
    "sns.barplot(y=\"COST\",x=\"RATING\",palette='cubehelix_r',data=df)\n",
    "plt.show()"
   ]
  },
  {
   "cell_type": "markdown",
   "metadata": {},
   "source": [
    "observations\n",
    "the restaurants with good ratings were expensive\n",
    "\n",
    "we can see that when the ratings were above 4 the cost was from 900 to 1400\n",
    "\n",
    "some restaurants which were rated as 2.1 aslo had high cost\n",
    "\n",
    "for the ratings from 2.8 to 3.4 the restaurant costs were less"
   ]
  },
  {
   "cell_type": "code",
   "execution_count": 40,
   "metadata": {},
   "outputs": [
    {
     "data": {
      "image/png": "[encoded data removed]",
      "text/plain": [
       "<Figure size 432x288 with 1 Axes>"
      ]
     },
     "metadata": {
      "needs_background": "light"
     },
     "output_type": "display_data"
    }
   ],
   "source": [
    "sns.distplot(df['RATING'])\n",
    "plt.show()"
   ]
  },
  {
   "cell_type": "markdown",
   "metadata": {},
   "source": [
    "observation\n",
    "The data is left skewed with skewness =-2.2"
   ]
  },
  {
   "cell_type": "code",
   "execution_count": 41,
   "metadata": {},
   "outputs": [
    {
     "data": {
      "image/png": "[encoded data removed]",
      "text/plain": [
       "<Figure size 432x288 with 1 Axes>"
      ]
     },
     "metadata": {
      "needs_background": "light"
     },
     "output_type": "display_data"
    }
   ],
   "source": [
    "sns.boxplot(df['RATING'],orient='v',palette='cubehelix')\n",
    "plt.show()"
   ]
  },
  {
   "cell_type": "markdown",
   "metadata": {},
   "source": [
    "There are outliers present in the rating column"
   ]
  },
  {
   "cell_type": "code",
   "execution_count": 42,
   "metadata": {},
   "outputs": [
    {
     "data": {
      "image/png": "[encoded data removed]",
      "text/plain": [
       "<Figure size 432x288 with 1 Axes>"
      ]
     },
     "metadata": {
      "needs_background": "light"
     },
     "output_type": "display_data"
    }
   ],
   "source": [
    "sns.distplot(df['VOTES'])\n",
    "plt.show()"
   ]
  },
  {
   "cell_type": "markdown",
   "metadata": {},
   "source": [
    "the data has skewness of 14.522616927774232"
   ]
  },
  {
   "cell_type": "code",
   "execution_count": 43,
   "metadata": {},
   "outputs": [
    {
     "data": {
      "image/png": "[encoded data removed]",
      "text/plain": [
       "<Figure size 432x288 with 1 Axes>"
      ]
     },
     "metadata": {
      "needs_background": "light"
     },
     "output_type": "display_data"
    }
   ],
   "source": [
    "sns.boxplot(df['VOTES'],orient='v',color='lightgreen')\n",
    "plt.show()"
   ]
  },
  {
   "cell_type": "code",
   "execution_count": 44,
   "metadata": {},
   "outputs": [
    {
     "data": {
      "image/png": "[encoded data removed]",
      "text/plain": [
       "<Figure size 432x288 with 1 Axes>"
      ]
     },
     "metadata": {
      "needs_background": "light"
     },
     "output_type": "display_data"
    }
   ],
   "source": [
    "sns.distplot(df['COST'])\n",
    "plt.show()"
   ]
  },
  {
   "cell_type": "markdown",
   "metadata": {},
   "source": [
    "observation:\n",
    "The data is right skewed with skewness = 3.978"
   ]
  },
  {
   "cell_type": "code",
   "execution_count": 45,
   "metadata": {},
   "outputs": [
    {
     "data": {
      "image/png": "[encoded data removed]",
      "text/plain": [
       "<Figure size 432x288 with 1 Axes>"
      ]
     },
     "metadata": {
      "needs_background": "light"
     },
     "output_type": "display_data"
    }
   ],
   "source": [
    "sns.boxplot(df['COST'],orient='v',color='lightgreen')\n",
    "plt.show()"
   ]
  },
  {
   "cell_type": "markdown",
   "metadata": {},
   "source": [
    "outliers are present"
   ]
  },
  {
   "cell_type": "code",
   "execution_count": 46,
   "metadata": {},
   "outputs": [
    {
     "data": {
      "image/png": "[encoded data removed]",
      "text/plain": [
       "<Figure size 432x288 with 1 Axes>"
      ]
     },
     "metadata": {
      "needs_background": "light"
     },
     "output_type": "display_data"
    }
   ],
   "source": [
    "sns.scatterplot(x=\"VOTES\",y='COST',color='r',data=df)\n",
    "plt.show()"
   ]
  },
  {
   "cell_type": "markdown",
   "metadata": {},
   "source": [
    "observation\n",
    "\n",
    "for the votes between 0 to 50,000 the cost was increasing"
   ]
  },
  {
   "cell_type": "code",
   "execution_count": 47,
   "metadata": {},
   "outputs": [
    {
     "data": {
      "image/png": "[encoded data removed]",
      "text/plain": [
       "<Figure size 432x288 with 1 Axes>"
      ]
     },
     "metadata": {
      "needs_background": "light"
     },
     "output_type": "display_data"
    }
   ],
   "source": [
    "sns.scatterplot(x=\"RATING\",y='COST',color='G',data=df)\n",
    "plt.show()"
   ]
  },
  {
   "cell_type": "markdown",
   "metadata": {},
   "source": [
    "observation\n",
    "\n",
    "the cost for higher ratings are high\n",
    "\n",
    "data is dense for 3.5 to 5"
   ]
  },
  {
   "cell_type": "code",
   "execution_count": 48,
   "metadata": {},
   "outputs": [
    {
     "data": {
      "image/png": "[encoded data removed]",
      "text/plain": [
       "<Figure size 432x288 with 1 Axes>"
      ]
     },
     "metadata": {
      "needs_background": "light"
     },
     "output_type": "display_data"
    }
   ],
   "source": [
    "#cost\n",
    "import numpy as np\n",
    "plt.hist(df['COST'],bins=10)\n",
    "mean_value=np.mean(df['COST'])\n",
    "plt.axvline(mean_value,color='r')\n",
    "plt.show()"
   ]
  },
  {
   "cell_type": "markdown",
   "metadata": {},
   "source": [
    "Observation\n",
    "\n",
    "The maximum cost=1400 and min cost =5\n",
    "\n",
    "The mean value of cost is 655.2522458628841"
   ]
  },
  {
   "cell_type": "code",
   "execution_count": 49,
   "metadata": {},
   "outputs": [
    {
     "data": {
      "image/png": "[encoded data removed]",
      "text/plain": [
       "<Figure size 1440x432 with 1 Axes>"
      ]
     },
     "metadata": {
      "needs_background": "light"
     },
     "output_type": "display_data"
    }
   ],
   "source": [
    "plt.figure(figsize=(20,6))\n",
    "sns.countplot(df['COST'])\n",
    "plt.xticks(rotation=90,weight='bold')\n",
    "plt.show()"
   ]
  },
  {
   "cell_type": "markdown",
   "metadata": {},
   "source": [
    "observation\n",
    "\n",
    "About 1600 restaurants costed for Rs 300\n",
    "\n",
    "Restaurants with cost 400 and 500 were also more( nearly 1400 and 1300 in number )"
   ]
  },
  {
   "cell_type": "code",
   "execution_count": 50,
   "metadata": {},
   "outputs": [
    {
     "data": {
      "image/png": "[encoded data removed]",
      "text/plain": [
       "<Figure size 720x720 with 20 Axes>"
      ]
     },
     "metadata": {
      "needs_background": "light"
     },
     "output_type": "display_data"
    }
   ],
   "source": [
    "sns.pairplot(df)\n",
    "plt.show()"
   ]
  },
  {
   "cell_type": "markdown",
   "metadata": {},
   "source": [
    "restaurant id is irregularly distributed\n",
    "\n",
    "cost can be seen in bins \n",
    "\n",
    "ratings and cost have linear relationship\n",
    "\n",
    "votes and ratings also show good correlation"
   ]
  },
  {
   "cell_type": "markdown",
   "metadata": {},
   "source": [
    "# STATISTICAL ANALYSIS"
   ]
  },
  {
   "cell_type": "code",
   "execution_count": 51,
   "metadata": {},
   "outputs": [
    {
     "data": {
      "text/html": [
       "<div>\n",
       "<style scoped>\n",
       "    .dataframe tbody tr th:only-of-type {\n",
       "        vertical-align: middle;\n",
       "    }\n",
       "\n",
       "    .dataframe tbody tr th {\n",
       "        vertical-align: top;\n",
       "    }\n",
       "\n",
       "    .dataframe thead th {\n",
       "        text-align: right;\n",
       "    }\n",
       "</style>\n",
       "<table border=\"1\" class=\"dataframe\">\n",
       "  <thead>\n",
       "    <tr style=\"text-align: right;\">\n",
       "      <th></th>\n",
       "      <th>RESTAURANT_ID</th>\n",
       "      <th>RATING</th>\n",
       "      <th>VOTES</th>\n",
       "      <th>COST</th>\n",
       "    </tr>\n",
       "  </thead>\n",
       "  <tbody>\n",
       "    <tr>\n",
       "      <th>RESTAURANT_ID</th>\n",
       "      <td>1.000000</td>\n",
       "      <td>0.038031</td>\n",
       "      <td>-0.000272</td>\n",
       "      <td>0.040710</td>\n",
       "    </tr>\n",
       "    <tr>\n",
       "      <th>RATING</th>\n",
       "      <td>0.038031</td>\n",
       "      <td>1.000000</td>\n",
       "      <td>0.351515</td>\n",
       "      <td>0.342828</td>\n",
       "    </tr>\n",
       "    <tr>\n",
       "      <th>VOTES</th>\n",
       "      <td>-0.000272</td>\n",
       "      <td>0.351515</td>\n",
       "      <td>1.000000</td>\n",
       "      <td>0.252497</td>\n",
       "    </tr>\n",
       "    <tr>\n",
       "      <th>COST</th>\n",
       "      <td>0.040710</td>\n",
       "      <td>0.342828</td>\n",
       "      <td>0.252497</td>\n",
       "      <td>1.000000</td>\n",
       "    </tr>\n",
       "  </tbody>\n",
       "</table>\n",
       "</div>"
      ],
      "text/plain": [
       "               RESTAURANT_ID    RATING     VOTES      COST\n",
       "RESTAURANT_ID       1.000000  0.038031 -0.000272  0.040710\n",
       "RATING              0.038031  1.000000  0.351515  0.342828\n",
       "VOTES              -0.000272  0.351515  1.000000  0.252497\n",
       "COST                0.040710  0.342828  0.252497  1.000000"
      ]
     },
     "execution_count": 51,
     "metadata": {},
     "output_type": "execute_result"
    }
   ],
   "source": [
    "#checking correlation of variables\n",
    "df.corr()"
   ]
  },
  {
   "cell_type": "code",
   "execution_count": 52,
   "metadata": {},
   "outputs": [
    {
     "data": {
      "image/png": "[encoded data removed]",
      "text/plain": [
       "<Figure size 576x216 with 2 Axes>"
      ]
     },
     "metadata": {
      "needs_background": "light"
     },
     "output_type": "display_data"
    }
   ],
   "source": [
    "#visualizing the heatmap of correlation\n",
    "plt.figure(figsize=(8,3))\n",
    "sns.heatmap(df.corr(),annot=True,fmt='.2f',cmap='mako')\n",
    "plt.show()"
   ]
  },
  {
   "cell_type": "markdown",
   "metadata": {},
   "source": [
    "observation\n",
    "\n",
    "Restaurant_Id has a correlation of 0.04 with target(i.e COST)\n",
    "\n",
    "RATING has a correlation of 0.34 with target\n",
    "\n",
    "VOTES have a correlation of 0.26 with target\n",
    "\n",
    "Therefore votes have the highest correlation while restaurant id has the least"
   ]
  },
  {
   "cell_type": "code",
   "execution_count": 53,
   "metadata": {},
   "outputs": [
    {
     "data": {
      "text/html": [
       "<div>\n",
       "<style scoped>\n",
       "    .dataframe tbody tr th:only-of-type {\n",
       "        vertical-align: middle;\n",
       "    }\n",
       "\n",
       "    .dataframe tbody tr th {\n",
       "        vertical-align: top;\n",
       "    }\n",
       "\n",
       "    .dataframe thead th {\n",
       "        text-align: right;\n",
       "    }\n",
       "</style>\n",
       "<table border=\"1\" class=\"dataframe\">\n",
       "  <thead>\n",
       "    <tr style=\"text-align: right;\">\n",
       "      <th></th>\n",
       "      <th>RESTAURANT_ID</th>\n",
       "      <th>RATING</th>\n",
       "      <th>VOTES</th>\n",
       "      <th>COST</th>\n",
       "    </tr>\n",
       "  </thead>\n",
       "  <tbody>\n",
       "    <tr>\n",
       "      <th>count</th>\n",
       "      <td>12690.000000</td>\n",
       "      <td>12690.000000</td>\n",
       "      <td>12690.000000</td>\n",
       "      <td>12690.000000</td>\n",
       "    </tr>\n",
       "    <tr>\n",
       "      <th>mean</th>\n",
       "      <td>7759.134121</td>\n",
       "      <td>3.711072</td>\n",
       "      <td>388.755004</td>\n",
       "      <td>655.252246</td>\n",
       "    </tr>\n",
       "    <tr>\n",
       "      <th>std</th>\n",
       "      <td>4504.874150</td>\n",
       "      <td>0.462779</td>\n",
       "      <td>806.043968</td>\n",
       "      <td>627.003540</td>\n",
       "    </tr>\n",
       "    <tr>\n",
       "      <th>min</th>\n",
       "      <td>0.000000</td>\n",
       "      <td>2.000000</td>\n",
       "      <td>4.000000</td>\n",
       "      <td>20.000000</td>\n",
       "    </tr>\n",
       "    <tr>\n",
       "      <th>25%</th>\n",
       "      <td>3863.250000</td>\n",
       "      <td>3.400000</td>\n",
       "      <td>64.000000</td>\n",
       "      <td>300.000000</td>\n",
       "    </tr>\n",
       "    <tr>\n",
       "      <th>50%</th>\n",
       "      <td>7740.000000</td>\n",
       "      <td>3.800000</td>\n",
       "      <td>132.000000</td>\n",
       "      <td>500.000000</td>\n",
       "    </tr>\n",
       "    <tr>\n",
       "      <th>75%</th>\n",
       "      <td>11688.750000</td>\n",
       "      <td>4.000000</td>\n",
       "      <td>405.000000</td>\n",
       "      <td>800.000000</td>\n",
       "    </tr>\n",
       "    <tr>\n",
       "      <th>max</th>\n",
       "      <td>15573.000000</td>\n",
       "      <td>4.900000</td>\n",
       "      <td>41186.000000</td>\n",
       "      <td>14000.000000</td>\n",
       "    </tr>\n",
       "  </tbody>\n",
       "</table>\n",
       "</div>"
      ],
      "text/plain": [
       "       RESTAURANT_ID        RATING         VOTES          COST\n",
       "count   12690.000000  12690.000000  12690.000000  12690.000000\n",
       "mean     7759.134121      3.711072    388.755004    655.252246\n",
       "std      4504.874150      0.462779    806.043968    627.003540\n",
       "min         0.000000      2.000000      4.000000     20.000000\n",
       "25%      3863.250000      3.400000     64.000000    300.000000\n",
       "50%      7740.000000      3.800000    132.000000    500.000000\n",
       "75%     11688.750000      4.000000    405.000000    800.000000\n",
       "max     15573.000000      4.900000  41186.000000  14000.000000"
      ]
     },
     "execution_count": 53,
     "metadata": {},
     "output_type": "execute_result"
    }
   ],
   "source": [
    "#statistical summary\n",
    "df.describe()"
   ]
  },
  {
   "cell_type": "markdown",
   "metadata": {},
   "source": [
    "Observation\n",
    "\n",
    "The standard deviation for all features is very high\n",
    "\n",
    "Rating has the least std deviation\n",
    "\n",
    "The maximum food cost is 14000 and minimum is 20"
   ]
  },
  {
   "cell_type": "code",
   "execution_count": 54,
   "metadata": {},
   "outputs": [
    {
     "data": {
      "image/png": "[encoded data removed]",
      "text/plain": [
       "<Figure size 720x288 with 2 Axes>"
      ]
     },
     "metadata": {
      "needs_background": "light"
     },
     "output_type": "display_data"
    }
   ],
   "source": [
    "#visualizing the heatmap of correlation\n",
    "plt.figure(figsize=(10,4))\n",
    "sns.heatmap(df.describe()[1:].transpose(),annot=True,fmt='.2f',cmap='prism',linewidth=3,linecolor='black')\n",
    "plt.show()"
   ]
  },
  {
   "cell_type": "markdown",
   "metadata": {},
   "source": [
    "observations:\n",
    "1)Restaurant_Id:\n",
    "\n",
    "mean=7759.13\n",
    "\n",
    "median=7740.00\n",
    "\n",
    "std_dev=4504.87\n",
    "\n",
    "min=0.0\n",
    "\n",
    "max=15573\n",
    "2)Rating:\n",
    "\n",
    "mean=3.17\n",
    "\n",
    "median=3.80\n",
    "\n",
    "std_dev=0.46\n",
    "\n",
    "min=2.00\n",
    "\n",
    "max=4.90\n",
    "3)Votes:\n",
    "\n",
    "mean=388.76\n",
    "\n",
    "median=132.00\n",
    "\n",
    "std_dev=806.95\n",
    "\n",
    "min=4.00\n",
    "\n",
    "max=4186\n",
    "4)Cost:\n",
    "\n",
    "mean=6.55\n",
    "\n",
    "median=500\n",
    "\n",
    "std_dev=627.00\n",
    "\n",
    "min=20.00\n",
    "\n",
    "max=14000"
   ]
  },
  {
   "cell_type": "markdown",
   "metadata": {},
   "source": [
    "# As we can see 'RESTAURANT ID ' wont affect our target variable so we can drop it"
   ]
  },
  {
   "cell_type": "code",
   "execution_count": 55,
   "metadata": {},
   "outputs": [],
   "source": [
    "df.drop(['RESTAURANT_ID'],axis=1,inplace=True)"
   ]
  },
  {
   "cell_type": "markdown",
   "metadata": {},
   "source": [
    "# Splitting some features"
   ]
  },
  {
   "cell_type": "code",
   "execution_count": 56,
   "metadata": {},
   "outputs": [
    {
     "data": {
      "text/html": [
       "<div>\n",
       "<style scoped>\n",
       "    .dataframe tbody tr th:only-of-type {\n",
       "        vertical-align: middle;\n",
       "    }\n",
       "\n",
       "    .dataframe tbody tr th {\n",
       "        vertical-align: top;\n",
       "    }\n",
       "\n",
       "    .dataframe thead th {\n",
       "        text-align: right;\n",
       "    }\n",
       "</style>\n",
       "<table border=\"1\" class=\"dataframe\">\n",
       "  <thead>\n",
       "    <tr style=\"text-align: right;\">\n",
       "      <th></th>\n",
       "      <th>0</th>\n",
       "      <th>1</th>\n",
       "      <th>2</th>\n",
       "      <th>3</th>\n",
       "      <th>4</th>\n",
       "      <th>5</th>\n",
       "      <th>6</th>\n",
       "      <th>7</th>\n",
       "    </tr>\n",
       "  </thead>\n",
       "  <tbody>\n",
       "    <tr>\n",
       "      <th>0</th>\n",
       "      <td>Malwani</td>\n",
       "      <td>Goan</td>\n",
       "      <td>North Indian</td>\n",
       "      <td>None</td>\n",
       "      <td>None</td>\n",
       "      <td>None</td>\n",
       "      <td>None</td>\n",
       "      <td>None</td>\n",
       "    </tr>\n",
       "    <tr>\n",
       "      <th>1</th>\n",
       "      <td>Asian</td>\n",
       "      <td>Modern Indian</td>\n",
       "      <td>Japanese</td>\n",
       "      <td>None</td>\n",
       "      <td>None</td>\n",
       "      <td>None</td>\n",
       "      <td>None</td>\n",
       "      <td>None</td>\n",
       "    </tr>\n",
       "    <tr>\n",
       "      <th>2</th>\n",
       "      <td>North Indian</td>\n",
       "      <td>Chinese</td>\n",
       "      <td>Biryani</td>\n",
       "      <td>Hyderabadi</td>\n",
       "      <td>None</td>\n",
       "      <td>None</td>\n",
       "      <td>None</td>\n",
       "      <td>None</td>\n",
       "    </tr>\n",
       "    <tr>\n",
       "      <th>3</th>\n",
       "      <td>Tibetan</td>\n",
       "      <td>Chinese</td>\n",
       "      <td>None</td>\n",
       "      <td>None</td>\n",
       "      <td>None</td>\n",
       "      <td>None</td>\n",
       "      <td>None</td>\n",
       "      <td>None</td>\n",
       "    </tr>\n",
       "    <tr>\n",
       "      <th>4</th>\n",
       "      <td>Desserts</td>\n",
       "      <td>None</td>\n",
       "      <td>None</td>\n",
       "      <td>None</td>\n",
       "      <td>None</td>\n",
       "      <td>None</td>\n",
       "      <td>None</td>\n",
       "      <td>None</td>\n",
       "    </tr>\n",
       "    <tr>\n",
       "      <th>...</th>\n",
       "      <td>...</td>\n",
       "      <td>...</td>\n",
       "      <td>...</td>\n",
       "      <td>...</td>\n",
       "      <td>...</td>\n",
       "      <td>...</td>\n",
       "      <td>...</td>\n",
       "      <td>...</td>\n",
       "    </tr>\n",
       "    <tr>\n",
       "      <th>12685</th>\n",
       "      <td>North Indian</td>\n",
       "      <td>Burger</td>\n",
       "      <td>Kebab</td>\n",
       "      <td>None</td>\n",
       "      <td>None</td>\n",
       "      <td>None</td>\n",
       "      <td>None</td>\n",
       "      <td>None</td>\n",
       "    </tr>\n",
       "    <tr>\n",
       "      <th>12686</th>\n",
       "      <td>Goan</td>\n",
       "      <td>Continental</td>\n",
       "      <td>None</td>\n",
       "      <td>None</td>\n",
       "      <td>None</td>\n",
       "      <td>None</td>\n",
       "      <td>None</td>\n",
       "      <td>None</td>\n",
       "    </tr>\n",
       "    <tr>\n",
       "      <th>12687</th>\n",
       "      <td>Finger Food</td>\n",
       "      <td>Continental</td>\n",
       "      <td>Asian</td>\n",
       "      <td>Chinese</td>\n",
       "      <td>None</td>\n",
       "      <td>None</td>\n",
       "      <td>None</td>\n",
       "      <td>None</td>\n",
       "    </tr>\n",
       "    <tr>\n",
       "      <th>12688</th>\n",
       "      <td>North Indian</td>\n",
       "      <td>South Indian</td>\n",
       "      <td>Chinese</td>\n",
       "      <td>Street Food</td>\n",
       "      <td>None</td>\n",
       "      <td>None</td>\n",
       "      <td>None</td>\n",
       "      <td>None</td>\n",
       "    </tr>\n",
       "    <tr>\n",
       "      <th>12689</th>\n",
       "      <td>North Indian</td>\n",
       "      <td>Chinese</td>\n",
       "      <td>None</td>\n",
       "      <td>None</td>\n",
       "      <td>None</td>\n",
       "      <td>None</td>\n",
       "      <td>None</td>\n",
       "      <td>None</td>\n",
       "    </tr>\n",
       "  </tbody>\n",
       "</table>\n",
       "<p>12690 rows × 8 columns</p>\n",
       "</div>"
      ],
      "text/plain": [
       "                  0               1              2             3     4     5  \\\n",
       "0           Malwani            Goan   North Indian          None  None  None   \n",
       "1             Asian   Modern Indian       Japanese          None  None  None   \n",
       "2      North Indian         Chinese        Biryani    Hyderabadi  None  None   \n",
       "3           Tibetan         Chinese           None          None  None  None   \n",
       "4          Desserts            None           None          None  None  None   \n",
       "...             ...             ...            ...           ...   ...   ...   \n",
       "12685  North Indian          Burger          Kebab          None  None  None   \n",
       "12686          Goan     Continental           None          None  None  None   \n",
       "12687   Finger Food     Continental          Asian       Chinese  None  None   \n",
       "12688  North Indian    South Indian        Chinese   Street Food  None  None   \n",
       "12689  North Indian         Chinese           None          None  None  None   \n",
       "\n",
       "          6     7  \n",
       "0      None  None  \n",
       "1      None  None  \n",
       "2      None  None  \n",
       "3      None  None  \n",
       "4      None  None  \n",
       "...     ...   ...  \n",
       "12685  None  None  \n",
       "12686  None  None  \n",
       "12687  None  None  \n",
       "12688  None  None  \n",
       "12689  None  None  \n",
       "\n",
       "[12690 rows x 8 columns]"
      ]
     },
     "execution_count": 56,
     "metadata": {},
     "output_type": "execute_result"
    }
   ],
   "source": [
    "#splitting cuisines\n",
    "df['CUISINES'].str.split(\",\",expand=True)"
   ]
  },
  {
   "cell_type": "code",
   "execution_count": 57,
   "metadata": {},
   "outputs": [],
   "source": [
    "#assinging names to the spiltted columns\n",
    "split_cuisines = df[\"CUISINES\"].str.split(\",\", expand = True)\n",
    "df[\"CUISINE 1\"] = split_cuisines[0]\n",
    "df[\"CUISINE 2\"] = split_cuisines[1]\n",
    "df[\"CUISINE 3\"] = split_cuisines[2]\n",
    "df[\"CUISINE 4\"] = split_cuisines[3]\n",
    "df[\"CUISINE 5\"] = split_cuisines[4]\n",
    "df[\"CUISINE 6\"] = split_cuisines[5]\n",
    "df[\"CUISINE 7\"] = split_cuisines[6]\n",
    "df[\"CUISINE 8\"] = split_cuisines[7]"
   ]
  },
  {
   "cell_type": "code",
   "execution_count": 58,
   "metadata": {},
   "outputs": [
    {
     "data": {
      "text/html": [
       "<div>\n",
       "<style scoped>\n",
       "    .dataframe tbody tr th:only-of-type {\n",
       "        vertical-align: middle;\n",
       "    }\n",
       "\n",
       "    .dataframe tbody tr th {\n",
       "        vertical-align: top;\n",
       "    }\n",
       "\n",
       "    .dataframe thead th {\n",
       "        text-align: right;\n",
       "    }\n",
       "</style>\n",
       "<table border=\"1\" class=\"dataframe\">\n",
       "  <thead>\n",
       "    <tr style=\"text-align: right;\">\n",
       "      <th></th>\n",
       "      <th>TIME</th>\n",
       "      <th>CITY</th>\n",
       "      <th>LOCALITY</th>\n",
       "      <th>RATING</th>\n",
       "      <th>VOTES</th>\n",
       "      <th>COST</th>\n",
       "      <th>TITLE 1</th>\n",
       "      <th>TITLE 2</th>\n",
       "      <th>CUISINE 1</th>\n",
       "      <th>CUISINE 2</th>\n",
       "      <th>CUISINE 3</th>\n",
       "      <th>CUISINE 4</th>\n",
       "      <th>CUISINE 5</th>\n",
       "      <th>CUISINE 6</th>\n",
       "      <th>CUISINE 7</th>\n",
       "      <th>CUISINE 8</th>\n",
       "    </tr>\n",
       "  </thead>\n",
       "  <tbody>\n",
       "    <tr>\n",
       "      <th>0</th>\n",
       "      <td>11am – 4pm, 7:30pm – 11:30pm (Mon-Sun)</td>\n",
       "      <td>Thane</td>\n",
       "      <td>Dombivali East</td>\n",
       "      <td>3.6</td>\n",
       "      <td>49.0</td>\n",
       "      <td>1200</td>\n",
       "      <td>CASUAL DINING</td>\n",
       "      <td>Not Known</td>\n",
       "      <td>Malwani</td>\n",
       "      <td>Goan</td>\n",
       "      <td>North Indian</td>\n",
       "      <td>None</td>\n",
       "      <td>None</td>\n",
       "      <td>None</td>\n",
       "      <td>None</td>\n",
       "      <td>None</td>\n",
       "    </tr>\n",
       "    <tr>\n",
       "      <th>1</th>\n",
       "      <td>6pm – 11pm (Mon-Sun)</td>\n",
       "      <td>Chennai</td>\n",
       "      <td>Ramapuram</td>\n",
       "      <td>4.2</td>\n",
       "      <td>30.0</td>\n",
       "      <td>1500</td>\n",
       "      <td>CASUAL DINING</td>\n",
       "      <td>BAR</td>\n",
       "      <td>Asian</td>\n",
       "      <td>Modern Indian</td>\n",
       "      <td>Japanese</td>\n",
       "      <td>None</td>\n",
       "      <td>None</td>\n",
       "      <td>None</td>\n",
       "      <td>None</td>\n",
       "      <td>None</td>\n",
       "    </tr>\n",
       "    <tr>\n",
       "      <th>2</th>\n",
       "      <td>11am – 3:30pm, 7pm – 11pm (Mon-Sun)</td>\n",
       "      <td>Chennai</td>\n",
       "      <td>Saligramam</td>\n",
       "      <td>3.8</td>\n",
       "      <td>221.0</td>\n",
       "      <td>800</td>\n",
       "      <td>CASUAL DINING</td>\n",
       "      <td>Not Known</td>\n",
       "      <td>North Indian</td>\n",
       "      <td>Chinese</td>\n",
       "      <td>Biryani</td>\n",
       "      <td>Hyderabadi</td>\n",
       "      <td>None</td>\n",
       "      <td>None</td>\n",
       "      <td>None</td>\n",
       "      <td>None</td>\n",
       "    </tr>\n",
       "    <tr>\n",
       "      <th>3</th>\n",
       "      <td>11:30am – 1am (Mon-Sun)</td>\n",
       "      <td>Mumbai</td>\n",
       "      <td>Bandra West</td>\n",
       "      <td>4.1</td>\n",
       "      <td>24.0</td>\n",
       "      <td>800</td>\n",
       "      <td>QUICK BITES</td>\n",
       "      <td>Not Known</td>\n",
       "      <td>Tibetan</td>\n",
       "      <td>Chinese</td>\n",
       "      <td>None</td>\n",
       "      <td>None</td>\n",
       "      <td>None</td>\n",
       "      <td>None</td>\n",
       "      <td>None</td>\n",
       "      <td>None</td>\n",
       "    </tr>\n",
       "    <tr>\n",
       "      <th>4</th>\n",
       "      <td>11am – 1am (Mon-Sun)</td>\n",
       "      <td>Mumbai</td>\n",
       "      <td>Lower Parel</td>\n",
       "      <td>3.8</td>\n",
       "      <td>165.0</td>\n",
       "      <td>300</td>\n",
       "      <td>DESSERT PARLOR</td>\n",
       "      <td>Not Known</td>\n",
       "      <td>Desserts</td>\n",
       "      <td>None</td>\n",
       "      <td>None</td>\n",
       "      <td>None</td>\n",
       "      <td>None</td>\n",
       "      <td>None</td>\n",
       "      <td>None</td>\n",
       "      <td>None</td>\n",
       "    </tr>\n",
       "  </tbody>\n",
       "</table>\n",
       "</div>"
      ],
      "text/plain": [
       "                                     TIME     CITY        LOCALITY  RATING  \\\n",
       "0  11am – 4pm, 7:30pm – 11:30pm (Mon-Sun)    Thane  Dombivali East     3.6   \n",
       "1                    6pm – 11pm (Mon-Sun)  Chennai       Ramapuram     4.2   \n",
       "2     11am – 3:30pm, 7pm – 11pm (Mon-Sun)  Chennai      Saligramam     3.8   \n",
       "3                 11:30am – 1am (Mon-Sun)   Mumbai     Bandra West     4.1   \n",
       "4                    11am – 1am (Mon-Sun)   Mumbai     Lower Parel     3.8   \n",
       "\n",
       "   VOTES  COST         TITLE 1    TITLE 2     CUISINE 1       CUISINE 2  \\\n",
       "0   49.0  1200   CASUAL DINING  Not Known       Malwani            Goan   \n",
       "1   30.0  1500   CASUAL DINING        BAR         Asian   Modern Indian   \n",
       "2  221.0   800   CASUAL DINING  Not Known  North Indian         Chinese   \n",
       "3   24.0   800     QUICK BITES  Not Known       Tibetan         Chinese   \n",
       "4  165.0   300  DESSERT PARLOR  Not Known      Desserts            None   \n",
       "\n",
       "       CUISINE 3    CUISINE 4 CUISINE 5 CUISINE 6 CUISINE 7 CUISINE 8  \n",
       "0   North Indian         None      None      None      None      None  \n",
       "1       Japanese         None      None      None      None      None  \n",
       "2        Biryani   Hyderabadi      None      None      None      None  \n",
       "3           None         None      None      None      None      None  \n",
       "4           None         None      None      None      None      None  "
      ]
     },
     "execution_count": 58,
     "metadata": {},
     "output_type": "execute_result"
    }
   ],
   "source": [
    "df.drop(columns =[\"CUISINES\"],axis=1, inplace = True)\n",
    "df.head()"
   ]
  },
  {
   "cell_type": "code",
   "execution_count": 59,
   "metadata": {},
   "outputs": [
    {
     "data": {
      "text/plain": [
       "TIME             0\n",
       "CITY             0\n",
       "LOCALITY         0\n",
       "RATING           0\n",
       "VOTES            0\n",
       "COST             0\n",
       "TITLE 1          0\n",
       "TITLE 2          0\n",
       "CUISINE 1        0\n",
       "CUISINE 2     3062\n",
       "CUISINE 3     6999\n",
       "CUISINE 4     9995\n",
       "CUISINE 5    11675\n",
       "CUISINE 6    12276\n",
       "CUISINE 7    12514\n",
       "CUISINE 8    12613\n",
       "dtype: int64"
      ]
     },
     "execution_count": 59,
     "metadata": {},
     "output_type": "execute_result"
    }
   ],
   "source": [
    "df.isnull().sum() # out of the total 12690"
   ]
  },
  {
   "cell_type": "markdown",
   "metadata": {},
   "source": [
    "As the shape of our data is 12690*16 and most of the entries in couisines 4, 5 , 6 , 7 , 8 are Null we can drop these features"
   ]
  },
  {
   "cell_type": "code",
   "execution_count": 60,
   "metadata": {},
   "outputs": [],
   "source": [
    "df.drop(columns=['CUISINE 4','CUISINE 5','CUISINE 6','CUISINE 7','CUISINE 8'],axis=1,inplace=True)"
   ]
  },
  {
   "cell_type": "code",
   "execution_count": 61,
   "metadata": {},
   "outputs": [],
   "source": [
    "#filling the remaining Null values\n",
    "\n",
    "list1=['CUISINE 2','CUISINE 3']\n",
    "for k in list1:\n",
    "    df[k].fillna(\"Not known\",inplace=True)"
   ]
  },
  {
   "cell_type": "code",
   "execution_count": 62,
   "metadata": {},
   "outputs": [
    {
     "data": {
      "text/plain": [
       "TIME         0\n",
       "CITY         0\n",
       "LOCALITY     0\n",
       "RATING       0\n",
       "VOTES        0\n",
       "COST         0\n",
       "TITLE 1      0\n",
       "TITLE 2      0\n",
       "CUISINE 1    0\n",
       "CUISINE 2    0\n",
       "CUISINE 3    0\n",
       "dtype: int64"
      ]
     },
     "execution_count": 62,
     "metadata": {},
     "output_type": "execute_result"
    }
   ],
   "source": [
    "df.isnull().sum()"
   ]
  },
  {
   "cell_type": "code",
   "execution_count": 63,
   "metadata": {},
   "outputs": [
    {
     "data": {
      "text/html": [
       "<div>\n",
       "<style scoped>\n",
       "    .dataframe tbody tr th:only-of-type {\n",
       "        vertical-align: middle;\n",
       "    }\n",
       "\n",
       "    .dataframe tbody tr th {\n",
       "        vertical-align: top;\n",
       "    }\n",
       "\n",
       "    .dataframe thead th {\n",
       "        text-align: right;\n",
       "    }\n",
       "</style>\n",
       "<table border=\"1\" class=\"dataframe\">\n",
       "  <thead>\n",
       "    <tr style=\"text-align: right;\">\n",
       "      <th></th>\n",
       "      <th>TIME</th>\n",
       "      <th>CITY</th>\n",
       "      <th>LOCALITY</th>\n",
       "      <th>RATING</th>\n",
       "      <th>VOTES</th>\n",
       "      <th>COST</th>\n",
       "      <th>TITLE 1</th>\n",
       "      <th>TITLE 2</th>\n",
       "      <th>CUISINE 1</th>\n",
       "      <th>CUISINE 2</th>\n",
       "      <th>CUISINE 3</th>\n",
       "    </tr>\n",
       "  </thead>\n",
       "  <tbody>\n",
       "    <tr>\n",
       "      <th>0</th>\n",
       "      <td>11am – 4pm, 7:30pm – 11:30pm (Mon-Sun)</td>\n",
       "      <td>Thane</td>\n",
       "      <td>Dombivali East</td>\n",
       "      <td>3.6</td>\n",
       "      <td>49.0</td>\n",
       "      <td>1200</td>\n",
       "      <td>CASUAL DINING</td>\n",
       "      <td>Not Known</td>\n",
       "      <td>Malwani</td>\n",
       "      <td>Goan</td>\n",
       "      <td>North Indian</td>\n",
       "    </tr>\n",
       "    <tr>\n",
       "      <th>1</th>\n",
       "      <td>6pm – 11pm (Mon-Sun)</td>\n",
       "      <td>Chennai</td>\n",
       "      <td>Ramapuram</td>\n",
       "      <td>4.2</td>\n",
       "      <td>30.0</td>\n",
       "      <td>1500</td>\n",
       "      <td>CASUAL DINING</td>\n",
       "      <td>BAR</td>\n",
       "      <td>Asian</td>\n",
       "      <td>Modern Indian</td>\n",
       "      <td>Japanese</td>\n",
       "    </tr>\n",
       "    <tr>\n",
       "      <th>2</th>\n",
       "      <td>11am – 3:30pm, 7pm – 11pm (Mon-Sun)</td>\n",
       "      <td>Chennai</td>\n",
       "      <td>Saligramam</td>\n",
       "      <td>3.8</td>\n",
       "      <td>221.0</td>\n",
       "      <td>800</td>\n",
       "      <td>CASUAL DINING</td>\n",
       "      <td>Not Known</td>\n",
       "      <td>North Indian</td>\n",
       "      <td>Chinese</td>\n",
       "      <td>Biryani</td>\n",
       "    </tr>\n",
       "    <tr>\n",
       "      <th>3</th>\n",
       "      <td>11:30am – 1am (Mon-Sun)</td>\n",
       "      <td>Mumbai</td>\n",
       "      <td>Bandra West</td>\n",
       "      <td>4.1</td>\n",
       "      <td>24.0</td>\n",
       "      <td>800</td>\n",
       "      <td>QUICK BITES</td>\n",
       "      <td>Not Known</td>\n",
       "      <td>Tibetan</td>\n",
       "      <td>Chinese</td>\n",
       "      <td>Not known</td>\n",
       "    </tr>\n",
       "    <tr>\n",
       "      <th>4</th>\n",
       "      <td>11am – 1am (Mon-Sun)</td>\n",
       "      <td>Mumbai</td>\n",
       "      <td>Lower Parel</td>\n",
       "      <td>3.8</td>\n",
       "      <td>165.0</td>\n",
       "      <td>300</td>\n",
       "      <td>DESSERT PARLOR</td>\n",
       "      <td>Not Known</td>\n",
       "      <td>Desserts</td>\n",
       "      <td>Not known</td>\n",
       "      <td>Not known</td>\n",
       "    </tr>\n",
       "  </tbody>\n",
       "</table>\n",
       "</div>"
      ],
      "text/plain": [
       "                                     TIME     CITY        LOCALITY  RATING  \\\n",
       "0  11am – 4pm, 7:30pm – 11:30pm (Mon-Sun)    Thane  Dombivali East     3.6   \n",
       "1                    6pm – 11pm (Mon-Sun)  Chennai       Ramapuram     4.2   \n",
       "2     11am – 3:30pm, 7pm – 11pm (Mon-Sun)  Chennai      Saligramam     3.8   \n",
       "3                 11:30am – 1am (Mon-Sun)   Mumbai     Bandra West     4.1   \n",
       "4                    11am – 1am (Mon-Sun)   Mumbai     Lower Parel     3.8   \n",
       "\n",
       "   VOTES  COST         TITLE 1    TITLE 2     CUISINE 1       CUISINE 2  \\\n",
       "0   49.0  1200   CASUAL DINING  Not Known       Malwani            Goan   \n",
       "1   30.0  1500   CASUAL DINING        BAR         Asian   Modern Indian   \n",
       "2  221.0   800   CASUAL DINING  Not Known  North Indian         Chinese   \n",
       "3   24.0   800     QUICK BITES  Not Known       Tibetan         Chinese   \n",
       "4  165.0   300  DESSERT PARLOR  Not Known      Desserts       Not known   \n",
       "\n",
       "       CUISINE 3  \n",
       "0   North Indian  \n",
       "1       Japanese  \n",
       "2        Biryani  \n",
       "3      Not known  \n",
       "4      Not known  "
      ]
     },
     "execution_count": 63,
     "metadata": {},
     "output_type": "execute_result"
    }
   ],
   "source": [
    "df.head()"
   ]
  },
  {
   "cell_type": "markdown",
   "metadata": {},
   "source": [
    "# Splitting the time column into shift one shift two and day"
   ]
  },
  {
   "cell_type": "code",
   "execution_count": 64,
   "metadata": {},
   "outputs": [],
   "source": [
    "#splitting into shift one\n",
    "import numpy as np\n",
    "def extractShiftOne(i):\n",
    "\n",
    "    timing = \"Not available\"\n",
    "    if i is np.nan:\n",
    "        pass\n",
    "    else:\n",
    "        if \",\" in i:\n",
    "            timing= i.split(\",\")[0]\n",
    "            \n",
    "        else:\n",
    "            timing = i.split(\"(\")[0]\n",
    "            \n",
    "    return timing"
   ]
  },
  {
   "cell_type": "code",
   "execution_count": 65,
   "metadata": {},
   "outputs": [],
   "source": [
    "#call the function\n",
    "df[\"Shift one\"] = df[\"TIME\"].apply(extractShiftOne)"
   ]
  },
  {
   "cell_type": "code",
   "execution_count": 66,
   "metadata": {},
   "outputs": [
    {
     "data": {
      "text/html": [
       "<div>\n",
       "<style scoped>\n",
       "    .dataframe tbody tr th:only-of-type {\n",
       "        vertical-align: middle;\n",
       "    }\n",
       "\n",
       "    .dataframe tbody tr th {\n",
       "        vertical-align: top;\n",
       "    }\n",
       "\n",
       "    .dataframe thead th {\n",
       "        text-align: right;\n",
       "    }\n",
       "</style>\n",
       "<table border=\"1\" class=\"dataframe\">\n",
       "  <thead>\n",
       "    <tr style=\"text-align: right;\">\n",
       "      <th></th>\n",
       "      <th>TIME</th>\n",
       "      <th>CITY</th>\n",
       "      <th>LOCALITY</th>\n",
       "      <th>RATING</th>\n",
       "      <th>VOTES</th>\n",
       "      <th>COST</th>\n",
       "      <th>TITLE 1</th>\n",
       "      <th>TITLE 2</th>\n",
       "      <th>CUISINE 1</th>\n",
       "      <th>CUISINE 2</th>\n",
       "      <th>CUISINE 3</th>\n",
       "      <th>Shift one</th>\n",
       "    </tr>\n",
       "  </thead>\n",
       "  <tbody>\n",
       "    <tr>\n",
       "      <th>0</th>\n",
       "      <td>11am – 4pm, 7:30pm – 11:30pm (Mon-Sun)</td>\n",
       "      <td>Thane</td>\n",
       "      <td>Dombivali East</td>\n",
       "      <td>3.6</td>\n",
       "      <td>49.0</td>\n",
       "      <td>1200</td>\n",
       "      <td>CASUAL DINING</td>\n",
       "      <td>Not Known</td>\n",
       "      <td>Malwani</td>\n",
       "      <td>Goan</td>\n",
       "      <td>North Indian</td>\n",
       "      <td>11am – 4pm</td>\n",
       "    </tr>\n",
       "    <tr>\n",
       "      <th>1</th>\n",
       "      <td>6pm – 11pm (Mon-Sun)</td>\n",
       "      <td>Chennai</td>\n",
       "      <td>Ramapuram</td>\n",
       "      <td>4.2</td>\n",
       "      <td>30.0</td>\n",
       "      <td>1500</td>\n",
       "      <td>CASUAL DINING</td>\n",
       "      <td>BAR</td>\n",
       "      <td>Asian</td>\n",
       "      <td>Modern Indian</td>\n",
       "      <td>Japanese</td>\n",
       "      <td>6pm – 11pm</td>\n",
       "    </tr>\n",
       "    <tr>\n",
       "      <th>2</th>\n",
       "      <td>11am – 3:30pm, 7pm – 11pm (Mon-Sun)</td>\n",
       "      <td>Chennai</td>\n",
       "      <td>Saligramam</td>\n",
       "      <td>3.8</td>\n",
       "      <td>221.0</td>\n",
       "      <td>800</td>\n",
       "      <td>CASUAL DINING</td>\n",
       "      <td>Not Known</td>\n",
       "      <td>North Indian</td>\n",
       "      <td>Chinese</td>\n",
       "      <td>Biryani</td>\n",
       "      <td>11am – 3:30pm</td>\n",
       "    </tr>\n",
       "    <tr>\n",
       "      <th>3</th>\n",
       "      <td>11:30am – 1am (Mon-Sun)</td>\n",
       "      <td>Mumbai</td>\n",
       "      <td>Bandra West</td>\n",
       "      <td>4.1</td>\n",
       "      <td>24.0</td>\n",
       "      <td>800</td>\n",
       "      <td>QUICK BITES</td>\n",
       "      <td>Not Known</td>\n",
       "      <td>Tibetan</td>\n",
       "      <td>Chinese</td>\n",
       "      <td>Not known</td>\n",
       "      <td>11:30am – 1am</td>\n",
       "    </tr>\n",
       "    <tr>\n",
       "      <th>4</th>\n",
       "      <td>11am – 1am (Mon-Sun)</td>\n",
       "      <td>Mumbai</td>\n",
       "      <td>Lower Parel</td>\n",
       "      <td>3.8</td>\n",
       "      <td>165.0</td>\n",
       "      <td>300</td>\n",
       "      <td>DESSERT PARLOR</td>\n",
       "      <td>Not Known</td>\n",
       "      <td>Desserts</td>\n",
       "      <td>Not known</td>\n",
       "      <td>Not known</td>\n",
       "      <td>11am – 1am</td>\n",
       "    </tr>\n",
       "  </tbody>\n",
       "</table>\n",
       "</div>"
      ],
      "text/plain": [
       "                                     TIME     CITY        LOCALITY  RATING  \\\n",
       "0  11am – 4pm, 7:30pm – 11:30pm (Mon-Sun)    Thane  Dombivali East     3.6   \n",
       "1                    6pm – 11pm (Mon-Sun)  Chennai       Ramapuram     4.2   \n",
       "2     11am – 3:30pm, 7pm – 11pm (Mon-Sun)  Chennai      Saligramam     3.8   \n",
       "3                 11:30am – 1am (Mon-Sun)   Mumbai     Bandra West     4.1   \n",
       "4                    11am – 1am (Mon-Sun)   Mumbai     Lower Parel     3.8   \n",
       "\n",
       "   VOTES  COST         TITLE 1    TITLE 2     CUISINE 1       CUISINE 2  \\\n",
       "0   49.0  1200   CASUAL DINING  Not Known       Malwani            Goan   \n",
       "1   30.0  1500   CASUAL DINING        BAR         Asian   Modern Indian   \n",
       "2  221.0   800   CASUAL DINING  Not Known  North Indian         Chinese   \n",
       "3   24.0   800     QUICK BITES  Not Known       Tibetan         Chinese   \n",
       "4  165.0   300  DESSERT PARLOR  Not Known      Desserts       Not known   \n",
       "\n",
       "       CUISINE 3       Shift one  \n",
       "0   North Indian      11am – 4pm  \n",
       "1       Japanese     6pm – 11pm   \n",
       "2        Biryani   11am – 3:30pm  \n",
       "3      Not known  11:30am – 1am   \n",
       "4      Not known     11am – 1am   "
      ]
     },
     "execution_count": 66,
     "metadata": {},
     "output_type": "execute_result"
    }
   ],
   "source": [
    "#check the data\n",
    "df.head()"
   ]
  },
  {
   "cell_type": "markdown",
   "metadata": {},
   "source": [
    "# splitting the time into shift 2"
   ]
  },
  {
   "cell_type": "code",
   "execution_count": 67,
   "metadata": {},
   "outputs": [],
   "source": [
    "#splitting into shift 2\n",
    "import numpy as np\n",
    "def extractShiftTwo(i):\n",
    "\n",
    "    timing = \"Not available\"\n",
    "    if i is np.nan:\n",
    "        pass\n",
    "    else:\n",
    "        if \",\" in i:\n",
    "            timing= i.split(\",\")[1].split(\"(\")[0]\n",
    "       \n",
    "    return timing"
   ]
  },
  {
   "cell_type": "code",
   "execution_count": 68,
   "metadata": {},
   "outputs": [],
   "source": [
    "df[\"Shift Two\"] = df[\"TIME\"].apply(extractShiftTwo)"
   ]
  },
  {
   "cell_type": "code",
   "execution_count": 69,
   "metadata": {},
   "outputs": [
    {
     "data": {
      "text/html": [
       "<div>\n",
       "<style scoped>\n",
       "    .dataframe tbody tr th:only-of-type {\n",
       "        vertical-align: middle;\n",
       "    }\n",
       "\n",
       "    .dataframe tbody tr th {\n",
       "        vertical-align: top;\n",
       "    }\n",
       "\n",
       "    .dataframe thead th {\n",
       "        text-align: right;\n",
       "    }\n",
       "</style>\n",
       "<table border=\"1\" class=\"dataframe\">\n",
       "  <thead>\n",
       "    <tr style=\"text-align: right;\">\n",
       "      <th></th>\n",
       "      <th>TIME</th>\n",
       "      <th>CITY</th>\n",
       "      <th>LOCALITY</th>\n",
       "      <th>RATING</th>\n",
       "      <th>VOTES</th>\n",
       "      <th>COST</th>\n",
       "      <th>TITLE 1</th>\n",
       "      <th>TITLE 2</th>\n",
       "      <th>CUISINE 1</th>\n",
       "      <th>CUISINE 2</th>\n",
       "      <th>CUISINE 3</th>\n",
       "      <th>Shift one</th>\n",
       "      <th>Shift Two</th>\n",
       "    </tr>\n",
       "  </thead>\n",
       "  <tbody>\n",
       "    <tr>\n",
       "      <th>0</th>\n",
       "      <td>11am – 4pm, 7:30pm – 11:30pm (Mon-Sun)</td>\n",
       "      <td>Thane</td>\n",
       "      <td>Dombivali East</td>\n",
       "      <td>3.6</td>\n",
       "      <td>49.0</td>\n",
       "      <td>1200</td>\n",
       "      <td>CASUAL DINING</td>\n",
       "      <td>Not Known</td>\n",
       "      <td>Malwani</td>\n",
       "      <td>Goan</td>\n",
       "      <td>North Indian</td>\n",
       "      <td>11am – 4pm</td>\n",
       "      <td>7:30pm – 11:30pm</td>\n",
       "    </tr>\n",
       "    <tr>\n",
       "      <th>1</th>\n",
       "      <td>6pm – 11pm (Mon-Sun)</td>\n",
       "      <td>Chennai</td>\n",
       "      <td>Ramapuram</td>\n",
       "      <td>4.2</td>\n",
       "      <td>30.0</td>\n",
       "      <td>1500</td>\n",
       "      <td>CASUAL DINING</td>\n",
       "      <td>BAR</td>\n",
       "      <td>Asian</td>\n",
       "      <td>Modern Indian</td>\n",
       "      <td>Japanese</td>\n",
       "      <td>6pm – 11pm</td>\n",
       "      <td>Not available</td>\n",
       "    </tr>\n",
       "    <tr>\n",
       "      <th>2</th>\n",
       "      <td>11am – 3:30pm, 7pm – 11pm (Mon-Sun)</td>\n",
       "      <td>Chennai</td>\n",
       "      <td>Saligramam</td>\n",
       "      <td>3.8</td>\n",
       "      <td>221.0</td>\n",
       "      <td>800</td>\n",
       "      <td>CASUAL DINING</td>\n",
       "      <td>Not Known</td>\n",
       "      <td>North Indian</td>\n",
       "      <td>Chinese</td>\n",
       "      <td>Biryani</td>\n",
       "      <td>11am – 3:30pm</td>\n",
       "      <td>7pm – 11pm</td>\n",
       "    </tr>\n",
       "    <tr>\n",
       "      <th>3</th>\n",
       "      <td>11:30am – 1am (Mon-Sun)</td>\n",
       "      <td>Mumbai</td>\n",
       "      <td>Bandra West</td>\n",
       "      <td>4.1</td>\n",
       "      <td>24.0</td>\n",
       "      <td>800</td>\n",
       "      <td>QUICK BITES</td>\n",
       "      <td>Not Known</td>\n",
       "      <td>Tibetan</td>\n",
       "      <td>Chinese</td>\n",
       "      <td>Not known</td>\n",
       "      <td>11:30am – 1am</td>\n",
       "      <td>Not available</td>\n",
       "    </tr>\n",
       "    <tr>\n",
       "      <th>4</th>\n",
       "      <td>11am – 1am (Mon-Sun)</td>\n",
       "      <td>Mumbai</td>\n",
       "      <td>Lower Parel</td>\n",
       "      <td>3.8</td>\n",
       "      <td>165.0</td>\n",
       "      <td>300</td>\n",
       "      <td>DESSERT PARLOR</td>\n",
       "      <td>Not Known</td>\n",
       "      <td>Desserts</td>\n",
       "      <td>Not known</td>\n",
       "      <td>Not known</td>\n",
       "      <td>11am – 1am</td>\n",
       "      <td>Not available</td>\n",
       "    </tr>\n",
       "  </tbody>\n",
       "</table>\n",
       "</div>"
      ],
      "text/plain": [
       "                                     TIME     CITY        LOCALITY  RATING  \\\n",
       "0  11am – 4pm, 7:30pm – 11:30pm (Mon-Sun)    Thane  Dombivali East     3.6   \n",
       "1                    6pm – 11pm (Mon-Sun)  Chennai       Ramapuram     4.2   \n",
       "2     11am – 3:30pm, 7pm – 11pm (Mon-Sun)  Chennai      Saligramam     3.8   \n",
       "3                 11:30am – 1am (Mon-Sun)   Mumbai     Bandra West     4.1   \n",
       "4                    11am – 1am (Mon-Sun)   Mumbai     Lower Parel     3.8   \n",
       "\n",
       "   VOTES  COST         TITLE 1    TITLE 2     CUISINE 1       CUISINE 2  \\\n",
       "0   49.0  1200   CASUAL DINING  Not Known       Malwani            Goan   \n",
       "1   30.0  1500   CASUAL DINING        BAR         Asian   Modern Indian   \n",
       "2  221.0   800   CASUAL DINING  Not Known  North Indian         Chinese   \n",
       "3   24.0   800     QUICK BITES  Not Known       Tibetan         Chinese   \n",
       "4  165.0   300  DESSERT PARLOR  Not Known      Desserts       Not known   \n",
       "\n",
       "       CUISINE 3       Shift one           Shift Two  \n",
       "0   North Indian      11am – 4pm   7:30pm – 11:30pm   \n",
       "1       Japanese     6pm – 11pm        Not available  \n",
       "2        Biryani   11am – 3:30pm         7pm – 11pm   \n",
       "3      Not known  11:30am – 1am        Not available  \n",
       "4      Not known     11am – 1am        Not available  "
      ]
     },
     "execution_count": 69,
     "metadata": {},
     "output_type": "execute_result"
    }
   ],
   "source": [
    "df.head()"
   ]
  },
  {
   "cell_type": "markdown",
   "metadata": {},
   "source": [
    "# extracting days from time"
   ]
  },
  {
   "cell_type": "code",
   "execution_count": 70,
   "metadata": {},
   "outputs": [],
   "source": [
    "def extractDays(i):\n",
    "\n",
    "    days = \"Not Known\"\n",
    "    if i is np.nan:\n",
    "        pass\n",
    "    else:\n",
    "        if \"(\" in i:\n",
    "            days= i.split(\"(\")[-1][0:-1]\n",
    "    return days"
   ]
  },
  {
   "cell_type": "code",
   "execution_count": 71,
   "metadata": {},
   "outputs": [],
   "source": [
    "df['Days']=df[\"TIME\"].apply(extractDays)"
   ]
  },
  {
   "cell_type": "code",
   "execution_count": 72,
   "metadata": {},
   "outputs": [],
   "source": [
    "#dropping the time column\n",
    "df.drop(['TIME'],axis=1,inplace=True)"
   ]
  },
  {
   "cell_type": "code",
   "execution_count": 73,
   "metadata": {},
   "outputs": [
    {
     "data": {
      "text/html": [
       "<div>\n",
       "<style scoped>\n",
       "    .dataframe tbody tr th:only-of-type {\n",
       "        vertical-align: middle;\n",
       "    }\n",
       "\n",
       "    .dataframe tbody tr th {\n",
       "        vertical-align: top;\n",
       "    }\n",
       "\n",
       "    .dataframe thead th {\n",
       "        text-align: right;\n",
       "    }\n",
       "</style>\n",
       "<table border=\"1\" class=\"dataframe\">\n",
       "  <thead>\n",
       "    <tr style=\"text-align: right;\">\n",
       "      <th></th>\n",
       "      <th>CITY</th>\n",
       "      <th>LOCALITY</th>\n",
       "      <th>RATING</th>\n",
       "      <th>VOTES</th>\n",
       "      <th>COST</th>\n",
       "      <th>TITLE 1</th>\n",
       "      <th>TITLE 2</th>\n",
       "      <th>CUISINE 1</th>\n",
       "      <th>CUISINE 2</th>\n",
       "      <th>CUISINE 3</th>\n",
       "      <th>Shift one</th>\n",
       "      <th>Shift Two</th>\n",
       "      <th>Days</th>\n",
       "    </tr>\n",
       "  </thead>\n",
       "  <tbody>\n",
       "    <tr>\n",
       "      <th>0</th>\n",
       "      <td>Thane</td>\n",
       "      <td>Dombivali East</td>\n",
       "      <td>3.6</td>\n",
       "      <td>49.0</td>\n",
       "      <td>1200</td>\n",
       "      <td>CASUAL DINING</td>\n",
       "      <td>Not Known</td>\n",
       "      <td>Malwani</td>\n",
       "      <td>Goan</td>\n",
       "      <td>North Indian</td>\n",
       "      <td>11am – 4pm</td>\n",
       "      <td>7:30pm – 11:30pm</td>\n",
       "      <td>Mon-Sun</td>\n",
       "    </tr>\n",
       "    <tr>\n",
       "      <th>1</th>\n",
       "      <td>Chennai</td>\n",
       "      <td>Ramapuram</td>\n",
       "      <td>4.2</td>\n",
       "      <td>30.0</td>\n",
       "      <td>1500</td>\n",
       "      <td>CASUAL DINING</td>\n",
       "      <td>BAR</td>\n",
       "      <td>Asian</td>\n",
       "      <td>Modern Indian</td>\n",
       "      <td>Japanese</td>\n",
       "      <td>6pm – 11pm</td>\n",
       "      <td>Not available</td>\n",
       "      <td>Mon-Sun</td>\n",
       "    </tr>\n",
       "    <tr>\n",
       "      <th>2</th>\n",
       "      <td>Chennai</td>\n",
       "      <td>Saligramam</td>\n",
       "      <td>3.8</td>\n",
       "      <td>221.0</td>\n",
       "      <td>800</td>\n",
       "      <td>CASUAL DINING</td>\n",
       "      <td>Not Known</td>\n",
       "      <td>North Indian</td>\n",
       "      <td>Chinese</td>\n",
       "      <td>Biryani</td>\n",
       "      <td>11am – 3:30pm</td>\n",
       "      <td>7pm – 11pm</td>\n",
       "      <td>Mon-Sun</td>\n",
       "    </tr>\n",
       "    <tr>\n",
       "      <th>3</th>\n",
       "      <td>Mumbai</td>\n",
       "      <td>Bandra West</td>\n",
       "      <td>4.1</td>\n",
       "      <td>24.0</td>\n",
       "      <td>800</td>\n",
       "      <td>QUICK BITES</td>\n",
       "      <td>Not Known</td>\n",
       "      <td>Tibetan</td>\n",
       "      <td>Chinese</td>\n",
       "      <td>Not known</td>\n",
       "      <td>11:30am – 1am</td>\n",
       "      <td>Not available</td>\n",
       "      <td>Mon-Sun</td>\n",
       "    </tr>\n",
       "    <tr>\n",
       "      <th>4</th>\n",
       "      <td>Mumbai</td>\n",
       "      <td>Lower Parel</td>\n",
       "      <td>3.8</td>\n",
       "      <td>165.0</td>\n",
       "      <td>300</td>\n",
       "      <td>DESSERT PARLOR</td>\n",
       "      <td>Not Known</td>\n",
       "      <td>Desserts</td>\n",
       "      <td>Not known</td>\n",
       "      <td>Not known</td>\n",
       "      <td>11am – 1am</td>\n",
       "      <td>Not available</td>\n",
       "      <td>Mon-Sun</td>\n",
       "    </tr>\n",
       "  </tbody>\n",
       "</table>\n",
       "</div>"
      ],
      "text/plain": [
       "      CITY        LOCALITY  RATING  VOTES  COST         TITLE 1    TITLE 2  \\\n",
       "0    Thane  Dombivali East     3.6   49.0  1200   CASUAL DINING  Not Known   \n",
       "1  Chennai       Ramapuram     4.2   30.0  1500   CASUAL DINING        BAR   \n",
       "2  Chennai      Saligramam     3.8  221.0   800   CASUAL DINING  Not Known   \n",
       "3   Mumbai     Bandra West     4.1   24.0   800     QUICK BITES  Not Known   \n",
       "4   Mumbai     Lower Parel     3.8  165.0   300  DESSERT PARLOR  Not Known   \n",
       "\n",
       "      CUISINE 1       CUISINE 2      CUISINE 3       Shift one  \\\n",
       "0       Malwani            Goan   North Indian      11am – 4pm   \n",
       "1         Asian   Modern Indian       Japanese     6pm – 11pm    \n",
       "2  North Indian         Chinese        Biryani   11am – 3:30pm   \n",
       "3       Tibetan         Chinese      Not known  11:30am – 1am    \n",
       "4      Desserts       Not known      Not known     11am – 1am    \n",
       "\n",
       "            Shift Two     Days  \n",
       "0   7:30pm – 11:30pm   Mon-Sun  \n",
       "1       Not available  Mon-Sun  \n",
       "2         7pm – 11pm   Mon-Sun  \n",
       "3       Not available  Mon-Sun  \n",
       "4       Not available  Mon-Sun  "
      ]
     },
     "execution_count": 73,
     "metadata": {},
     "output_type": "execute_result"
    }
   ],
   "source": [
    "df.head()"
   ]
  },
  {
   "cell_type": "code",
   "execution_count": 74,
   "metadata": {},
   "outputs": [
    {
     "data": {
      "image/png": "[encoded data removed]",
      "text/plain": [
       "<Figure size 2520x720 with 1 Axes>"
      ]
     },
     "metadata": {
      "needs_background": "light"
     },
     "output_type": "display_data"
    }
   ],
   "source": [
    "#relationship between cuisine 1 and COST\n",
    "plt.figure(figsize=(35,10))\n",
    "sns.barplot(y=\"COST\",x=\"CUISINE 1\",palette='plasma',data=df)\n",
    "plt.xticks(rotation=90,fontsize=12,weight='bold')\n",
    "plt.show()"
   ]
  },
  {
   "cell_type": "markdown",
   "metadata": {},
   "source": [
    "observations\n",
    "\n",
    "Cuisines with maximum costs were\n",
    "\n",
    "1)Spanish\n",
    "\n",
    "2)Japanese\n",
    "\n",
    "3)French\n",
    "\n",
    "4)Egtypian\n",
    "\n",
    "TEA , PAAN , STREET FOOD , AFGHAN, and MOMOS had the least cost of all"
   ]
  },
  {
   "cell_type": "code",
   "execution_count": 75,
   "metadata": {},
   "outputs": [
    {
     "data": {
      "image/png": "[encoded data removed]",
      "text/plain": [
       "<Figure size 2520x720 with 1 Axes>"
      ]
     },
     "metadata": {
      "needs_background": "light"
     },
     "output_type": "display_data"
    }
   ],
   "source": [
    "#relationship between cuisine 1 and COST\n",
    "plt.figure(figsize=(35,10))\n",
    "sns.barplot(y=\"COST\",x=\"CUISINE 2\",palette='magma',data=df)\n",
    "plt.xticks(rotation=90,fontsize=12,weight='bold')\n",
    "plt.show()"
   ]
  },
  {
   "cell_type": "markdown",
   "metadata": {},
   "source": [
    "Observations\n",
    "\n",
    "kashmiri has the maximum cost\n",
    "\n",
    "Sushi and lucknowi had the high cost\n",
    "\n",
    "Among all cuisine 2 Mithai had the least cost followed by juices and ice creams"
   ]
  },
  {
   "cell_type": "code",
   "execution_count": 76,
   "metadata": {},
   "outputs": [
    {
     "data": {
      "text/html": [
       "<div>\n",
       "<style scoped>\n",
       "    .dataframe tbody tr th:only-of-type {\n",
       "        vertical-align: middle;\n",
       "    }\n",
       "\n",
       "    .dataframe tbody tr th {\n",
       "        vertical-align: top;\n",
       "    }\n",
       "\n",
       "    .dataframe thead th {\n",
       "        text-align: right;\n",
       "    }\n",
       "</style>\n",
       "<table border=\"1\" class=\"dataframe\">\n",
       "  <thead>\n",
       "    <tr style=\"text-align: right;\">\n",
       "      <th></th>\n",
       "      <th>CITY</th>\n",
       "      <th>LOCALITY</th>\n",
       "      <th>RATING</th>\n",
       "      <th>VOTES</th>\n",
       "      <th>COST</th>\n",
       "      <th>TITLE 1</th>\n",
       "      <th>TITLE 2</th>\n",
       "      <th>CUISINE 1</th>\n",
       "      <th>CUISINE 2</th>\n",
       "      <th>CUISINE 3</th>\n",
       "      <th>Shift one</th>\n",
       "      <th>Shift Two</th>\n",
       "      <th>Days</th>\n",
       "    </tr>\n",
       "  </thead>\n",
       "  <tbody>\n",
       "    <tr>\n",
       "      <th>0</th>\n",
       "      <td>Thane</td>\n",
       "      <td>Dombivali East</td>\n",
       "      <td>3.6</td>\n",
       "      <td>49.0</td>\n",
       "      <td>1200</td>\n",
       "      <td>CASUAL DINING</td>\n",
       "      <td>Not Known</td>\n",
       "      <td>Malwani</td>\n",
       "      <td>Goan</td>\n",
       "      <td>North Indian</td>\n",
       "      <td>11am – 4pm</td>\n",
       "      <td>7:30pm – 11:30pm</td>\n",
       "      <td>Mon-Sun</td>\n",
       "    </tr>\n",
       "    <tr>\n",
       "      <th>1</th>\n",
       "      <td>Chennai</td>\n",
       "      <td>Ramapuram</td>\n",
       "      <td>4.2</td>\n",
       "      <td>30.0</td>\n",
       "      <td>1500</td>\n",
       "      <td>CASUAL DINING</td>\n",
       "      <td>BAR</td>\n",
       "      <td>Asian</td>\n",
       "      <td>Modern Indian</td>\n",
       "      <td>Japanese</td>\n",
       "      <td>6pm – 11pm</td>\n",
       "      <td>Not available</td>\n",
       "      <td>Mon-Sun</td>\n",
       "    </tr>\n",
       "    <tr>\n",
       "      <th>2</th>\n",
       "      <td>Chennai</td>\n",
       "      <td>Saligramam</td>\n",
       "      <td>3.8</td>\n",
       "      <td>221.0</td>\n",
       "      <td>800</td>\n",
       "      <td>CASUAL DINING</td>\n",
       "      <td>Not Known</td>\n",
       "      <td>North Indian</td>\n",
       "      <td>Chinese</td>\n",
       "      <td>Biryani</td>\n",
       "      <td>11am – 3:30pm</td>\n",
       "      <td>7pm – 11pm</td>\n",
       "      <td>Mon-Sun</td>\n",
       "    </tr>\n",
       "    <tr>\n",
       "      <th>3</th>\n",
       "      <td>Mumbai</td>\n",
       "      <td>Bandra West</td>\n",
       "      <td>4.1</td>\n",
       "      <td>24.0</td>\n",
       "      <td>800</td>\n",
       "      <td>QUICK BITES</td>\n",
       "      <td>Not Known</td>\n",
       "      <td>Tibetan</td>\n",
       "      <td>Chinese</td>\n",
       "      <td>Not known</td>\n",
       "      <td>11:30am – 1am</td>\n",
       "      <td>Not available</td>\n",
       "      <td>Mon-Sun</td>\n",
       "    </tr>\n",
       "    <tr>\n",
       "      <th>4</th>\n",
       "      <td>Mumbai</td>\n",
       "      <td>Lower Parel</td>\n",
       "      <td>3.8</td>\n",
       "      <td>165.0</td>\n",
       "      <td>300</td>\n",
       "      <td>DESSERT PARLOR</td>\n",
       "      <td>Not Known</td>\n",
       "      <td>Desserts</td>\n",
       "      <td>Not known</td>\n",
       "      <td>Not known</td>\n",
       "      <td>11am – 1am</td>\n",
       "      <td>Not available</td>\n",
       "      <td>Mon-Sun</td>\n",
       "    </tr>\n",
       "  </tbody>\n",
       "</table>\n",
       "</div>"
      ],
      "text/plain": [
       "      CITY        LOCALITY  RATING  VOTES  COST         TITLE 1    TITLE 2  \\\n",
       "0    Thane  Dombivali East     3.6   49.0  1200   CASUAL DINING  Not Known   \n",
       "1  Chennai       Ramapuram     4.2   30.0  1500   CASUAL DINING        BAR   \n",
       "2  Chennai      Saligramam     3.8  221.0   800   CASUAL DINING  Not Known   \n",
       "3   Mumbai     Bandra West     4.1   24.0   800     QUICK BITES  Not Known   \n",
       "4   Mumbai     Lower Parel     3.8  165.0   300  DESSERT PARLOR  Not Known   \n",
       "\n",
       "      CUISINE 1       CUISINE 2      CUISINE 3       Shift one  \\\n",
       "0       Malwani            Goan   North Indian      11am – 4pm   \n",
       "1         Asian   Modern Indian       Japanese     6pm – 11pm    \n",
       "2  North Indian         Chinese        Biryani   11am – 3:30pm   \n",
       "3       Tibetan         Chinese      Not known  11:30am – 1am    \n",
       "4      Desserts       Not known      Not known     11am – 1am    \n",
       "\n",
       "            Shift Two     Days  \n",
       "0   7:30pm – 11:30pm   Mon-Sun  \n",
       "1       Not available  Mon-Sun  \n",
       "2         7pm – 11pm   Mon-Sun  \n",
       "3       Not available  Mon-Sun  \n",
       "4       Not available  Mon-Sun  "
      ]
     },
     "execution_count": 76,
     "metadata": {},
     "output_type": "execute_result"
    }
   ],
   "source": [
    "df.head()"
   ]
  },
  {
   "cell_type": "markdown",
   "metadata": {},
   "source": [
    "# Label encoder"
   ]
  },
  {
   "cell_type": "code",
   "execution_count": 77,
   "metadata": {},
   "outputs": [],
   "source": [
    "#label encoding the features:\n",
    "from sklearn.preprocessing import LabelEncoder\n",
    "list1=['CITY','LOCALITY','TITLE 1','TITLE 2','CUISINE 1', 'CUISINE 2', 'CUISINE 3','Shift one',\n",
    "       'Shift Two', 'Days']\n",
    "Le=LabelEncoder()\n",
    "for i in list1:\n",
    "    df[i]=Le.fit_transform(df[i])"
   ]
  },
  {
   "cell_type": "code",
   "execution_count": 78,
   "metadata": {},
   "outputs": [
    {
     "data": {
      "text/html": [
       "<div>\n",
       "<style scoped>\n",
       "    .dataframe tbody tr th:only-of-type {\n",
       "        vertical-align: middle;\n",
       "    }\n",
       "\n",
       "    .dataframe tbody tr th {\n",
       "        vertical-align: top;\n",
       "    }\n",
       "\n",
       "    .dataframe thead th {\n",
       "        text-align: right;\n",
       "    }\n",
       "</style>\n",
       "<table border=\"1\" class=\"dataframe\">\n",
       "  <thead>\n",
       "    <tr style=\"text-align: right;\">\n",
       "      <th></th>\n",
       "      <th>CITY</th>\n",
       "      <th>LOCALITY</th>\n",
       "      <th>RATING</th>\n",
       "      <th>VOTES</th>\n",
       "      <th>COST</th>\n",
       "      <th>TITLE 1</th>\n",
       "      <th>TITLE 2</th>\n",
       "      <th>CUISINE 1</th>\n",
       "      <th>CUISINE 2</th>\n",
       "      <th>CUISINE 3</th>\n",
       "      <th>Shift one</th>\n",
       "      <th>Shift Two</th>\n",
       "      <th>Days</th>\n",
       "    </tr>\n",
       "  </thead>\n",
       "  <tbody>\n",
       "    <tr>\n",
       "      <th>0</th>\n",
       "      <td>321</td>\n",
       "      <td>285</td>\n",
       "      <td>3.6</td>\n",
       "      <td>49.0</td>\n",
       "      <td>1200</td>\n",
       "      <td>4</td>\n",
       "      <td>15</td>\n",
       "      <td>59</td>\n",
       "      <td>32</td>\n",
       "      <td>66</td>\n",
       "      <td>343</td>\n",
       "      <td>170</td>\n",
       "      <td>356</td>\n",
       "    </tr>\n",
       "    <tr>\n",
       "      <th>1</th>\n",
       "      <td>67</td>\n",
       "      <td>1047</td>\n",
       "      <td>4.2</td>\n",
       "      <td>30.0</td>\n",
       "      <td>1500</td>\n",
       "      <td>4</td>\n",
       "      <td>1</td>\n",
       "      <td>6</td>\n",
       "      <td>60</td>\n",
       "      <td>41</td>\n",
       "      <td>943</td>\n",
       "      <td>579</td>\n",
       "      <td>356</td>\n",
       "    </tr>\n",
       "    <tr>\n",
       "      <th>2</th>\n",
       "      <td>67</td>\n",
       "      <td>1102</td>\n",
       "      <td>3.8</td>\n",
       "      <td>221.0</td>\n",
       "      <td>800</td>\n",
       "      <td>4</td>\n",
       "      <td>15</td>\n",
       "      <td>72</td>\n",
       "      <td>23</td>\n",
       "      <td>12</td>\n",
       "      <td>327</td>\n",
       "      <td>196</td>\n",
       "      <td>356</td>\n",
       "    </tr>\n",
       "    <tr>\n",
       "      <th>3</th>\n",
       "      <td>222</td>\n",
       "      <td>136</td>\n",
       "      <td>4.1</td>\n",
       "      <td>24.0</td>\n",
       "      <td>800</td>\n",
       "      <td>21</td>\n",
       "      <td>15</td>\n",
       "      <td>100</td>\n",
       "      <td>23</td>\n",
       "      <td>93</td>\n",
       "      <td>176</td>\n",
       "      <td>579</td>\n",
       "      <td>356</td>\n",
       "    </tr>\n",
       "    <tr>\n",
       "      <th>4</th>\n",
       "      <td>222</td>\n",
       "      <td>620</td>\n",
       "      <td>3.8</td>\n",
       "      <td>165.0</td>\n",
       "      <td>300</td>\n",
       "      <td>8</td>\n",
       "      <td>15</td>\n",
       "      <td>28</td>\n",
       "      <td>98</td>\n",
       "      <td>93</td>\n",
       "      <td>314</td>\n",
       "      <td>579</td>\n",
       "      <td>356</td>\n",
       "    </tr>\n",
       "  </tbody>\n",
       "</table>\n",
       "</div>"
      ],
      "text/plain": [
       "   CITY  LOCALITY  RATING  VOTES  COST  TITLE 1  TITLE 2  CUISINE 1  \\\n",
       "0   321       285     3.6   49.0  1200        4       15         59   \n",
       "1    67      1047     4.2   30.0  1500        4        1          6   \n",
       "2    67      1102     3.8  221.0   800        4       15         72   \n",
       "3   222       136     4.1   24.0   800       21       15        100   \n",
       "4   222       620     3.8  165.0   300        8       15         28   \n",
       "\n",
       "   CUISINE 2  CUISINE 3  Shift one  Shift Two  Days  \n",
       "0         32         66        343        170   356  \n",
       "1         60         41        943        579   356  \n",
       "2         23         12        327        196   356  \n",
       "3         23         93        176        579   356  \n",
       "4         98         93        314        579   356  "
      ]
     },
     "execution_count": 78,
     "metadata": {},
     "output_type": "execute_result"
    }
   ],
   "source": [
    "df.head()"
   ]
  },
  {
   "cell_type": "markdown",
   "metadata": {},
   "source": [
    "Most of the localities are distributed and do not give much info so we can drop it"
   ]
  },
  {
   "cell_type": "code",
   "execution_count": 79,
   "metadata": {},
   "outputs": [],
   "source": [
    "df.drop(['LOCALITY'],inplace=True,axis=1)"
   ]
  },
  {
   "cell_type": "markdown",
   "metadata": {},
   "source": [
    "# Data assignment"
   ]
  },
  {
   "cell_type": "code",
   "execution_count": 80,
   "metadata": {},
   "outputs": [
    {
     "data": {
      "text/html": [
       "<div>\n",
       "<style scoped>\n",
       "    .dataframe tbody tr th:only-of-type {\n",
       "        vertical-align: middle;\n",
       "    }\n",
       "\n",
       "    .dataframe tbody tr th {\n",
       "        vertical-align: top;\n",
       "    }\n",
       "\n",
       "    .dataframe thead th {\n",
       "        text-align: right;\n",
       "    }\n",
       "</style>\n",
       "<table border=\"1\" class=\"dataframe\">\n",
       "  <thead>\n",
       "    <tr style=\"text-align: right;\">\n",
       "      <th></th>\n",
       "      <th>CITY</th>\n",
       "      <th>RATING</th>\n",
       "      <th>VOTES</th>\n",
       "      <th>TITLE 1</th>\n",
       "      <th>TITLE 2</th>\n",
       "      <th>CUISINE 1</th>\n",
       "      <th>CUISINE 2</th>\n",
       "      <th>CUISINE 3</th>\n",
       "      <th>Shift one</th>\n",
       "      <th>Shift Two</th>\n",
       "      <th>Days</th>\n",
       "    </tr>\n",
       "  </thead>\n",
       "  <tbody>\n",
       "    <tr>\n",
       "      <th>56</th>\n",
       "      <td>252</td>\n",
       "      <td>3.3</td>\n",
       "      <td>20.0</td>\n",
       "      <td>21</td>\n",
       "      <td>15</td>\n",
       "      <td>47</td>\n",
       "      <td>73</td>\n",
       "      <td>93</td>\n",
       "      <td>567</td>\n",
       "      <td>579</td>\n",
       "      <td>356</td>\n",
       "    </tr>\n",
       "  </tbody>\n",
       "</table>\n",
       "</div>"
      ],
      "text/plain": [
       "    CITY  RATING  VOTES  TITLE 1  TITLE 2  CUISINE 1  CUISINE 2  CUISINE 3  \\\n",
       "56   252     3.3   20.0       21       15         47         73         93   \n",
       "\n",
       "    Shift one  Shift Two  Days  \n",
       "56        567        579   356  "
      ]
     },
     "execution_count": 80,
     "metadata": {},
     "output_type": "execute_result"
    }
   ],
   "source": [
    "#assigning features to x\n",
    "x=df.drop([\"COST\"],axis=1)\n",
    "x.sample()"
   ]
  },
  {
   "cell_type": "code",
   "execution_count": 81,
   "metadata": {},
   "outputs": [
    {
     "data": {
      "text/plain": [
       "CITY          0.235724\n",
       "RATING       -0.327888\n",
       "VOTES        14.749632\n",
       "TITLE 1       0.087325\n",
       "TITLE 2      -3.057865\n",
       "CUISINE 1     0.026008\n",
       "CUISINE 2     0.055174\n",
       "CUISINE 3    -0.823537\n",
       "Shift one     0.634927\n",
       "Shift Two    -1.503723\n",
       "Days         -3.131280\n",
       "dtype: float64"
      ]
     },
     "execution_count": 81,
     "metadata": {},
     "output_type": "execute_result"
    }
   ],
   "source": [
    "x.skew()"
   ]
  },
  {
   "cell_type": "code",
   "execution_count": 82,
   "metadata": {},
   "outputs": [],
   "source": [
    "from sklearn.preprocessing import power_transform\n",
    "x['VOTES']=power_transform(x[['VOTES']],method='yeo-johnson')"
   ]
  },
  {
   "cell_type": "code",
   "execution_count": 83,
   "metadata": {},
   "outputs": [
    {
     "data": {
      "text/plain": [
       "CITY         0.235724\n",
       "RATING      -0.327888\n",
       "VOTES        0.000882\n",
       "TITLE 1      0.087325\n",
       "TITLE 2     -3.057865\n",
       "CUISINE 1    0.026008\n",
       "CUISINE 2    0.055174\n",
       "CUISINE 3   -0.823537\n",
       "Shift one    0.634927\n",
       "Shift Two   -1.503723\n",
       "Days        -3.131280\n",
       "dtype: float64"
      ]
     },
     "execution_count": 83,
     "metadata": {},
     "output_type": "execute_result"
    }
   ],
   "source": [
    "#see if the skew is reduced\n",
    "x.skew()"
   ]
  },
  {
   "cell_type": "code",
   "execution_count": 84,
   "metadata": {},
   "outputs": [
    {
     "data": {
      "text/plain": [
       "8249    250\n",
       "Name: COST, dtype: int64"
      ]
     },
     "execution_count": 84,
     "metadata": {},
     "output_type": "execute_result"
    }
   ],
   "source": [
    "#assigning Target\n",
    "y=df[\"COST\"]\n",
    "y.sample()"
   ]
  },
  {
   "cell_type": "markdown",
   "metadata": {},
   "source": [
    "# finding best random state"
   ]
  },
  {
   "cell_type": "code",
   "execution_count": 85,
   "metadata": {},
   "outputs": [
    {
     "name": "stdout",
     "output_type": "stream",
     "text": [
      "At random state i= 63\n",
      "for random state 63\n",
      "the train accuray is 24.321423154694553\n",
      "the testing accuray is 24.262573309147818\n",
      "\n",
      "\n"
     ]
    }
   ],
   "source": [
    "from sklearn.model_selection import train_test_split\n",
    "from sklearn.metrics import r2_score,mean_squared_error,mean_absolute_error\n",
    "from sklearn.linear_model import LinearRegression\n",
    "lr=LinearRegression()\n",
    "\n",
    "\n",
    "for i in range(0,100):\n",
    "    x_train,x_test,y_train,y_test=train_test_split(x,y,random_state=i,test_size=0.30)\n",
    "    lr.fit(x_train,y_train)\n",
    "    pred_test=lr.predict(x_test)\n",
    "    pred_train=lr.predict(x_train)\n",
    "    \n",
    "    if round(r2_score(y_train,pred_train)*100,1)==round(r2_score(y_test,pred_test)*100,1):\n",
    "        print(\"At random state i=\",i)\n",
    "        print(\"for random state\",i)\n",
    "        print(\"the train accuray is\",r2_score(y_train,pred_train)*100)\n",
    "        print(\"the testing accuray is\",r2_score(y_test,pred_test)*100)\n",
    "        print(\"\\n\")"
   ]
  },
  {
   "cell_type": "markdown",
   "metadata": {},
   "source": [
    "# Data split"
   ]
  },
  {
   "cell_type": "code",
   "execution_count": null,
   "metadata": {},
   "outputs": [],
   "source": []
  },
  {
   "cell_type": "code",
   "execution_count": 86,
   "metadata": {},
   "outputs": [],
   "source": [
    "#splitting the data using best obtained random state\n",
    "x_train,x_test,y_train,y_test=train_test_split(x,y,test_size=0.30,random_state=63)"
   ]
  },
  {
   "cell_type": "markdown",
   "metadata": {},
   "source": [
    "# Importing require libraries"
   ]
  },
  {
   "cell_type": "code",
   "execution_count": 87,
   "metadata": {},
   "outputs": [],
   "source": [
    "#importing necessary libraries\n",
    "\n",
    "from sklearn.linear_model import LinearRegression\n",
    "from sklearn.tree import DecisionTreeRegressor\n",
    "from sklearn.svm import SVR\n",
    "from sklearn.neighbors import KNeighborsRegressor\n",
    "from sklearn.metrics import r2_score,mean_absolute_error,mean_squared_error\n",
    "\n",
    "#regularization models\n",
    "from sklearn.linear_model import Lasso,Ridge,ElasticNet\n",
    "\n",
    "#bossting/ensemble\n",
    "from sklearn.ensemble import RandomForestRegressor\n",
    "from sklearn.ensemble import AdaBoostRegressor\n",
    "from sklearn.ensemble import GradientBoostingRegressor\n",
    "\n",
    "from sklearn.model_selection import cross_val_score"
   ]
  },
  {
   "cell_type": "markdown",
   "metadata": {},
   "source": [
    "# Model Building"
   ]
  },
  {
   "cell_type": "code",
   "execution_count": 88,
   "metadata": {},
   "outputs": [
    {
     "name": "stdout",
     "output_type": "stream",
     "text": [
      "*) LinearRegression() algorithm\n",
      "r2 score is (test)= 24.262573309147818\n",
      "cross validation score is 24.292042271837833\n",
      "mean absolute error= 310.6528016396403\n",
      "mean squared error= 284886.7725668914\n",
      "Root mean square error= 533.7478548592878\n",
      "\n",
      "\n",
      "--------------------------------------------------------------------\n",
      "*) DecisionTreeRegressor() algorithm\n",
      "r2 score is (test)= 48.836999086425536\n",
      "cross validation score is 43.1185223145619\n",
      "mean absolute error= 252.11995446983624\n",
      "mean squared error= 192449.92656801798\n",
      "Root mean square error= 438.69115168648887\n",
      "\n",
      "\n",
      "--------------------------------------------------------------------\n",
      "*) SVR() algorithm\n",
      "r2 score is (test)= -4.496770756310742\n",
      "cross validation score is -4.474857617036352\n",
      "mean absolute error= 344.2393737190772\n",
      "mean squared error= 393065.2131335666\n",
      "Root mean square error= 626.9491312168528\n",
      "\n",
      "\n",
      "--------------------------------------------------------------------\n",
      "*) KNeighborsRegressor() algorithm\n",
      "r2 score is (test)= 17.729480560056864\n",
      "cross validation score is 20.352939964433702\n",
      "mean absolute error= 335.09577094825323\n",
      "mean squared error= 309461.03907538747\n",
      "Root mean square error= 556.292224532563\n",
      "\n",
      "\n",
      "--------------------------------------------------------------------\n",
      "*) Lasso() algorithm\n",
      "r2 score is (test)= 24.274523626855782\n",
      "cross validation score is 24.292878838843237\n",
      "mean absolute error= 310.27781591142457\n",
      "mean squared error= 284841.82137708046\n",
      "Root mean square error= 533.7057441859516\n",
      "\n",
      "\n",
      "--------------------------------------------------------------------\n",
      "*) Ridge() algorithm\n",
      "r2 score is (test)= 24.26304087018625\n",
      "cross validation score is 24.29209831896464\n",
      "mean absolute error= 310.6416438350808\n",
      "mean squared error= 284885.0138333163\n",
      "Root mean square error= 533.7462073245264\n",
      "\n",
      "\n",
      "--------------------------------------------------------------------\n",
      "*) ElasticNet() algorithm\n",
      "r2 score is (test)= 22.7589276475465\n",
      "cross validation score is 22.66873537754046\n",
      "mean absolute error= 306.3043298893022\n",
      "mean squared error= 290542.7444995838\n",
      "Root mean square error= 539.020170772471\n",
      "\n",
      "\n",
      "--------------------------------------------------------------------\n"
     ]
    }
   ],
   "source": [
    "#checking for various algorithms using loop\n",
    "\n",
    "models=[LinearRegression(),DecisionTreeRegressor(),SVR(),KNeighborsRegressor(),Lasso(),Ridge(),ElasticNet()]\n",
    "\n",
    "for i in models:\n",
    "    i.fit(x_train,y_train)\n",
    "    pred_y=i.predict(x_test)\n",
    "    print(\"*)\",i,\"algorithm\")\n",
    "    print(\"r2 score is (test)=\",(r2_score(y_test,pred_y)*100))\n",
    "    cross_score=cross_val_score(i,x,y,cv=5).mean()*100\n",
    "    print(\"cross validation score is\",cross_score)\n",
    "    print(\"mean absolute error=\",mean_absolute_error(y_test,pred_y))\n",
    "    print(\"mean squared error=\",mean_squared_error(y_test,pred_y))\n",
    "    print(\"Root mean square error=\",np.sqrt(mean_squared_error(y_test,pred_y)))\n",
    "    print('\\n')\n",
    "    print(\"--------------------------------------------------------------------\")"
   ]
  },
  {
   "cell_type": "markdown",
   "metadata": {},
   "source": [
    "# Ensemble techniques"
   ]
  },
  {
   "cell_type": "code",
   "execution_count": 89,
   "metadata": {},
   "outputs": [
    {
     "name": "stdout",
     "output_type": "stream",
     "text": [
      "* RandomForestRegressor() algorithm\n",
      "r2 score is 72.49765366595562\n",
      "cross validation score is 71.31336962370298\n",
      "mean absolute error= 190.81868098505413\n",
      "mean squared error= 103450.23626303277\n",
      "Root mean square error= 321.6368080040479\n",
      "\n",
      "\n",
      "* AdaBoostRegressor() algorithm\n",
      "r2 score is -20.844303925578124\n",
      "cross validation score is -40.65910562178888\n",
      "mean absolute error= 481.54056923235294\n",
      "mean squared error= 454556.55456813506\n",
      "Root mean square error= 674.2080944101273\n",
      "\n",
      "\n",
      "* GradientBoostingRegressor() algorithm\n",
      "r2 score is 70.50076578008617\n",
      "cross validation score is 69.72900848319183\n",
      "mean absolute error= 199.46733927816186\n",
      "mean squared error= 110961.54170129873\n",
      "Root mean square error= 333.10890366560113\n",
      "\n",
      "\n"
     ]
    }
   ],
   "source": [
    "#checking model performance for ensemble techniques\n",
    "\n",
    "ensemble_models=[RandomForestRegressor(),AdaBoostRegressor(),GradientBoostingRegressor()]\n",
    "\n",
    "for m in ensemble_models:\n",
    "    m.fit(x_train,y_train)\n",
    "    pred_y=m.predict(x_test)\n",
    "    print(\"*\",m,\"algorithm\")\n",
    "    print(\"r2 score is\",(r2_score(y_test,pred_y)*100))\n",
    "    cross_score=cross_val_score(m,x,y,cv=5).mean()*100\n",
    "    print(\"cross validation score is\",cross_score)\n",
    "    print(\"mean absolute error=\",mean_absolute_error(y_test,pred_y))\n",
    "    print(\"mean squared error=\",mean_squared_error(y_test,pred_y))\n",
    "    print(\"Root mean square error=\",np.sqrt(mean_squared_error(y_test,pred_y)))\n",
    "    print('\\n')\n",
    "    "
   ]
  },
  {
   "cell_type": "markdown",
   "metadata": {},
   "source": [
    "# linear regression"
   ]
  },
  {
   "cell_type": "code",
   "execution_count": 90,
   "metadata": {},
   "outputs": [
    {
     "name": "stdout",
     "output_type": "stream",
     "text": [
      "r2 score for test = 24.262573309147818\n",
      "cross_validation score= 24.292042271837833\n",
      "\n",
      "\n",
      "errors\n",
      "\n",
      "\n",
      "mean absolute error= 199.46733927816186\n",
      "mean squared error= 110961.54170129873\n",
      "Root mean square error= 333.10890366560113\n"
     ]
    }
   ],
   "source": [
    "Lr=LinearRegression()\n",
    "Lr.fit(x_train,y_train)\n",
    "y_pred_Lr=Lr.predict(x_test)\n",
    "Lr_score=r2_score(y_test,y_pred_Lr)*100\n",
    "print(\"r2 score for test =\",Lr_score)\n",
    "Lr_crossval=cross_val_score(Lr,x,y,cv=5).mean()*100\n",
    "print(\"cross_validation score=\",Lr_crossval)\n",
    "print('\\n')\n",
    "print(\"errors\")\n",
    "print('\\n')\n",
    "print(\"mean absolute error=\",mean_absolute_error(y_test,pred_y))\n",
    "print(\"mean squared error=\",mean_squared_error(y_test,pred_y))\n",
    "print(\"Root mean square error=\",np.sqrt(mean_squared_error(y_test,pred_y)))"
   ]
  },
  {
   "cell_type": "code",
   "execution_count": 91,
   "metadata": {},
   "outputs": [
    {
     "data": {
      "image/png": "[encoded data removed]",
      "text/plain": [
       "<Figure size 288x144 with 1 Axes>"
      ]
     },
     "metadata": {
      "needs_background": "light"
     },
     "output_type": "display_data"
    }
   ],
   "source": [
    "plt.figure(figsize=(4,2))\n",
    "plt.scatter(x=y_test,y=y_pred_Lr,color='r')\n",
    "plt.plot(y_test,y_test,color='b')\n",
    "plt.xlabel(\"Actual values\",fontsize=14)\n",
    "plt.ylabel('predicted value',fontsize=14)\n",
    "plt.title(\"Best Fit Line for Linear regressor\")\n",
    "plt.show()"
   ]
  },
  {
   "cell_type": "markdown",
   "metadata": {},
   "source": [
    "# Random Forest"
   ]
  },
  {
   "cell_type": "code",
   "execution_count": 92,
   "metadata": {},
   "outputs": [
    {
     "name": "stdout",
     "output_type": "stream",
     "text": [
      "accuracy(r2)= 70.98775961538175\n",
      "cross_validation score= 68.73943343820477\n",
      "\n",
      "\n",
      "errors\n",
      "\n",
      "\n",
      "mean absolute error= 199.46733927816186\n",
      "mean squared error= 110961.54170129873\n",
      "Root mean square error= 333.10890366560113\n"
     ]
    }
   ],
   "source": [
    "#model has been built after hypertunning it the code is not mentioned as it took large time to execute\n",
    "Rf=RandomForestRegressor(criterion='mse',n_estimators=20,max_features='sqrt',random_state=46)\n",
    "Rf.fit(x_train,y_train)\n",
    "y_pred=Rf.predict(x_test)\n",
    "Rf_score=r2_score(y_test,y_pred)*100\n",
    "print(\"accuracy(r2)=\",Rf_score)\n",
    "Rf_crossval=cross_val_score(Rf,x,y,cv=5).mean()*100\n",
    "print(\"cross_validation score=\",Rf_crossval)\n",
    "print('\\n')\n",
    "print(\"errors\")\n",
    "print('\\n')\n",
    "print(\"mean absolute error=\",mean_absolute_error(y_test,pred_y))\n",
    "print(\"mean squared error=\",mean_squared_error(y_test,pred_y))\n",
    "print(\"Root mean square error=\",np.sqrt(mean_squared_error(y_test,pred_y)))"
   ]
  },
  {
   "cell_type": "code",
   "execution_count": 93,
   "metadata": {},
   "outputs": [
    {
     "data": {
      "image/png": "[encoded data removed]",
      "text/plain": [
       "<Figure size 576x432 with 1 Axes>"
      ]
     },
     "metadata": {
      "needs_background": "light"
     },
     "output_type": "display_data"
    }
   ],
   "source": [
    "plt.figure(figsize=(8,6))\n",
    "plt.scatter(x=y_test,y=y_pred,color='r')\n",
    "plt.plot(y_test,y_test,color='b')\n",
    "plt.xlabel(\"Actual values\",fontsize=14)\n",
    "plt.ylabel('predicted value',fontsize=14)\n",
    "plt.title(\"Best Fit Line for Random forest regressor\")\n",
    "plt.show()"
   ]
  },
  {
   "cell_type": "markdown",
   "metadata": {},
   "source": [
    "# comparing both the models"
   ]
  },
  {
   "cell_type": "code",
   "execution_count": 94,
   "metadata": {},
   "outputs": [
    {
     "data": {
      "text/html": [
       "<div>\n",
       "<style scoped>\n",
       "    .dataframe tbody tr th:only-of-type {\n",
       "        vertical-align: middle;\n",
       "    }\n",
       "\n",
       "    .dataframe tbody tr th {\n",
       "        vertical-align: top;\n",
       "    }\n",
       "\n",
       "    .dataframe thead th {\n",
       "        text-align: right;\n",
       "    }\n",
       "</style>\n",
       "<table border=\"1\" class=\"dataframe\">\n",
       "  <thead>\n",
       "    <tr style=\"text-align: right;\">\n",
       "      <th></th>\n",
       "      <th>Algorithm</th>\n",
       "      <th>R2 score</th>\n",
       "      <th>Cross validataion</th>\n",
       "    </tr>\n",
       "  </thead>\n",
       "  <tbody>\n",
       "    <tr>\n",
       "      <th>0</th>\n",
       "      <td>Linear Regression</td>\n",
       "      <td>24.262573</td>\n",
       "      <td>24.292042</td>\n",
       "    </tr>\n",
       "    <tr>\n",
       "      <th>1</th>\n",
       "      <td>Random Forest regressor</td>\n",
       "      <td>70.987760</td>\n",
       "      <td>68.739433</td>\n",
       "    </tr>\n",
       "  </tbody>\n",
       "</table>\n",
       "</div>"
      ],
      "text/plain": [
       "                 Algorithm   R2 score  Cross validataion\n",
       "0        Linear Regression  24.262573          24.292042\n",
       "1  Random Forest regressor  70.987760          68.739433"
      ]
     },
     "execution_count": 94,
     "metadata": {},
     "output_type": "execute_result"
    }
   ],
   "source": [
    "summary=pd.DataFrame({'Algorithm':['Linear Regression','Random Forest regressor'],\n",
    "                    'R2 score':[Lr_score,Rf_score],\n",
    "                     'Cross validataion':[Lr_crossval,Rf_crossval]})\n",
    "summary"
   ]
  },
  {
   "cell_type": "markdown",
   "metadata": {},
   "source": [
    "# Saving the best model"
   ]
  },
  {
   "cell_type": "code",
   "execution_count": 95,
   "metadata": {},
   "outputs": [],
   "source": [
    "import pickle\n",
    "filename=\"Restaurants-cost.pkl\"\n",
    "pickle.dump(Rf,open(filename,'wb'))"
   ]
  },
  {
   "cell_type": "code",
   "execution_count": 96,
   "metadata": {},
   "outputs": [],
   "source": [
    "actual=np.array(y_test)\n",
    "predicted=np.array(Rf.predict(x_test))"
   ]
  },
  {
   "cell_type": "code",
   "execution_count": 97,
   "metadata": {},
   "outputs": [
    {
     "data": {
      "text/html": [
       "<div>\n",
       "<style scoped>\n",
       "    .dataframe tbody tr th:only-of-type {\n",
       "        vertical-align: middle;\n",
       "    }\n",
       "\n",
       "    .dataframe tbody tr th {\n",
       "        vertical-align: top;\n",
       "    }\n",
       "\n",
       "    .dataframe thead th {\n",
       "        text-align: right;\n",
       "    }\n",
       "</style>\n",
       "<table border=\"1\" class=\"dataframe\">\n",
       "  <thead>\n",
       "    <tr style=\"text-align: right;\">\n",
       "      <th></th>\n",
       "      <th>actual values</th>\n",
       "      <th>predicted values</th>\n",
       "    </tr>\n",
       "  </thead>\n",
       "  <tbody>\n",
       "    <tr>\n",
       "      <th>0</th>\n",
       "      <td>600</td>\n",
       "      <td>492.500000</td>\n",
       "    </tr>\n",
       "    <tr>\n",
       "      <th>1</th>\n",
       "      <td>1200</td>\n",
       "      <td>892.500000</td>\n",
       "    </tr>\n",
       "    <tr>\n",
       "      <th>2</th>\n",
       "      <td>200</td>\n",
       "      <td>222.500000</td>\n",
       "    </tr>\n",
       "    <tr>\n",
       "      <th>3</th>\n",
       "      <td>250</td>\n",
       "      <td>295.000000</td>\n",
       "    </tr>\n",
       "    <tr>\n",
       "      <th>4</th>\n",
       "      <td>800</td>\n",
       "      <td>737.500000</td>\n",
       "    </tr>\n",
       "    <tr>\n",
       "      <th>...</th>\n",
       "      <td>...</td>\n",
       "      <td>...</td>\n",
       "    </tr>\n",
       "    <tr>\n",
       "      <th>3802</th>\n",
       "      <td>200</td>\n",
       "      <td>385.000000</td>\n",
       "    </tr>\n",
       "    <tr>\n",
       "      <th>3803</th>\n",
       "      <td>1800</td>\n",
       "      <td>1190.000000</td>\n",
       "    </tr>\n",
       "    <tr>\n",
       "      <th>3804</th>\n",
       "      <td>300</td>\n",
       "      <td>240.000000</td>\n",
       "    </tr>\n",
       "    <tr>\n",
       "      <th>3805</th>\n",
       "      <td>1300</td>\n",
       "      <td>1605.000000</td>\n",
       "    </tr>\n",
       "    <tr>\n",
       "      <th>3806</th>\n",
       "      <td>200</td>\n",
       "      <td>352.083333</td>\n",
       "    </tr>\n",
       "  </tbody>\n",
       "</table>\n",
       "<p>3807 rows × 2 columns</p>\n",
       "</div>"
      ],
      "text/plain": [
       "      actual values  predicted values\n",
       "0               600        492.500000\n",
       "1              1200        892.500000\n",
       "2               200        222.500000\n",
       "3               250        295.000000\n",
       "4               800        737.500000\n",
       "...             ...               ...\n",
       "3802            200        385.000000\n",
       "3803           1800       1190.000000\n",
       "3804            300        240.000000\n",
       "3805           1300       1605.000000\n",
       "3806            200        352.083333\n",
       "\n",
       "[3807 rows x 2 columns]"
      ]
     },
     "execution_count": 97,
     "metadata": {},
     "output_type": "execute_result"
    }
   ],
   "source": [
    "df_com=pd.DataFrame({\"actual values\":actual,\"predicted values\":predicted})\n",
    "df_com"
   ]
  },
  {
   "cell_type": "markdown",
   "metadata": {},
   "source": [
    "# Test data"
   ]
  },
  {
   "cell_type": "code",
   "execution_count": 98,
   "metadata": {},
   "outputs": [
    {
     "data": {
      "text/html": [
       "<div>\n",
       "<style scoped>\n",
       "    .dataframe tbody tr th:only-of-type {\n",
       "        vertical-align: middle;\n",
       "    }\n",
       "\n",
       "    .dataframe tbody tr th {\n",
       "        vertical-align: top;\n",
       "    }\n",
       "\n",
       "    .dataframe thead th {\n",
       "        text-align: right;\n",
       "    }\n",
       "</style>\n",
       "<table border=\"1\" class=\"dataframe\">\n",
       "  <thead>\n",
       "    <tr style=\"text-align: right;\">\n",
       "      <th></th>\n",
       "      <th>TITLE</th>\n",
       "      <th>RESTAURANT_ID</th>\n",
       "      <th>CUISINES</th>\n",
       "      <th>TIME</th>\n",
       "      <th>CITY</th>\n",
       "      <th>LOCALITY</th>\n",
       "      <th>RATING</th>\n",
       "      <th>VOTES</th>\n",
       "    </tr>\n",
       "  </thead>\n",
       "  <tbody>\n",
       "    <tr>\n",
       "      <th>0</th>\n",
       "      <td>CASUAL DINING</td>\n",
       "      <td>4085</td>\n",
       "      <td>North Indian, Chinese, Mughlai, Kebab</td>\n",
       "      <td>12noon – 12midnight (Mon-Sun)</td>\n",
       "      <td>Noida</td>\n",
       "      <td>Sector 18</td>\n",
       "      <td>4.3</td>\n",
       "      <td>564 votes</td>\n",
       "    </tr>\n",
       "    <tr>\n",
       "      <th>1</th>\n",
       "      <td>QUICK BITES</td>\n",
       "      <td>12680</td>\n",
       "      <td>South Indian, Fast Food, Pizza, North Indian</td>\n",
       "      <td>7am – 12:30AM (Mon-Sun)</td>\n",
       "      <td>Mumbai</td>\n",
       "      <td>Grant Road</td>\n",
       "      <td>4.2</td>\n",
       "      <td>61 votes</td>\n",
       "    </tr>\n",
       "    <tr>\n",
       "      <th>2</th>\n",
       "      <td>CASUAL DINING</td>\n",
       "      <td>1411</td>\n",
       "      <td>North Indian, Seafood, Biryani, Chinese</td>\n",
       "      <td>11am – 11:30pm (Mon-Sun)</td>\n",
       "      <td>Mumbai</td>\n",
       "      <td>Marine Lines</td>\n",
       "      <td>3.8</td>\n",
       "      <td>350 votes</td>\n",
       "    </tr>\n",
       "    <tr>\n",
       "      <th>3</th>\n",
       "      <td>None</td>\n",
       "      <td>204</td>\n",
       "      <td>Biryani</td>\n",
       "      <td>9am – 10pm (Mon, Wed, Thu, Fri, Sat, Sun), 10:...</td>\n",
       "      <td>Faridabad</td>\n",
       "      <td>NIT</td>\n",
       "      <td>3.8</td>\n",
       "      <td>1445 votes</td>\n",
       "    </tr>\n",
       "    <tr>\n",
       "      <th>4</th>\n",
       "      <td>QUICK BITES</td>\n",
       "      <td>13453</td>\n",
       "      <td>South Indian, Kerala</td>\n",
       "      <td>11am – 10pm (Mon-Sun)</td>\n",
       "      <td>Kochi</td>\n",
       "      <td>Kaloor</td>\n",
       "      <td>3.6</td>\n",
       "      <td>23 votes</td>\n",
       "    </tr>\n",
       "  </tbody>\n",
       "</table>\n",
       "</div>"
      ],
      "text/plain": [
       "           TITLE  RESTAURANT_ID                                      CUISINES  \\\n",
       "0  CASUAL DINING           4085         North Indian, Chinese, Mughlai, Kebab   \n",
       "1    QUICK BITES          12680  South Indian, Fast Food, Pizza, North Indian   \n",
       "2  CASUAL DINING           1411       North Indian, Seafood, Biryani, Chinese   \n",
       "3           None            204                                       Biryani   \n",
       "4    QUICK BITES          13453                          South Indian, Kerala   \n",
       "\n",
       "                                                TIME       CITY      LOCALITY  \\\n",
       "0                      12noon – 12midnight (Mon-Sun)      Noida     Sector 18   \n",
       "1                            7am – 12:30AM (Mon-Sun)     Mumbai    Grant Road   \n",
       "2                           11am – 11:30pm (Mon-Sun)     Mumbai  Marine Lines   \n",
       "3  9am – 10pm (Mon, Wed, Thu, Fri, Sat, Sun), 10:...  Faridabad           NIT   \n",
       "4                              11am – 10pm (Mon-Sun)      Kochi        Kaloor   \n",
       "\n",
       "  RATING       VOTES  \n",
       "0    4.3   564 votes  \n",
       "1    4.2    61 votes  \n",
       "2    3.8   350 votes  \n",
       "3    3.8  1445 votes  \n",
       "4    3.6    23 votes  "
      ]
     },
     "execution_count": 98,
     "metadata": {},
     "output_type": "execute_result"
    }
   ],
   "source": [
    "#reading the dataset\n",
    "import pandas as pd\n",
    "df_test=pd.read_csv('C:/Users/Kirti/Downloads/Data_Test.csv')\n",
    "df_test.head()"
   ]
  },
  {
   "cell_type": "code",
   "execution_count": 99,
   "metadata": {},
   "outputs": [
    {
     "data": {
      "text/plain": [
       "Index(['TITLE', 'RESTAURANT_ID', 'CUISINES', 'TIME', 'CITY', 'LOCALITY',\n",
       "       'RATING', 'VOTES'],\n",
       "      dtype='object')"
      ]
     },
     "execution_count": 99,
     "metadata": {},
     "output_type": "execute_result"
    }
   ],
   "source": [
    "#view the columns of dataset\n",
    "df_test.columns"
   ]
  },
  {
   "cell_type": "markdown",
   "metadata": {},
   "source": [
    "There are 8 colums as 'TITLE', 'RESTAURANT_ID', 'CUISINES', 'TIME', 'CITY', 'LOCALITY', 'RATING', 'VOTES'"
   ]
  },
  {
   "cell_type": "code",
   "execution_count": 100,
   "metadata": {},
   "outputs": [
    {
     "data": {
      "text/plain": [
       "(4231, 8)"
      ]
     },
     "execution_count": 100,
     "metadata": {},
     "output_type": "execute_result"
    }
   ],
   "source": [
    "#checking the shape of dataset\n",
    "df_test.shape"
   ]
  },
  {
   "cell_type": "code",
   "execution_count": 101,
   "metadata": {},
   "outputs": [
    {
     "data": {
      "text/plain": [
       "TITLE            object\n",
       "RESTAURANT_ID     int64\n",
       "CUISINES         object\n",
       "TIME             object\n",
       "CITY             object\n",
       "LOCALITY         object\n",
       "RATING           object\n",
       "VOTES            object\n",
       "dtype: object"
      ]
     },
     "execution_count": 101,
     "metadata": {},
     "output_type": "execute_result"
    }
   ],
   "source": [
    "#checking the data type \n",
    "df_test.dtypes"
   ]
  },
  {
   "cell_type": "markdown",
   "metadata": {},
   "source": [
    "Only 'RESTAURANT_ID' is integer type rest of the columns are object datatype"
   ]
  },
  {
   "cell_type": "code",
   "execution_count": 102,
   "metadata": {},
   "outputs": [
    {
     "name": "stdout",
     "output_type": "stream",
     "text": [
      "<class 'pandas.core.frame.DataFrame'>\n",
      "RangeIndex: 4231 entries, 0 to 4230\n",
      "Data columns (total 8 columns):\n",
      " #   Column         Non-Null Count  Dtype \n",
      "---  ------         --------------  ----- \n",
      " 0   TITLE          4231 non-null   object\n",
      " 1   RESTAURANT_ID  4231 non-null   int64 \n",
      " 2   CUISINES       4231 non-null   object\n",
      " 3   TIME           4231 non-null   object\n",
      " 4   CITY           4196 non-null   object\n",
      " 5   LOCALITY       4201 non-null   object\n",
      " 6   RATING         4229 non-null   object\n",
      " 7   VOTES          3829 non-null   object\n",
      "dtypes: int64(1), object(7)\n",
      "memory usage: 264.6+ KB\n"
     ]
    }
   ],
   "source": [
    "#checking the info of dataset\n",
    "df_test.info()"
   ]
  },
  {
   "cell_type": "code",
   "execution_count": 103,
   "metadata": {},
   "outputs": [
    {
     "data": {
      "text/plain": [
       "TITLE              0\n",
       "RESTAURANT_ID      0\n",
       "CUISINES           0\n",
       "TIME               0\n",
       "CITY              35\n",
       "LOCALITY          30\n",
       "RATING             2\n",
       "VOTES            402\n",
       "dtype: int64"
      ]
     },
     "execution_count": 103,
     "metadata": {},
     "output_type": "execute_result"
    }
   ],
   "source": [
    "#checking null values in dataset\n",
    "df_test.isnull().sum()"
   ]
  },
  {
   "cell_type": "code",
   "execution_count": 104,
   "metadata": {},
   "outputs": [
    {
     "data": {
      "text/plain": [
       "TITLE              86\n",
       "RESTAURANT_ID    4127\n",
       "CUISINES         1727\n",
       "TIME             1183\n",
       "CITY              151\n",
       "LOCALITY          834\n",
       "RATING             31\n",
       "VOTES            1136\n",
       "dtype: int64"
      ]
     },
     "execution_count": 104,
     "metadata": {},
     "output_type": "execute_result"
    }
   ],
   "source": [
    "#checking unique values in each column\n",
    "df_test.nunique()"
   ]
  },
  {
   "cell_type": "markdown",
   "metadata": {},
   "source": [
    "# filling the Null values"
   ]
  },
  {
   "cell_type": "markdown",
   "metadata": {},
   "source": [
    "There are 35 Null values in city\n",
    "\n",
    "There are 30 Null values in locality\n",
    "\n",
    "2 in ratings\n",
    "\n",
    "402 NaN in votes"
   ]
  },
  {
   "cell_type": "code",
   "execution_count": 105,
   "metadata": {},
   "outputs": [],
   "source": [
    "df_test['CITY'].fillna(\"Not known\",inplace=True) #filling NaN's in city\n",
    "df_test['LOCALITY'].fillna(\"Not known\",inplace=True)\n",
    "df_test['VOTES'].fillna(\"00 votes\",inplace=True)\n",
    "df_test['RATING'].fillna(df_test['RATING'].mode()[0],inplace=True)"
   ]
  },
  {
   "cell_type": "code",
   "execution_count": 106,
   "metadata": {},
   "outputs": [
    {
     "data": {
      "text/plain": [
       "TITLE            0\n",
       "RESTAURANT_ID    0\n",
       "CUISINES         0\n",
       "TIME             0\n",
       "CITY             0\n",
       "LOCALITY         0\n",
       "RATING           0\n",
       "VOTES            0\n",
       "dtype: int64"
      ]
     },
     "execution_count": 106,
     "metadata": {},
     "output_type": "execute_result"
    }
   ],
   "source": [
    "#see if the Nulls are filled\n",
    "df_test.isnull().sum()"
   ]
  },
  {
   "cell_type": "code",
   "execution_count": 107,
   "metadata": {},
   "outputs": [
    {
     "data": {
      "text/plain": [
       "array(['4.3', '4.2', '3.8', '3.6', '3.7', 'NEW', '4', '3.4', '3.2', '4.1',\n",
       "       '3', '-', '3.5', '4.5', '3.9', '3.3', '2.9', '3.1', '2.5', '2.8',\n",
       "       '4.6', '4.4', '2.7', '4.8', '2.6', '4.9', '2.1', '4.7', '2.3',\n",
       "       '2.4', '2.2'], dtype=object)"
      ]
     },
     "execution_count": 107,
     "metadata": {},
     "output_type": "execute_result"
    }
   ],
   "source": [
    "df_test.RATING.unique()"
   ]
  },
  {
   "cell_type": "code",
   "execution_count": 108,
   "metadata": {},
   "outputs": [],
   "source": [
    "df_test['RATING']=df_test['RATING'].replace({'-':3.0,'NEW':3.0})"
   ]
  },
  {
   "cell_type": "code",
   "execution_count": 109,
   "metadata": {},
   "outputs": [],
   "source": [
    "#rating can be changed into float type\n",
    "df_test['RATING']=df_test['RATING'].astype(float)"
   ]
  },
  {
   "cell_type": "markdown",
   "metadata": {},
   "source": [
    "# FEATURE ENGINEERING"
   ]
  },
  {
   "cell_type": "code",
   "execution_count": 110,
   "metadata": {},
   "outputs": [
    {
     "data": {
      "text/html": [
       "<div>\n",
       "<style scoped>\n",
       "    .dataframe tbody tr th:only-of-type {\n",
       "        vertical-align: middle;\n",
       "    }\n",
       "\n",
       "    .dataframe tbody tr th {\n",
       "        vertical-align: top;\n",
       "    }\n",
       "\n",
       "    .dataframe thead th {\n",
       "        text-align: right;\n",
       "    }\n",
       "</style>\n",
       "<table border=\"1\" class=\"dataframe\">\n",
       "  <thead>\n",
       "    <tr style=\"text-align: right;\">\n",
       "      <th></th>\n",
       "      <th>RESTAURANT_ID</th>\n",
       "      <th>CUISINES</th>\n",
       "      <th>TIME</th>\n",
       "      <th>CITY</th>\n",
       "      <th>LOCALITY</th>\n",
       "      <th>RATING</th>\n",
       "      <th>VOTES</th>\n",
       "      <th>TITLE 1</th>\n",
       "      <th>TITLE 2</th>\n",
       "    </tr>\n",
       "  </thead>\n",
       "  <tbody>\n",
       "    <tr>\n",
       "      <th>0</th>\n",
       "      <td>4085</td>\n",
       "      <td>North Indian, Chinese, Mughlai, Kebab</td>\n",
       "      <td>12noon – 12midnight (Mon-Sun)</td>\n",
       "      <td>Noida</td>\n",
       "      <td>Sector 18</td>\n",
       "      <td>4.3</td>\n",
       "      <td>564 votes</td>\n",
       "      <td>CASUAL DINING</td>\n",
       "      <td>NaN</td>\n",
       "    </tr>\n",
       "    <tr>\n",
       "      <th>1</th>\n",
       "      <td>12680</td>\n",
       "      <td>South Indian, Fast Food, Pizza, North Indian</td>\n",
       "      <td>7am – 12:30AM (Mon-Sun)</td>\n",
       "      <td>Mumbai</td>\n",
       "      <td>Grant Road</td>\n",
       "      <td>4.2</td>\n",
       "      <td>61 votes</td>\n",
       "      <td>QUICK BITES</td>\n",
       "      <td>NaN</td>\n",
       "    </tr>\n",
       "    <tr>\n",
       "      <th>2</th>\n",
       "      <td>1411</td>\n",
       "      <td>North Indian, Seafood, Biryani, Chinese</td>\n",
       "      <td>11am – 11:30pm (Mon-Sun)</td>\n",
       "      <td>Mumbai</td>\n",
       "      <td>Marine Lines</td>\n",
       "      <td>3.8</td>\n",
       "      <td>350 votes</td>\n",
       "      <td>CASUAL DINING</td>\n",
       "      <td>NaN</td>\n",
       "    </tr>\n",
       "    <tr>\n",
       "      <th>3</th>\n",
       "      <td>204</td>\n",
       "      <td>Biryani</td>\n",
       "      <td>9am – 10pm (Mon, Wed, Thu, Fri, Sat, Sun), 10:...</td>\n",
       "      <td>Faridabad</td>\n",
       "      <td>NIT</td>\n",
       "      <td>3.8</td>\n",
       "      <td>1445 votes</td>\n",
       "      <td>None</td>\n",
       "      <td>NaN</td>\n",
       "    </tr>\n",
       "    <tr>\n",
       "      <th>4</th>\n",
       "      <td>13453</td>\n",
       "      <td>South Indian, Kerala</td>\n",
       "      <td>11am – 10pm (Mon-Sun)</td>\n",
       "      <td>Kochi</td>\n",
       "      <td>Kaloor</td>\n",
       "      <td>3.6</td>\n",
       "      <td>23 votes</td>\n",
       "      <td>QUICK BITES</td>\n",
       "      <td>NaN</td>\n",
       "    </tr>\n",
       "  </tbody>\n",
       "</table>\n",
       "</div>"
      ],
      "text/plain": [
       "   RESTAURANT_ID                                      CUISINES  \\\n",
       "0           4085         North Indian, Chinese, Mughlai, Kebab   \n",
       "1          12680  South Indian, Fast Food, Pizza, North Indian   \n",
       "2           1411       North Indian, Seafood, Biryani, Chinese   \n",
       "3            204                                       Biryani   \n",
       "4          13453                          South Indian, Kerala   \n",
       "\n",
       "                                                TIME       CITY      LOCALITY  \\\n",
       "0                      12noon – 12midnight (Mon-Sun)      Noida     Sector 18   \n",
       "1                            7am – 12:30AM (Mon-Sun)     Mumbai    Grant Road   \n",
       "2                           11am – 11:30pm (Mon-Sun)     Mumbai  Marine Lines   \n",
       "3  9am – 10pm (Mon, Wed, Thu, Fri, Sat, Sun), 10:...  Faridabad           NIT   \n",
       "4                              11am – 10pm (Mon-Sun)      Kochi        Kaloor   \n",
       "\n",
       "   RATING       VOTES        TITLE 1 TITLE 2  \n",
       "0     4.3   564 votes  CASUAL DINING     NaN  \n",
       "1     4.2    61 votes    QUICK BITES     NaN  \n",
       "2     3.8   350 votes  CASUAL DINING     NaN  \n",
       "3     3.8  1445 votes           None     NaN  \n",
       "4     3.6    23 votes    QUICK BITES     NaN  "
      ]
     },
     "execution_count": 110,
     "metadata": {},
     "output_type": "execute_result"
    }
   ],
   "source": [
    "#splitting the titles into 2 columns\n",
    "df_test['TITLE 1'] = df_test[\"TITLE\"].str.split(\",\").str[0]\n",
    "df_test['TITLE 2']=df_test[\"TITLE\"].str.split(\",\").str[1]\n",
    "\n",
    "#dropping 'TITLE' column\n",
    "df_test.drop(['TITLE'],axis=1,inplace=True)\n",
    "df_test.head()"
   ]
  },
  {
   "cell_type": "code",
   "execution_count": 111,
   "metadata": {},
   "outputs": [
    {
     "data": {
      "text/plain": [
       "3769"
      ]
     },
     "execution_count": 111,
     "metadata": {},
     "output_type": "execute_result"
    }
   ],
   "source": [
    "#check Nulls in title 2\n",
    "df_test['TITLE 2'].isnull().sum()"
   ]
  },
  {
   "cell_type": "code",
   "execution_count": 112,
   "metadata": {},
   "outputs": [],
   "source": [
    "#filling the null in titile 2 with not known\n",
    "df_test['TITLE 2'].fillna(\"Not Known\",inplace=True)"
   ]
  },
  {
   "cell_type": "code",
   "execution_count": 113,
   "metadata": {},
   "outputs": [
    {
     "data": {
      "text/html": [
       "<div>\n",
       "<style scoped>\n",
       "    .dataframe tbody tr th:only-of-type {\n",
       "        vertical-align: middle;\n",
       "    }\n",
       "\n",
       "    .dataframe tbody tr th {\n",
       "        vertical-align: top;\n",
       "    }\n",
       "\n",
       "    .dataframe thead th {\n",
       "        text-align: right;\n",
       "    }\n",
       "</style>\n",
       "<table border=\"1\" class=\"dataframe\">\n",
       "  <thead>\n",
       "    <tr style=\"text-align: right;\">\n",
       "      <th></th>\n",
       "      <th>RESTAURANT_ID</th>\n",
       "      <th>CUISINES</th>\n",
       "      <th>TIME</th>\n",
       "      <th>CITY</th>\n",
       "      <th>LOCALITY</th>\n",
       "      <th>RATING</th>\n",
       "      <th>VOTES</th>\n",
       "      <th>TITLE 1</th>\n",
       "      <th>TITLE 2</th>\n",
       "    </tr>\n",
       "  </thead>\n",
       "  <tbody>\n",
       "    <tr>\n",
       "      <th>0</th>\n",
       "      <td>4085</td>\n",
       "      <td>North Indian, Chinese, Mughlai, Kebab</td>\n",
       "      <td>12noon – 12midnight (Mon-Sun)</td>\n",
       "      <td>Noida</td>\n",
       "      <td>Sector 18</td>\n",
       "      <td>4.3</td>\n",
       "      <td>564</td>\n",
       "      <td>CASUAL DINING</td>\n",
       "      <td>Not Known</td>\n",
       "    </tr>\n",
       "    <tr>\n",
       "      <th>1</th>\n",
       "      <td>12680</td>\n",
       "      <td>South Indian, Fast Food, Pizza, North Indian</td>\n",
       "      <td>7am – 12:30AM (Mon-Sun)</td>\n",
       "      <td>Mumbai</td>\n",
       "      <td>Grant Road</td>\n",
       "      <td>4.2</td>\n",
       "      <td>61</td>\n",
       "      <td>QUICK BITES</td>\n",
       "      <td>Not Known</td>\n",
       "    </tr>\n",
       "    <tr>\n",
       "      <th>2</th>\n",
       "      <td>1411</td>\n",
       "      <td>North Indian, Seafood, Biryani, Chinese</td>\n",
       "      <td>11am – 11:30pm (Mon-Sun)</td>\n",
       "      <td>Mumbai</td>\n",
       "      <td>Marine Lines</td>\n",
       "      <td>3.8</td>\n",
       "      <td>350</td>\n",
       "      <td>CASUAL DINING</td>\n",
       "      <td>Not Known</td>\n",
       "    </tr>\n",
       "    <tr>\n",
       "      <th>3</th>\n",
       "      <td>204</td>\n",
       "      <td>Biryani</td>\n",
       "      <td>9am – 10pm (Mon, Wed, Thu, Fri, Sat, Sun), 10:...</td>\n",
       "      <td>Faridabad</td>\n",
       "      <td>NIT</td>\n",
       "      <td>3.8</td>\n",
       "      <td>1445</td>\n",
       "      <td>None</td>\n",
       "      <td>Not Known</td>\n",
       "    </tr>\n",
       "    <tr>\n",
       "      <th>4</th>\n",
       "      <td>13453</td>\n",
       "      <td>South Indian, Kerala</td>\n",
       "      <td>11am – 10pm (Mon-Sun)</td>\n",
       "      <td>Kochi</td>\n",
       "      <td>Kaloor</td>\n",
       "      <td>3.6</td>\n",
       "      <td>23</td>\n",
       "      <td>QUICK BITES</td>\n",
       "      <td>Not Known</td>\n",
       "    </tr>\n",
       "  </tbody>\n",
       "</table>\n",
       "</div>"
      ],
      "text/plain": [
       "   RESTAURANT_ID                                      CUISINES  \\\n",
       "0           4085         North Indian, Chinese, Mughlai, Kebab   \n",
       "1          12680  South Indian, Fast Food, Pizza, North Indian   \n",
       "2           1411       North Indian, Seafood, Biryani, Chinese   \n",
       "3            204                                       Biryani   \n",
       "4          13453                          South Indian, Kerala   \n",
       "\n",
       "                                                TIME       CITY      LOCALITY  \\\n",
       "0                      12noon – 12midnight (Mon-Sun)      Noida     Sector 18   \n",
       "1                            7am – 12:30AM (Mon-Sun)     Mumbai    Grant Road   \n",
       "2                           11am – 11:30pm (Mon-Sun)     Mumbai  Marine Lines   \n",
       "3  9am – 10pm (Mon, Wed, Thu, Fri, Sat, Sun), 10:...  Faridabad           NIT   \n",
       "4                              11am – 10pm (Mon-Sun)      Kochi        Kaloor   \n",
       "\n",
       "   RATING VOTES        TITLE 1    TITLE 2  \n",
       "0     4.3   564  CASUAL DINING  Not Known  \n",
       "1     4.2    61    QUICK BITES  Not Known  \n",
       "2     3.8   350  CASUAL DINING  Not Known  \n",
       "3     3.8  1445           None  Not Known  \n",
       "4     3.6    23    QUICK BITES  Not Known  "
      ]
     },
     "execution_count": 113,
     "metadata": {},
     "output_type": "execute_result"
    }
   ],
   "source": [
    "#breaking the votes column for visualization\n",
    "df_test['VOTES']=df_test['VOTES'].str.split(' ').str[0]\n",
    "df_test.head()"
   ]
  },
  {
   "cell_type": "code",
   "execution_count": 114,
   "metadata": {},
   "outputs": [],
   "source": [
    "#changing data type for votes\n",
    "df_test['VOTES']=df_test['VOTES'].astype(int)"
   ]
  },
  {
   "cell_type": "code",
   "execution_count": 115,
   "metadata": {},
   "outputs": [],
   "source": [
    "df_test['VOTES']=df_test['VOTES'].replace({00:132.0})"
   ]
  },
  {
   "cell_type": "markdown",
   "metadata": {},
   "source": [
    "# As we can see 'RESTAURANT ID ' wont affect our target variable so we can drop it"
   ]
  },
  {
   "cell_type": "code",
   "execution_count": 116,
   "metadata": {},
   "outputs": [],
   "source": [
    "df_test.drop(['RESTAURANT_ID'],axis=1,inplace=True)"
   ]
  },
  {
   "cell_type": "code",
   "execution_count": 117,
   "metadata": {},
   "outputs": [
    {
     "data": {
      "text/html": [
       "<div>\n",
       "<style scoped>\n",
       "    .dataframe tbody tr th:only-of-type {\n",
       "        vertical-align: middle;\n",
       "    }\n",
       "\n",
       "    .dataframe tbody tr th {\n",
       "        vertical-align: top;\n",
       "    }\n",
       "\n",
       "    .dataframe thead th {\n",
       "        text-align: right;\n",
       "    }\n",
       "</style>\n",
       "<table border=\"1\" class=\"dataframe\">\n",
       "  <thead>\n",
       "    <tr style=\"text-align: right;\">\n",
       "      <th></th>\n",
       "      <th>0</th>\n",
       "      <th>1</th>\n",
       "      <th>2</th>\n",
       "      <th>3</th>\n",
       "      <th>4</th>\n",
       "      <th>5</th>\n",
       "      <th>6</th>\n",
       "      <th>7</th>\n",
       "    </tr>\n",
       "  </thead>\n",
       "  <tbody>\n",
       "    <tr>\n",
       "      <th>0</th>\n",
       "      <td>North Indian</td>\n",
       "      <td>Chinese</td>\n",
       "      <td>Mughlai</td>\n",
       "      <td>Kebab</td>\n",
       "      <td>None</td>\n",
       "      <td>None</td>\n",
       "      <td>None</td>\n",
       "      <td>None</td>\n",
       "    </tr>\n",
       "    <tr>\n",
       "      <th>1</th>\n",
       "      <td>South Indian</td>\n",
       "      <td>Fast Food</td>\n",
       "      <td>Pizza</td>\n",
       "      <td>North Indian</td>\n",
       "      <td>None</td>\n",
       "      <td>None</td>\n",
       "      <td>None</td>\n",
       "      <td>None</td>\n",
       "    </tr>\n",
       "    <tr>\n",
       "      <th>2</th>\n",
       "      <td>North Indian</td>\n",
       "      <td>Seafood</td>\n",
       "      <td>Biryani</td>\n",
       "      <td>Chinese</td>\n",
       "      <td>None</td>\n",
       "      <td>None</td>\n",
       "      <td>None</td>\n",
       "      <td>None</td>\n",
       "    </tr>\n",
       "    <tr>\n",
       "      <th>3</th>\n",
       "      <td>Biryani</td>\n",
       "      <td>None</td>\n",
       "      <td>None</td>\n",
       "      <td>None</td>\n",
       "      <td>None</td>\n",
       "      <td>None</td>\n",
       "      <td>None</td>\n",
       "      <td>None</td>\n",
       "    </tr>\n",
       "    <tr>\n",
       "      <th>4</th>\n",
       "      <td>South Indian</td>\n",
       "      <td>Kerala</td>\n",
       "      <td>None</td>\n",
       "      <td>None</td>\n",
       "      <td>None</td>\n",
       "      <td>None</td>\n",
       "      <td>None</td>\n",
       "      <td>None</td>\n",
       "    </tr>\n",
       "    <tr>\n",
       "      <th>...</th>\n",
       "      <td>...</td>\n",
       "      <td>...</td>\n",
       "      <td>...</td>\n",
       "      <td>...</td>\n",
       "      <td>...</td>\n",
       "      <td>...</td>\n",
       "      <td>...</td>\n",
       "      <td>...</td>\n",
       "    </tr>\n",
       "    <tr>\n",
       "      <th>4226</th>\n",
       "      <td>North Indian</td>\n",
       "      <td>Mughlai</td>\n",
       "      <td>Chinese</td>\n",
       "      <td>None</td>\n",
       "      <td>None</td>\n",
       "      <td>None</td>\n",
       "      <td>None</td>\n",
       "      <td>None</td>\n",
       "    </tr>\n",
       "    <tr>\n",
       "      <th>4227</th>\n",
       "      <td>Biryani</td>\n",
       "      <td>North Indian</td>\n",
       "      <td>Sandwich</td>\n",
       "      <td>Salad</td>\n",
       "      <td>Wraps</td>\n",
       "      <td>None</td>\n",
       "      <td>None</td>\n",
       "      <td>None</td>\n",
       "    </tr>\n",
       "    <tr>\n",
       "      <th>4228</th>\n",
       "      <td>Continental</td>\n",
       "      <td>North Indian</td>\n",
       "      <td>None</td>\n",
       "      <td>None</td>\n",
       "      <td>None</td>\n",
       "      <td>None</td>\n",
       "      <td>None</td>\n",
       "      <td>None</td>\n",
       "    </tr>\n",
       "    <tr>\n",
       "      <th>4229</th>\n",
       "      <td>Rolls</td>\n",
       "      <td>Beverages</td>\n",
       "      <td>None</td>\n",
       "      <td>None</td>\n",
       "      <td>None</td>\n",
       "      <td>None</td>\n",
       "      <td>None</td>\n",
       "      <td>None</td>\n",
       "    </tr>\n",
       "    <tr>\n",
       "      <th>4230</th>\n",
       "      <td>Mughlai</td>\n",
       "      <td>None</td>\n",
       "      <td>None</td>\n",
       "      <td>None</td>\n",
       "      <td>None</td>\n",
       "      <td>None</td>\n",
       "      <td>None</td>\n",
       "      <td>None</td>\n",
       "    </tr>\n",
       "  </tbody>\n",
       "</table>\n",
       "<p>4231 rows × 8 columns</p>\n",
       "</div>"
      ],
      "text/plain": [
       "                 0              1          2              3       4     5  \\\n",
       "0     North Indian        Chinese    Mughlai          Kebab    None  None   \n",
       "1     South Indian      Fast Food      Pizza   North Indian    None  None   \n",
       "2     North Indian        Seafood    Biryani        Chinese    None  None   \n",
       "3          Biryani           None       None           None    None  None   \n",
       "4     South Indian         Kerala       None           None    None  None   \n",
       "...            ...            ...        ...            ...     ...   ...   \n",
       "4226  North Indian        Mughlai    Chinese           None    None  None   \n",
       "4227       Biryani   North Indian   Sandwich          Salad   Wraps  None   \n",
       "4228   Continental   North Indian       None           None    None  None   \n",
       "4229         Rolls      Beverages       None           None    None  None   \n",
       "4230       Mughlai           None       None           None    None  None   \n",
       "\n",
       "         6     7  \n",
       "0     None  None  \n",
       "1     None  None  \n",
       "2     None  None  \n",
       "3     None  None  \n",
       "4     None  None  \n",
       "...    ...   ...  \n",
       "4226  None  None  \n",
       "4227  None  None  \n",
       "4228  None  None  \n",
       "4229  None  None  \n",
       "4230  None  None  \n",
       "\n",
       "[4231 rows x 8 columns]"
      ]
     },
     "execution_count": 117,
     "metadata": {},
     "output_type": "execute_result"
    }
   ],
   "source": [
    "#splitting cuisines\n",
    "df_test['CUISINES'].str.split(\",\",expand=True)"
   ]
  },
  {
   "cell_type": "code",
   "execution_count": 118,
   "metadata": {},
   "outputs": [],
   "source": [
    "#assinging names to the spiltted columns\n",
    "split_cuisines = df_test[\"CUISINES\"].str.split(\",\", expand = True)\n",
    "df_test[\"CUISINE 1\"] = split_cuisines[0]\n",
    "df_test[\"CUISINE 2\"] = split_cuisines[1]\n",
    "df_test[\"CUISINE 3\"] = split_cuisines[2]\n",
    "df_test[\"CUISINE 4\"] = split_cuisines[3]\n",
    "df_test[\"CUISINE 5\"] = split_cuisines[4]\n",
    "df_test[\"CUISINE 6\"] = split_cuisines[5]\n",
    "df_test[\"CUISINE 7\"] = split_cuisines[6]\n",
    "df_test[\"CUISINE 8\"] = split_cuisines[7]"
   ]
  },
  {
   "cell_type": "code",
   "execution_count": 119,
   "metadata": {},
   "outputs": [
    {
     "data": {
      "text/html": [
       "<div>\n",
       "<style scoped>\n",
       "    .dataframe tbody tr th:only-of-type {\n",
       "        vertical-align: middle;\n",
       "    }\n",
       "\n",
       "    .dataframe tbody tr th {\n",
       "        vertical-align: top;\n",
       "    }\n",
       "\n",
       "    .dataframe thead th {\n",
       "        text-align: right;\n",
       "    }\n",
       "</style>\n",
       "<table border=\"1\" class=\"dataframe\">\n",
       "  <thead>\n",
       "    <tr style=\"text-align: right;\">\n",
       "      <th></th>\n",
       "      <th>TIME</th>\n",
       "      <th>CITY</th>\n",
       "      <th>LOCALITY</th>\n",
       "      <th>RATING</th>\n",
       "      <th>VOTES</th>\n",
       "      <th>TITLE 1</th>\n",
       "      <th>TITLE 2</th>\n",
       "      <th>CUISINE 1</th>\n",
       "      <th>CUISINE 2</th>\n",
       "      <th>CUISINE 3</th>\n",
       "      <th>CUISINE 4</th>\n",
       "      <th>CUISINE 5</th>\n",
       "      <th>CUISINE 6</th>\n",
       "      <th>CUISINE 7</th>\n",
       "      <th>CUISINE 8</th>\n",
       "    </tr>\n",
       "  </thead>\n",
       "  <tbody>\n",
       "    <tr>\n",
       "      <th>0</th>\n",
       "      <td>12noon – 12midnight (Mon-Sun)</td>\n",
       "      <td>Noida</td>\n",
       "      <td>Sector 18</td>\n",
       "      <td>4.3</td>\n",
       "      <td>564.0</td>\n",
       "      <td>CASUAL DINING</td>\n",
       "      <td>Not Known</td>\n",
       "      <td>North Indian</td>\n",
       "      <td>Chinese</td>\n",
       "      <td>Mughlai</td>\n",
       "      <td>Kebab</td>\n",
       "      <td>None</td>\n",
       "      <td>None</td>\n",
       "      <td>None</td>\n",
       "      <td>None</td>\n",
       "    </tr>\n",
       "    <tr>\n",
       "      <th>1</th>\n",
       "      <td>7am – 12:30AM (Mon-Sun)</td>\n",
       "      <td>Mumbai</td>\n",
       "      <td>Grant Road</td>\n",
       "      <td>4.2</td>\n",
       "      <td>61.0</td>\n",
       "      <td>QUICK BITES</td>\n",
       "      <td>Not Known</td>\n",
       "      <td>South Indian</td>\n",
       "      <td>Fast Food</td>\n",
       "      <td>Pizza</td>\n",
       "      <td>North Indian</td>\n",
       "      <td>None</td>\n",
       "      <td>None</td>\n",
       "      <td>None</td>\n",
       "      <td>None</td>\n",
       "    </tr>\n",
       "    <tr>\n",
       "      <th>2</th>\n",
       "      <td>11am – 11:30pm (Mon-Sun)</td>\n",
       "      <td>Mumbai</td>\n",
       "      <td>Marine Lines</td>\n",
       "      <td>3.8</td>\n",
       "      <td>350.0</td>\n",
       "      <td>CASUAL DINING</td>\n",
       "      <td>Not Known</td>\n",
       "      <td>North Indian</td>\n",
       "      <td>Seafood</td>\n",
       "      <td>Biryani</td>\n",
       "      <td>Chinese</td>\n",
       "      <td>None</td>\n",
       "      <td>None</td>\n",
       "      <td>None</td>\n",
       "      <td>None</td>\n",
       "    </tr>\n",
       "    <tr>\n",
       "      <th>3</th>\n",
       "      <td>9am – 10pm (Mon, Wed, Thu, Fri, Sat, Sun), 10:...</td>\n",
       "      <td>Faridabad</td>\n",
       "      <td>NIT</td>\n",
       "      <td>3.8</td>\n",
       "      <td>1445.0</td>\n",
       "      <td>None</td>\n",
       "      <td>Not Known</td>\n",
       "      <td>Biryani</td>\n",
       "      <td>None</td>\n",
       "      <td>None</td>\n",
       "      <td>None</td>\n",
       "      <td>None</td>\n",
       "      <td>None</td>\n",
       "      <td>None</td>\n",
       "      <td>None</td>\n",
       "    </tr>\n",
       "    <tr>\n",
       "      <th>4</th>\n",
       "      <td>11am – 10pm (Mon-Sun)</td>\n",
       "      <td>Kochi</td>\n",
       "      <td>Kaloor</td>\n",
       "      <td>3.6</td>\n",
       "      <td>23.0</td>\n",
       "      <td>QUICK BITES</td>\n",
       "      <td>Not Known</td>\n",
       "      <td>South Indian</td>\n",
       "      <td>Kerala</td>\n",
       "      <td>None</td>\n",
       "      <td>None</td>\n",
       "      <td>None</td>\n",
       "      <td>None</td>\n",
       "      <td>None</td>\n",
       "      <td>None</td>\n",
       "    </tr>\n",
       "  </tbody>\n",
       "</table>\n",
       "</div>"
      ],
      "text/plain": [
       "                                                TIME       CITY      LOCALITY  \\\n",
       "0                      12noon – 12midnight (Mon-Sun)      Noida     Sector 18   \n",
       "1                            7am – 12:30AM (Mon-Sun)     Mumbai    Grant Road   \n",
       "2                           11am – 11:30pm (Mon-Sun)     Mumbai  Marine Lines   \n",
       "3  9am – 10pm (Mon, Wed, Thu, Fri, Sat, Sun), 10:...  Faridabad           NIT   \n",
       "4                              11am – 10pm (Mon-Sun)      Kochi        Kaloor   \n",
       "\n",
       "   RATING   VOTES        TITLE 1    TITLE 2     CUISINE 1   CUISINE 2  \\\n",
       "0     4.3   564.0  CASUAL DINING  Not Known  North Indian     Chinese   \n",
       "1     4.2    61.0    QUICK BITES  Not Known  South Indian   Fast Food   \n",
       "2     3.8   350.0  CASUAL DINING  Not Known  North Indian     Seafood   \n",
       "3     3.8  1445.0           None  Not Known       Biryani        None   \n",
       "4     3.6    23.0    QUICK BITES  Not Known  South Indian      Kerala   \n",
       "\n",
       "  CUISINE 3      CUISINE 4 CUISINE 5 CUISINE 6 CUISINE 7 CUISINE 8  \n",
       "0   Mughlai          Kebab      None      None      None      None  \n",
       "1     Pizza   North Indian      None      None      None      None  \n",
       "2   Biryani        Chinese      None      None      None      None  \n",
       "3      None           None      None      None      None      None  \n",
       "4      None           None      None      None      None      None  "
      ]
     },
     "execution_count": 119,
     "metadata": {},
     "output_type": "execute_result"
    }
   ],
   "source": [
    "df_test.drop(columns =[\"CUISINES\"],axis=1, inplace = True)\n",
    "df_test.head()"
   ]
  },
  {
   "cell_type": "code",
   "execution_count": 120,
   "metadata": {},
   "outputs": [
    {
     "data": {
      "text/plain": [
       "TIME            0\n",
       "CITY            0\n",
       "LOCALITY        0\n",
       "RATING          0\n",
       "VOTES           0\n",
       "TITLE 1         0\n",
       "TITLE 2         0\n",
       "CUISINE 1       0\n",
       "CUISINE 2     985\n",
       "CUISINE 3    2331\n",
       "CUISINE 4    3314\n",
       "CUISINE 5    3875\n",
       "CUISINE 6    4094\n",
       "CUISINE 7    4157\n",
       "CUISINE 8    4200\n",
       "dtype: int64"
      ]
     },
     "execution_count": 120,
     "metadata": {},
     "output_type": "execute_result"
    }
   ],
   "source": [
    "df_test.isnull().sum()"
   ]
  },
  {
   "cell_type": "markdown",
   "metadata": {},
   "source": [
    "# Splitting the time column into shift one shift two and day"
   ]
  },
  {
   "cell_type": "code",
   "execution_count": 121,
   "metadata": {},
   "outputs": [],
   "source": [
    "df_test.drop(columns=['CUISINE 4','CUISINE 5','CUISINE 6','CUISINE 7','CUISINE 8'],axis=1,inplace=True)"
   ]
  },
  {
   "cell_type": "code",
   "execution_count": 122,
   "metadata": {},
   "outputs": [],
   "source": [
    "#filling the remaining Null values\n",
    "\n",
    "list1=['CUISINE 2','CUISINE 3']\n",
    "for k in list1:\n",
    "    df_test[k].fillna(\"Not known\",inplace=True)"
   ]
  },
  {
   "cell_type": "code",
   "execution_count": 123,
   "metadata": {},
   "outputs": [
    {
     "data": {
      "text/plain": [
       "TIME         0\n",
       "CITY         0\n",
       "LOCALITY     0\n",
       "RATING       0\n",
       "VOTES        0\n",
       "TITLE 1      0\n",
       "TITLE 2      0\n",
       "CUISINE 1    0\n",
       "CUISINE 2    0\n",
       "CUISINE 3    0\n",
       "dtype: int64"
      ]
     },
     "execution_count": 123,
     "metadata": {},
     "output_type": "execute_result"
    }
   ],
   "source": [
    "df_test.isnull().sum()"
   ]
  },
  {
   "cell_type": "code",
   "execution_count": 124,
   "metadata": {},
   "outputs": [],
   "source": [
    "#splitting into shift one\n",
    "import numpy as np\n",
    "def extractShiftOne(i):\n",
    "\n",
    "    timing = \"Not available\"\n",
    "    if i is np.nan:\n",
    "        pass\n",
    "    else:\n",
    "        if \",\" in i:\n",
    "            timing= i.split(\",\")[0]\n",
    "            \n",
    "        else:\n",
    "            timing = i.split(\"(\")[0]\n",
    "            \n",
    "    return timing"
   ]
  },
  {
   "cell_type": "code",
   "execution_count": 125,
   "metadata": {},
   "outputs": [],
   "source": [
    "#call the function\n",
    "df_test[\"Shift one\"] = df_test[\"TIME\"].apply(extractShiftOne)"
   ]
  },
  {
   "cell_type": "code",
   "execution_count": 126,
   "metadata": {},
   "outputs": [
    {
     "data": {
      "text/html": [
       "<div>\n",
       "<style scoped>\n",
       "    .dataframe tbody tr th:only-of-type {\n",
       "        vertical-align: middle;\n",
       "    }\n",
       "\n",
       "    .dataframe tbody tr th {\n",
       "        vertical-align: top;\n",
       "    }\n",
       "\n",
       "    .dataframe thead th {\n",
       "        text-align: right;\n",
       "    }\n",
       "</style>\n",
       "<table border=\"1\" class=\"dataframe\">\n",
       "  <thead>\n",
       "    <tr style=\"text-align: right;\">\n",
       "      <th></th>\n",
       "      <th>TIME</th>\n",
       "      <th>CITY</th>\n",
       "      <th>LOCALITY</th>\n",
       "      <th>RATING</th>\n",
       "      <th>VOTES</th>\n",
       "      <th>TITLE 1</th>\n",
       "      <th>TITLE 2</th>\n",
       "      <th>CUISINE 1</th>\n",
       "      <th>CUISINE 2</th>\n",
       "      <th>CUISINE 3</th>\n",
       "      <th>Shift one</th>\n",
       "    </tr>\n",
       "  </thead>\n",
       "  <tbody>\n",
       "    <tr>\n",
       "      <th>0</th>\n",
       "      <td>12noon – 12midnight (Mon-Sun)</td>\n",
       "      <td>Noida</td>\n",
       "      <td>Sector 18</td>\n",
       "      <td>4.3</td>\n",
       "      <td>564.0</td>\n",
       "      <td>CASUAL DINING</td>\n",
       "      <td>Not Known</td>\n",
       "      <td>North Indian</td>\n",
       "      <td>Chinese</td>\n",
       "      <td>Mughlai</td>\n",
       "      <td>12noon – 12midnight</td>\n",
       "    </tr>\n",
       "    <tr>\n",
       "      <th>1</th>\n",
       "      <td>7am – 12:30AM (Mon-Sun)</td>\n",
       "      <td>Mumbai</td>\n",
       "      <td>Grant Road</td>\n",
       "      <td>4.2</td>\n",
       "      <td>61.0</td>\n",
       "      <td>QUICK BITES</td>\n",
       "      <td>Not Known</td>\n",
       "      <td>South Indian</td>\n",
       "      <td>Fast Food</td>\n",
       "      <td>Pizza</td>\n",
       "      <td>7am – 12:30AM</td>\n",
       "    </tr>\n",
       "    <tr>\n",
       "      <th>2</th>\n",
       "      <td>11am – 11:30pm (Mon-Sun)</td>\n",
       "      <td>Mumbai</td>\n",
       "      <td>Marine Lines</td>\n",
       "      <td>3.8</td>\n",
       "      <td>350.0</td>\n",
       "      <td>CASUAL DINING</td>\n",
       "      <td>Not Known</td>\n",
       "      <td>North Indian</td>\n",
       "      <td>Seafood</td>\n",
       "      <td>Biryani</td>\n",
       "      <td>11am – 11:30pm</td>\n",
       "    </tr>\n",
       "    <tr>\n",
       "      <th>3</th>\n",
       "      <td>9am – 10pm (Mon, Wed, Thu, Fri, Sat, Sun), 10:...</td>\n",
       "      <td>Faridabad</td>\n",
       "      <td>NIT</td>\n",
       "      <td>3.8</td>\n",
       "      <td>1445.0</td>\n",
       "      <td>None</td>\n",
       "      <td>Not Known</td>\n",
       "      <td>Biryani</td>\n",
       "      <td>Not known</td>\n",
       "      <td>Not known</td>\n",
       "      <td>9am – 10pm (Mon</td>\n",
       "    </tr>\n",
       "    <tr>\n",
       "      <th>4</th>\n",
       "      <td>11am – 10pm (Mon-Sun)</td>\n",
       "      <td>Kochi</td>\n",
       "      <td>Kaloor</td>\n",
       "      <td>3.6</td>\n",
       "      <td>23.0</td>\n",
       "      <td>QUICK BITES</td>\n",
       "      <td>Not Known</td>\n",
       "      <td>South Indian</td>\n",
       "      <td>Kerala</td>\n",
       "      <td>Not known</td>\n",
       "      <td>11am – 10pm</td>\n",
       "    </tr>\n",
       "  </tbody>\n",
       "</table>\n",
       "</div>"
      ],
      "text/plain": [
       "                                                TIME       CITY      LOCALITY  \\\n",
       "0                      12noon – 12midnight (Mon-Sun)      Noida     Sector 18   \n",
       "1                            7am – 12:30AM (Mon-Sun)     Mumbai    Grant Road   \n",
       "2                           11am – 11:30pm (Mon-Sun)     Mumbai  Marine Lines   \n",
       "3  9am – 10pm (Mon, Wed, Thu, Fri, Sat, Sun), 10:...  Faridabad           NIT   \n",
       "4                              11am – 10pm (Mon-Sun)      Kochi        Kaloor   \n",
       "\n",
       "   RATING   VOTES        TITLE 1    TITLE 2     CUISINE 1   CUISINE 2  \\\n",
       "0     4.3   564.0  CASUAL DINING  Not Known  North Indian     Chinese   \n",
       "1     4.2    61.0    QUICK BITES  Not Known  South Indian   Fast Food   \n",
       "2     3.8   350.0  CASUAL DINING  Not Known  North Indian     Seafood   \n",
       "3     3.8  1445.0           None  Not Known       Biryani   Not known   \n",
       "4     3.6    23.0    QUICK BITES  Not Known  South Indian      Kerala   \n",
       "\n",
       "   CUISINE 3             Shift one  \n",
       "0    Mughlai  12noon – 12midnight   \n",
       "1      Pizza        7am – 12:30AM   \n",
       "2    Biryani       11am – 11:30pm   \n",
       "3  Not known       9am – 10pm (Mon  \n",
       "4  Not known          11am – 10pm   "
      ]
     },
     "execution_count": 126,
     "metadata": {},
     "output_type": "execute_result"
    }
   ],
   "source": [
    "#check the data\n",
    "df_test.head()"
   ]
  },
  {
   "cell_type": "markdown",
   "metadata": {},
   "source": [
    "# splitting into shift 2"
   ]
  },
  {
   "cell_type": "code",
   "execution_count": 127,
   "metadata": {},
   "outputs": [],
   "source": [
    "#splitting into shift 2\n",
    "import numpy as np\n",
    "def extractShiftTwo(i):\n",
    "\n",
    "    timing = \"Not available\"\n",
    "    if i is np.nan:\n",
    "        pass\n",
    "    else:\n",
    "        if \",\" in i:\n",
    "            timing= i.split(\",\")[1].split(\"(\")[0]\n",
    "       \n",
    "    return timing"
   ]
  },
  {
   "cell_type": "code",
   "execution_count": 128,
   "metadata": {},
   "outputs": [],
   "source": [
    "df_test[\"Shift Two\"] = df_test[\"TIME\"].apply(extractShiftTwo)"
   ]
  },
  {
   "cell_type": "code",
   "execution_count": 129,
   "metadata": {},
   "outputs": [
    {
     "data": {
      "text/html": [
       "<div>\n",
       "<style scoped>\n",
       "    .dataframe tbody tr th:only-of-type {\n",
       "        vertical-align: middle;\n",
       "    }\n",
       "\n",
       "    .dataframe tbody tr th {\n",
       "        vertical-align: top;\n",
       "    }\n",
       "\n",
       "    .dataframe thead th {\n",
       "        text-align: right;\n",
       "    }\n",
       "</style>\n",
       "<table border=\"1\" class=\"dataframe\">\n",
       "  <thead>\n",
       "    <tr style=\"text-align: right;\">\n",
       "      <th></th>\n",
       "      <th>TIME</th>\n",
       "      <th>CITY</th>\n",
       "      <th>LOCALITY</th>\n",
       "      <th>RATING</th>\n",
       "      <th>VOTES</th>\n",
       "      <th>TITLE 1</th>\n",
       "      <th>TITLE 2</th>\n",
       "      <th>CUISINE 1</th>\n",
       "      <th>CUISINE 2</th>\n",
       "      <th>CUISINE 3</th>\n",
       "      <th>Shift one</th>\n",
       "      <th>Shift Two</th>\n",
       "    </tr>\n",
       "  </thead>\n",
       "  <tbody>\n",
       "    <tr>\n",
       "      <th>0</th>\n",
       "      <td>12noon – 12midnight (Mon-Sun)</td>\n",
       "      <td>Noida</td>\n",
       "      <td>Sector 18</td>\n",
       "      <td>4.3</td>\n",
       "      <td>564.0</td>\n",
       "      <td>CASUAL DINING</td>\n",
       "      <td>Not Known</td>\n",
       "      <td>North Indian</td>\n",
       "      <td>Chinese</td>\n",
       "      <td>Mughlai</td>\n",
       "      <td>12noon – 12midnight</td>\n",
       "      <td>Not available</td>\n",
       "    </tr>\n",
       "    <tr>\n",
       "      <th>1</th>\n",
       "      <td>7am – 12:30AM (Mon-Sun)</td>\n",
       "      <td>Mumbai</td>\n",
       "      <td>Grant Road</td>\n",
       "      <td>4.2</td>\n",
       "      <td>61.0</td>\n",
       "      <td>QUICK BITES</td>\n",
       "      <td>Not Known</td>\n",
       "      <td>South Indian</td>\n",
       "      <td>Fast Food</td>\n",
       "      <td>Pizza</td>\n",
       "      <td>7am – 12:30AM</td>\n",
       "      <td>Not available</td>\n",
       "    </tr>\n",
       "    <tr>\n",
       "      <th>2</th>\n",
       "      <td>11am – 11:30pm (Mon-Sun)</td>\n",
       "      <td>Mumbai</td>\n",
       "      <td>Marine Lines</td>\n",
       "      <td>3.8</td>\n",
       "      <td>350.0</td>\n",
       "      <td>CASUAL DINING</td>\n",
       "      <td>Not Known</td>\n",
       "      <td>North Indian</td>\n",
       "      <td>Seafood</td>\n",
       "      <td>Biryani</td>\n",
       "      <td>11am – 11:30pm</td>\n",
       "      <td>Not available</td>\n",
       "    </tr>\n",
       "    <tr>\n",
       "      <th>3</th>\n",
       "      <td>9am – 10pm (Mon, Wed, Thu, Fri, Sat, Sun), 10:...</td>\n",
       "      <td>Faridabad</td>\n",
       "      <td>NIT</td>\n",
       "      <td>3.8</td>\n",
       "      <td>1445.0</td>\n",
       "      <td>None</td>\n",
       "      <td>Not Known</td>\n",
       "      <td>Biryani</td>\n",
       "      <td>Not known</td>\n",
       "      <td>Not known</td>\n",
       "      <td>9am – 10pm (Mon</td>\n",
       "      <td>Wed</td>\n",
       "    </tr>\n",
       "    <tr>\n",
       "      <th>4</th>\n",
       "      <td>11am – 10pm (Mon-Sun)</td>\n",
       "      <td>Kochi</td>\n",
       "      <td>Kaloor</td>\n",
       "      <td>3.6</td>\n",
       "      <td>23.0</td>\n",
       "      <td>QUICK BITES</td>\n",
       "      <td>Not Known</td>\n",
       "      <td>South Indian</td>\n",
       "      <td>Kerala</td>\n",
       "      <td>Not known</td>\n",
       "      <td>11am – 10pm</td>\n",
       "      <td>Not available</td>\n",
       "    </tr>\n",
       "  </tbody>\n",
       "</table>\n",
       "</div>"
      ],
      "text/plain": [
       "                                                TIME       CITY      LOCALITY  \\\n",
       "0                      12noon – 12midnight (Mon-Sun)      Noida     Sector 18   \n",
       "1                            7am – 12:30AM (Mon-Sun)     Mumbai    Grant Road   \n",
       "2                           11am – 11:30pm (Mon-Sun)     Mumbai  Marine Lines   \n",
       "3  9am – 10pm (Mon, Wed, Thu, Fri, Sat, Sun), 10:...  Faridabad           NIT   \n",
       "4                              11am – 10pm (Mon-Sun)      Kochi        Kaloor   \n",
       "\n",
       "   RATING   VOTES        TITLE 1    TITLE 2     CUISINE 1   CUISINE 2  \\\n",
       "0     4.3   564.0  CASUAL DINING  Not Known  North Indian     Chinese   \n",
       "1     4.2    61.0    QUICK BITES  Not Known  South Indian   Fast Food   \n",
       "2     3.8   350.0  CASUAL DINING  Not Known  North Indian     Seafood   \n",
       "3     3.8  1445.0           None  Not Known       Biryani   Not known   \n",
       "4     3.6    23.0    QUICK BITES  Not Known  South Indian      Kerala   \n",
       "\n",
       "   CUISINE 3             Shift one      Shift Two  \n",
       "0    Mughlai  12noon – 12midnight   Not available  \n",
       "1      Pizza        7am – 12:30AM   Not available  \n",
       "2    Biryani       11am – 11:30pm   Not available  \n",
       "3  Not known       9am – 10pm (Mon            Wed  \n",
       "4  Not known          11am – 10pm   Not available  "
      ]
     },
     "execution_count": 129,
     "metadata": {},
     "output_type": "execute_result"
    }
   ],
   "source": [
    "df_test.head()"
   ]
  },
  {
   "cell_type": "markdown",
   "metadata": {},
   "source": [
    "# extracting days from time"
   ]
  },
  {
   "cell_type": "code",
   "execution_count": 130,
   "metadata": {},
   "outputs": [],
   "source": [
    "def extractDays(i):\n",
    "\n",
    "    days = \"Not Known\"\n",
    "    if i is np.nan:\n",
    "        pass\n",
    "    else:\n",
    "        if \"(\" in i:\n",
    "            days= i.split(\"(\")[-1][0:-1]\n",
    "    return days"
   ]
  },
  {
   "cell_type": "code",
   "execution_count": 131,
   "metadata": {},
   "outputs": [],
   "source": [
    "df_test['Days']=df_test[\"TIME\"].apply(extractDays)"
   ]
  },
  {
   "cell_type": "code",
   "execution_count": 132,
   "metadata": {},
   "outputs": [],
   "source": [
    "#dropping the time column\n",
    "df_test.drop(['TIME'],axis=1,inplace=True)"
   ]
  },
  {
   "cell_type": "code",
   "execution_count": 133,
   "metadata": {},
   "outputs": [
    {
     "data": {
      "text/html": [
       "<div>\n",
       "<style scoped>\n",
       "    .dataframe tbody tr th:only-of-type {\n",
       "        vertical-align: middle;\n",
       "    }\n",
       "\n",
       "    .dataframe tbody tr th {\n",
       "        vertical-align: top;\n",
       "    }\n",
       "\n",
       "    .dataframe thead th {\n",
       "        text-align: right;\n",
       "    }\n",
       "</style>\n",
       "<table border=\"1\" class=\"dataframe\">\n",
       "  <thead>\n",
       "    <tr style=\"text-align: right;\">\n",
       "      <th></th>\n",
       "      <th>CITY</th>\n",
       "      <th>LOCALITY</th>\n",
       "      <th>RATING</th>\n",
       "      <th>VOTES</th>\n",
       "      <th>TITLE 1</th>\n",
       "      <th>TITLE 2</th>\n",
       "      <th>CUISINE 1</th>\n",
       "      <th>CUISINE 2</th>\n",
       "      <th>CUISINE 3</th>\n",
       "      <th>Shift one</th>\n",
       "      <th>Shift Two</th>\n",
       "      <th>Days</th>\n",
       "    </tr>\n",
       "  </thead>\n",
       "  <tbody>\n",
       "    <tr>\n",
       "      <th>0</th>\n",
       "      <td>Noida</td>\n",
       "      <td>Sector 18</td>\n",
       "      <td>4.3</td>\n",
       "      <td>564.0</td>\n",
       "      <td>CASUAL DINING</td>\n",
       "      <td>Not Known</td>\n",
       "      <td>North Indian</td>\n",
       "      <td>Chinese</td>\n",
       "      <td>Mughlai</td>\n",
       "      <td>12noon – 12midnight</td>\n",
       "      <td>Not available</td>\n",
       "      <td>Mon-Sun</td>\n",
       "    </tr>\n",
       "    <tr>\n",
       "      <th>1</th>\n",
       "      <td>Mumbai</td>\n",
       "      <td>Grant Road</td>\n",
       "      <td>4.2</td>\n",
       "      <td>61.0</td>\n",
       "      <td>QUICK BITES</td>\n",
       "      <td>Not Known</td>\n",
       "      <td>South Indian</td>\n",
       "      <td>Fast Food</td>\n",
       "      <td>Pizza</td>\n",
       "      <td>7am – 12:30AM</td>\n",
       "      <td>Not available</td>\n",
       "      <td>Mon-Sun</td>\n",
       "    </tr>\n",
       "    <tr>\n",
       "      <th>2</th>\n",
       "      <td>Mumbai</td>\n",
       "      <td>Marine Lines</td>\n",
       "      <td>3.8</td>\n",
       "      <td>350.0</td>\n",
       "      <td>CASUAL DINING</td>\n",
       "      <td>Not Known</td>\n",
       "      <td>North Indian</td>\n",
       "      <td>Seafood</td>\n",
       "      <td>Biryani</td>\n",
       "      <td>11am – 11:30pm</td>\n",
       "      <td>Not available</td>\n",
       "      <td>Mon-Sun</td>\n",
       "    </tr>\n",
       "    <tr>\n",
       "      <th>3</th>\n",
       "      <td>Faridabad</td>\n",
       "      <td>NIT</td>\n",
       "      <td>3.8</td>\n",
       "      <td>1445.0</td>\n",
       "      <td>None</td>\n",
       "      <td>Not Known</td>\n",
       "      <td>Biryani</td>\n",
       "      <td>Not known</td>\n",
       "      <td>Not known</td>\n",
       "      <td>9am – 10pm (Mon</td>\n",
       "      <td>Wed</td>\n",
       "      <td>Mon, Wed, Thu, Fri, Sat, Sun), 10:39am..</td>\n",
       "    </tr>\n",
       "    <tr>\n",
       "      <th>4</th>\n",
       "      <td>Kochi</td>\n",
       "      <td>Kaloor</td>\n",
       "      <td>3.6</td>\n",
       "      <td>23.0</td>\n",
       "      <td>QUICK BITES</td>\n",
       "      <td>Not Known</td>\n",
       "      <td>South Indian</td>\n",
       "      <td>Kerala</td>\n",
       "      <td>Not known</td>\n",
       "      <td>11am – 10pm</td>\n",
       "      <td>Not available</td>\n",
       "      <td>Mon-Sun</td>\n",
       "    </tr>\n",
       "  </tbody>\n",
       "</table>\n",
       "</div>"
      ],
      "text/plain": [
       "        CITY      LOCALITY  RATING   VOTES        TITLE 1    TITLE 2  \\\n",
       "0      Noida     Sector 18     4.3   564.0  CASUAL DINING  Not Known   \n",
       "1     Mumbai    Grant Road     4.2    61.0    QUICK BITES  Not Known   \n",
       "2     Mumbai  Marine Lines     3.8   350.0  CASUAL DINING  Not Known   \n",
       "3  Faridabad           NIT     3.8  1445.0           None  Not Known   \n",
       "4      Kochi        Kaloor     3.6    23.0    QUICK BITES  Not Known   \n",
       "\n",
       "      CUISINE 1   CUISINE 2  CUISINE 3             Shift one      Shift Two  \\\n",
       "0  North Indian     Chinese    Mughlai  12noon – 12midnight   Not available   \n",
       "1  South Indian   Fast Food      Pizza        7am – 12:30AM   Not available   \n",
       "2  North Indian     Seafood    Biryani       11am – 11:30pm   Not available   \n",
       "3       Biryani   Not known  Not known       9am – 10pm (Mon            Wed   \n",
       "4  South Indian      Kerala  Not known          11am – 10pm   Not available   \n",
       "\n",
       "                                       Days  \n",
       "0                                   Mon-Sun  \n",
       "1                                   Mon-Sun  \n",
       "2                                   Mon-Sun  \n",
       "3  Mon, Wed, Thu, Fri, Sat, Sun), 10:39am..  \n",
       "4                                   Mon-Sun  "
      ]
     },
     "execution_count": 133,
     "metadata": {},
     "output_type": "execute_result"
    }
   ],
   "source": [
    "df_test.head()"
   ]
  },
  {
   "cell_type": "markdown",
   "metadata": {},
   "source": [
    "# Label encoder"
   ]
  },
  {
   "cell_type": "code",
   "execution_count": 134,
   "metadata": {},
   "outputs": [],
   "source": [
    "#label encoding the features:\n",
    "from sklearn.preprocessing import LabelEncoder\n",
    "list1=['CITY','LOCALITY','TITLE 1','TITLE 2','CUISINE 1', 'CUISINE 2', 'CUISINE 3', 'Shift one',\n",
    "       'Shift Two', 'Days']\n",
    "Le=LabelEncoder()\n",
    "for i in list1:\n",
    "    df_test[i]=Le.fit_transform(df_test[i])"
   ]
  },
  {
   "cell_type": "code",
   "execution_count": 135,
   "metadata": {},
   "outputs": [
    {
     "data": {
      "text/html": [
       "<div>\n",
       "<style scoped>\n",
       "    .dataframe tbody tr th:only-of-type {\n",
       "        vertical-align: middle;\n",
       "    }\n",
       "\n",
       "    .dataframe tbody tr th {\n",
       "        vertical-align: top;\n",
       "    }\n",
       "\n",
       "    .dataframe thead th {\n",
       "        text-align: right;\n",
       "    }\n",
       "</style>\n",
       "<table border=\"1\" class=\"dataframe\">\n",
       "  <thead>\n",
       "    <tr style=\"text-align: right;\">\n",
       "      <th></th>\n",
       "      <th>CITY</th>\n",
       "      <th>LOCALITY</th>\n",
       "      <th>RATING</th>\n",
       "      <th>VOTES</th>\n",
       "      <th>TITLE 1</th>\n",
       "      <th>TITLE 2</th>\n",
       "      <th>CUISINE 1</th>\n",
       "      <th>CUISINE 2</th>\n",
       "      <th>CUISINE 3</th>\n",
       "      <th>Shift one</th>\n",
       "      <th>Shift Two</th>\n",
       "      <th>Days</th>\n",
       "    </tr>\n",
       "  </thead>\n",
       "  <tbody>\n",
       "    <tr>\n",
       "      <th>0</th>\n",
       "      <td>110</td>\n",
       "      <td>663</td>\n",
       "      <td>4.3</td>\n",
       "      <td>564.0</td>\n",
       "      <td>5</td>\n",
       "      <td>13</td>\n",
       "      <td>60</td>\n",
       "      <td>19</td>\n",
       "      <td>56</td>\n",
       "      <td>297</td>\n",
       "      <td>315</td>\n",
       "      <td>137</td>\n",
       "    </tr>\n",
       "    <tr>\n",
       "      <th>1</th>\n",
       "      <td>96</td>\n",
       "      <td>221</td>\n",
       "      <td>4.2</td>\n",
       "      <td>61.0</td>\n",
       "      <td>22</td>\n",
       "      <td>13</td>\n",
       "      <td>73</td>\n",
       "      <td>24</td>\n",
       "      <td>61</td>\n",
       "      <td>592</td>\n",
       "      <td>315</td>\n",
       "      <td>137</td>\n",
       "    </tr>\n",
       "    <tr>\n",
       "      <th>2</th>\n",
       "      <td>96</td>\n",
       "      <td>411</td>\n",
       "      <td>3.8</td>\n",
       "      <td>350.0</td>\n",
       "      <td>5</td>\n",
       "      <td>13</td>\n",
       "      <td>60</td>\n",
       "      <td>69</td>\n",
       "      <td>13</td>\n",
       "      <td>144</td>\n",
       "      <td>315</td>\n",
       "      <td>137</td>\n",
       "    </tr>\n",
       "    <tr>\n",
       "      <th>3</th>\n",
       "      <td>41</td>\n",
       "      <td>456</td>\n",
       "      <td>3.8</td>\n",
       "      <td>1445.0</td>\n",
       "      <td>19</td>\n",
       "      <td>13</td>\n",
       "      <td>12</td>\n",
       "      <td>81</td>\n",
       "      <td>80</td>\n",
       "      <td>720</td>\n",
       "      <td>129</td>\n",
       "      <td>93</td>\n",
       "    </tr>\n",
       "    <tr>\n",
       "      <th>4</th>\n",
       "      <td>78</td>\n",
       "      <td>300</td>\n",
       "      <td>3.6</td>\n",
       "      <td>23.0</td>\n",
       "      <td>22</td>\n",
       "      <td>13</td>\n",
       "      <td>73</td>\n",
       "      <td>42</td>\n",
       "      <td>80</td>\n",
       "      <td>139</td>\n",
       "      <td>315</td>\n",
       "      <td>137</td>\n",
       "    </tr>\n",
       "  </tbody>\n",
       "</table>\n",
       "</div>"
      ],
      "text/plain": [
       "   CITY  LOCALITY  RATING   VOTES  TITLE 1  TITLE 2  CUISINE 1  CUISINE 2  \\\n",
       "0   110       663     4.3   564.0        5       13         60         19   \n",
       "1    96       221     4.2    61.0       22       13         73         24   \n",
       "2    96       411     3.8   350.0        5       13         60         69   \n",
       "3    41       456     3.8  1445.0       19       13         12         81   \n",
       "4    78       300     3.6    23.0       22       13         73         42   \n",
       "\n",
       "   CUISINE 3  Shift one  Shift Two  Days  \n",
       "0         56        297        315   137  \n",
       "1         61        592        315   137  \n",
       "2         13        144        315   137  \n",
       "3         80        720        129    93  \n",
       "4         80        139        315   137  "
      ]
     },
     "execution_count": 135,
     "metadata": {},
     "output_type": "execute_result"
    }
   ],
   "source": [
    "df_test.head()"
   ]
  },
  {
   "cell_type": "code",
   "execution_count": 136,
   "metadata": {},
   "outputs": [],
   "source": [
    "df_test.drop(['LOCALITY'],inplace=True,axis=1)"
   ]
  },
  {
   "cell_type": "code",
   "execution_count": 137,
   "metadata": {},
   "outputs": [
    {
     "data": {
      "text/plain": [
       "CITY         0.065922\n",
       "RATING      -0.357174\n",
       "VOTES        7.148179\n",
       "TITLE 1      0.078593\n",
       "TITLE 2     -3.239490\n",
       "CUISINE 1   -0.047693\n",
       "CUISINE 2    0.019973\n",
       "CUISINE 3   -0.872745\n",
       "Shift one    0.563887\n",
       "Shift Two   -1.577172\n",
       "Days        -2.374634\n",
       "dtype: float64"
      ]
     },
     "execution_count": 137,
     "metadata": {},
     "output_type": "execute_result"
    }
   ],
   "source": [
    "df_test.skew()"
   ]
  },
  {
   "cell_type": "code",
   "execution_count": 138,
   "metadata": {},
   "outputs": [],
   "source": [
    "from sklearn.preprocessing import power_transform\n",
    "df_test['VOTES']=power_transform(df_test[['VOTES']],method='yeo-johnson')"
   ]
  },
  {
   "cell_type": "markdown",
   "metadata": {},
   "source": [
    "# using the saved model to make predictions"
   ]
  },
  {
   "cell_type": "code",
   "execution_count": 139,
   "metadata": {},
   "outputs": [],
   "source": [
    "saved_model=pickle.load(open(\"Restaurants-cost.pkl\",'rb'))"
   ]
  },
  {
   "cell_type": "code",
   "execution_count": 140,
   "metadata": {},
   "outputs": [
    {
     "data": {
      "text/plain": [
       "RandomForestRegressor(criterion='mse', max_features='sqrt', n_estimators=20,\n",
       "                      random_state=46)"
      ]
     },
     "execution_count": 140,
     "metadata": {},
     "output_type": "execute_result"
    }
   ],
   "source": [
    "saved_model"
   ]
  },
  {
   "cell_type": "code",
   "execution_count": 141,
   "metadata": {},
   "outputs": [
    {
     "data": {
      "text/plain": [
       "array([1385. ,  467.5,  872.5, ...,  452.5,  487.5,  487.5])"
      ]
     },
     "execution_count": 141,
     "metadata": {},
     "output_type": "execute_result"
    }
   ],
   "source": [
    "predictions=saved_model.predict(df_test)\n",
    "predictions"
   ]
  },
  {
   "cell_type": "code",
   "execution_count": 142,
   "metadata": {},
   "outputs": [
    {
     "data": {
      "text/html": [
       "<div>\n",
       "<style scoped>\n",
       "    .dataframe tbody tr th:only-of-type {\n",
       "        vertical-align: middle;\n",
       "    }\n",
       "\n",
       "    .dataframe tbody tr th {\n",
       "        vertical-align: top;\n",
       "    }\n",
       "\n",
       "    .dataframe thead th {\n",
       "        text-align: right;\n",
       "    }\n",
       "</style>\n",
       "<table border=\"1\" class=\"dataframe\">\n",
       "  <thead>\n",
       "    <tr style=\"text-align: right;\">\n",
       "      <th></th>\n",
       "      <th>0</th>\n",
       "    </tr>\n",
       "  </thead>\n",
       "  <tbody>\n",
       "    <tr>\n",
       "      <th>0</th>\n",
       "      <td>1385.0</td>\n",
       "    </tr>\n",
       "    <tr>\n",
       "      <th>1</th>\n",
       "      <td>467.5</td>\n",
       "    </tr>\n",
       "    <tr>\n",
       "      <th>2</th>\n",
       "      <td>872.5</td>\n",
       "    </tr>\n",
       "    <tr>\n",
       "      <th>3</th>\n",
       "      <td>942.5</td>\n",
       "    </tr>\n",
       "    <tr>\n",
       "      <th>4</th>\n",
       "      <td>420.0</td>\n",
       "    </tr>\n",
       "    <tr>\n",
       "      <th>...</th>\n",
       "      <td>...</td>\n",
       "    </tr>\n",
       "    <tr>\n",
       "      <th>4226</th>\n",
       "      <td>972.5</td>\n",
       "    </tr>\n",
       "    <tr>\n",
       "      <th>4227</th>\n",
       "      <td>912.5</td>\n",
       "    </tr>\n",
       "    <tr>\n",
       "      <th>4228</th>\n",
       "      <td>452.5</td>\n",
       "    </tr>\n",
       "    <tr>\n",
       "      <th>4229</th>\n",
       "      <td>487.5</td>\n",
       "    </tr>\n",
       "    <tr>\n",
       "      <th>4230</th>\n",
       "      <td>487.5</td>\n",
       "    </tr>\n",
       "  </tbody>\n",
       "</table>\n",
       "<p>4231 rows × 1 columns</p>\n",
       "</div>"
      ],
      "text/plain": [
       "           0\n",
       "0     1385.0\n",
       "1      467.5\n",
       "2      872.5\n",
       "3      942.5\n",
       "4      420.0\n",
       "...      ...\n",
       "4226   972.5\n",
       "4227   912.5\n",
       "4228   452.5\n",
       "4229   487.5\n",
       "4230   487.5\n",
       "\n",
       "[4231 rows x 1 columns]"
      ]
     },
     "execution_count": 142,
     "metadata": {},
     "output_type": "execute_result"
    }
   ],
   "source": [
    "prediction=pd.DataFrame(predictions)\n",
    "prediction"
   ]
  },
  {
   "cell_type": "markdown",
   "metadata": {},
   "source": [
    "# CONCLUSION\n",
    "Thus i have checked the model performance using various Regression algorithms like Linear Refression, RandomForest, Adaboost and Gradient Boost ,Ridge, lasso, etc.\n",
    "\n",
    "Random Forest Regression Algorithm gives us best results and is used to model the train dataset .The trained model is saved\n",
    "\n",
    "The evaluation metrics of model are as follows:\n",
    "\n",
    "accuracy(r2)= 70.98775961538175\n",
    "\n",
    "cross_validation score= 68.73943343820477\n",
    "\n",
    "mean absolute error= 199.46733927816186\n",
    "\n",
    "mean squared error= 110961.54170129872\n",
    "\n",
    "Root mean square error= 333.1089036656011\n",
    "\n",
    "The saved model is then used to make predictions on the test data set"
   ]
  },
  {
   "cell_type": "markdown",
   "metadata": {},
   "source": [
    "# ALSO WE CAN USE A CLASSIFICATION ALGORITHM TO PREDICT THE TARGET AS WE HAVE ONLY 80 DISTINCT VALUES WHICH ARE DISCRETE"
   ]
  },
  {
   "cell_type": "markdown",
   "metadata": {},
   "source": [
    "Performing classification on the targert x"
   ]
  },
  {
   "cell_type": "code",
   "execution_count": 143,
   "metadata": {},
   "outputs": [
    {
     "data": {
      "text/html": [
       "<div>\n",
       "<style scoped>\n",
       "    .dataframe tbody tr th:only-of-type {\n",
       "        vertical-align: middle;\n",
       "    }\n",
       "\n",
       "    .dataframe tbody tr th {\n",
       "        vertical-align: top;\n",
       "    }\n",
       "\n",
       "    .dataframe thead th {\n",
       "        text-align: right;\n",
       "    }\n",
       "</style>\n",
       "<table border=\"1\" class=\"dataframe\">\n",
       "  <thead>\n",
       "    <tr style=\"text-align: right;\">\n",
       "      <th></th>\n",
       "      <th>CITY</th>\n",
       "      <th>RATING</th>\n",
       "      <th>VOTES</th>\n",
       "      <th>TITLE 1</th>\n",
       "      <th>TITLE 2</th>\n",
       "      <th>CUISINE 1</th>\n",
       "      <th>CUISINE 2</th>\n",
       "      <th>CUISINE 3</th>\n",
       "      <th>Shift one</th>\n",
       "      <th>Shift Two</th>\n",
       "      <th>Days</th>\n",
       "    </tr>\n",
       "  </thead>\n",
       "  <tbody>\n",
       "    <tr>\n",
       "      <th>0</th>\n",
       "      <td>321</td>\n",
       "      <td>3.6</td>\n",
       "      <td>-0.860943</td>\n",
       "      <td>4</td>\n",
       "      <td>15</td>\n",
       "      <td>59</td>\n",
       "      <td>32</td>\n",
       "      <td>66</td>\n",
       "      <td>343</td>\n",
       "      <td>170</td>\n",
       "      <td>356</td>\n",
       "    </tr>\n",
       "    <tr>\n",
       "      <th>1</th>\n",
       "      <td>67</td>\n",
       "      <td>4.2</td>\n",
       "      <td>-1.222553</td>\n",
       "      <td>4</td>\n",
       "      <td>1</td>\n",
       "      <td>6</td>\n",
       "      <td>60</td>\n",
       "      <td>41</td>\n",
       "      <td>943</td>\n",
       "      <td>579</td>\n",
       "      <td>356</td>\n",
       "    </tr>\n",
       "    <tr>\n",
       "      <th>2</th>\n",
       "      <td>67</td>\n",
       "      <td>3.8</td>\n",
       "      <td>0.254049</td>\n",
       "      <td>4</td>\n",
       "      <td>15</td>\n",
       "      <td>72</td>\n",
       "      <td>23</td>\n",
       "      <td>12</td>\n",
       "      <td>327</td>\n",
       "      <td>196</td>\n",
       "      <td>356</td>\n",
       "    </tr>\n",
       "    <tr>\n",
       "      <th>3</th>\n",
       "      <td>222</td>\n",
       "      <td>4.1</td>\n",
       "      <td>-1.385919</td>\n",
       "      <td>21</td>\n",
       "      <td>15</td>\n",
       "      <td>100</td>\n",
       "      <td>23</td>\n",
       "      <td>93</td>\n",
       "      <td>176</td>\n",
       "      <td>579</td>\n",
       "      <td>356</td>\n",
       "    </tr>\n",
       "    <tr>\n",
       "      <th>4</th>\n",
       "      <td>222</td>\n",
       "      <td>3.8</td>\n",
       "      <td>0.038106</td>\n",
       "      <td>8</td>\n",
       "      <td>15</td>\n",
       "      <td>28</td>\n",
       "      <td>98</td>\n",
       "      <td>93</td>\n",
       "      <td>314</td>\n",
       "      <td>579</td>\n",
       "      <td>356</td>\n",
       "    </tr>\n",
       "    <tr>\n",
       "      <th>...</th>\n",
       "      <td>...</td>\n",
       "      <td>...</td>\n",
       "      <td>...</td>\n",
       "      <td>...</td>\n",
       "      <td>...</td>\n",
       "      <td>...</td>\n",
       "      <td>...</td>\n",
       "      <td>...</td>\n",
       "      <td>...</td>\n",
       "      <td>...</td>\n",
       "      <td>...</td>\n",
       "    </tr>\n",
       "    <tr>\n",
       "      <th>12685</th>\n",
       "      <td>131</td>\n",
       "      <td>3.8</td>\n",
       "      <td>0.919394</td>\n",
       "      <td>21</td>\n",
       "      <td>15</td>\n",
       "      <td>72</td>\n",
       "      <td>17</td>\n",
       "      <td>44</td>\n",
       "      <td>522</td>\n",
       "      <td>228</td>\n",
       "      <td>226</td>\n",
       "    </tr>\n",
       "    <tr>\n",
       "      <th>12686</th>\n",
       "      <td>222</td>\n",
       "      <td>4.3</td>\n",
       "      <td>1.502516</td>\n",
       "      <td>4</td>\n",
       "      <td>1</td>\n",
       "      <td>37</td>\n",
       "      <td>25</td>\n",
       "      <td>93</td>\n",
       "      <td>537</td>\n",
       "      <td>322</td>\n",
       "      <td>277</td>\n",
       "    </tr>\n",
       "    <tr>\n",
       "      <th>12687</th>\n",
       "      <td>239</td>\n",
       "      <td>4.0</td>\n",
       "      <td>0.998157</td>\n",
       "      <td>14</td>\n",
       "      <td>15</td>\n",
       "      <td>34</td>\n",
       "      <td>25</td>\n",
       "      <td>4</td>\n",
       "      <td>518</td>\n",
       "      <td>579</td>\n",
       "      <td>356</td>\n",
       "    </tr>\n",
       "    <tr>\n",
       "      <th>12688</th>\n",
       "      <td>67</td>\n",
       "      <td>3.5</td>\n",
       "      <td>-1.175147</td>\n",
       "      <td>4</td>\n",
       "      <td>15</td>\n",
       "      <td>72</td>\n",
       "      <td>84</td>\n",
       "      <td>21</td>\n",
       "      <td>904</td>\n",
       "      <td>579</td>\n",
       "      <td>356</td>\n",
       "    </tr>\n",
       "    <tr>\n",
       "      <th>12689</th>\n",
       "      <td>131</td>\n",
       "      <td>3.4</td>\n",
       "      <td>1.076794</td>\n",
       "      <td>4</td>\n",
       "      <td>15</td>\n",
       "      <td>72</td>\n",
       "      <td>23</td>\n",
       "      <td>93</td>\n",
       "      <td>410</td>\n",
       "      <td>579</td>\n",
       "      <td>356</td>\n",
       "    </tr>\n",
       "  </tbody>\n",
       "</table>\n",
       "<p>12690 rows × 11 columns</p>\n",
       "</div>"
      ],
      "text/plain": [
       "       CITY  RATING     VOTES  TITLE 1  TITLE 2  CUISINE 1  CUISINE 2  \\\n",
       "0       321     3.6 -0.860943        4       15         59         32   \n",
       "1        67     4.2 -1.222553        4        1          6         60   \n",
       "2        67     3.8  0.254049        4       15         72         23   \n",
       "3       222     4.1 -1.385919       21       15        100         23   \n",
       "4       222     3.8  0.038106        8       15         28         98   \n",
       "...     ...     ...       ...      ...      ...        ...        ...   \n",
       "12685   131     3.8  0.919394       21       15         72         17   \n",
       "12686   222     4.3  1.502516        4        1         37         25   \n",
       "12687   239     4.0  0.998157       14       15         34         25   \n",
       "12688    67     3.5 -1.175147        4       15         72         84   \n",
       "12689   131     3.4  1.076794        4       15         72         23   \n",
       "\n",
       "       CUISINE 3  Shift one  Shift Two  Days  \n",
       "0             66        343        170   356  \n",
       "1             41        943        579   356  \n",
       "2             12        327        196   356  \n",
       "3             93        176        579   356  \n",
       "4             93        314        579   356  \n",
       "...          ...        ...        ...   ...  \n",
       "12685         44        522        228   226  \n",
       "12686         93        537        322   277  \n",
       "12687          4        518        579   356  \n",
       "12688         21        904        579   356  \n",
       "12689         93        410        579   356  \n",
       "\n",
       "[12690 rows x 11 columns]"
      ]
     },
     "execution_count": 143,
     "metadata": {},
     "output_type": "execute_result"
    }
   ],
   "source": [
    "x"
   ]
  },
  {
   "cell_type": "code",
   "execution_count": 144,
   "metadata": {},
   "outputs": [
    {
     "data": {
      "text/plain": [
       "0        1200\n",
       "1        1500\n",
       "2         800\n",
       "3         800\n",
       "4         300\n",
       "         ... \n",
       "12685     500\n",
       "12686    1800\n",
       "12687    1300\n",
       "12688     400\n",
       "12689     600\n",
       "Name: COST, Length: 12690, dtype: int64"
      ]
     },
     "execution_count": 144,
     "metadata": {},
     "output_type": "execute_result"
    }
   ],
   "source": [
    "y"
   ]
  },
  {
   "cell_type": "code",
   "execution_count": 145,
   "metadata": {},
   "outputs": [
    {
     "name": "stdout",
     "output_type": "stream",
     "text": [
      "Best accuracy is  30.0 found on random state 283\n",
      "cross validation score is  10.614657210401893\n"
     ]
    }
   ],
   "source": [
    "from sklearn.model_selection import train_test_split\n",
    "from sklearn.neighbors import KNeighborsClassifier\n",
    "from sklearn.model_selection import cross_val_score\n",
    "from sklearn.metrics import accuracy_score\n",
    "\n",
    "best_rstate=0\n",
    "accu=0\n",
    "\n",
    "for i in range(0,400):\n",
    "    x_train,x_test,y_train,y_test=train_test_split(x,y,test_size=30,random_state=i)\n",
    "    kn=KNeighborsClassifier()\n",
    "    kn.fit(x_train,y_train)\n",
    "    y_pred=kn.predict(x_test)\n",
    "    tempaccu=accuracy_score(y_test,y_pred)\n",
    "   \n",
    "    \n",
    "    if tempaccu>accu:\n",
    "        accu=tempaccu\n",
    "        best_rstate=i\n",
    "       \n",
    "        \n",
    "        \n",
    "print('Best accuracy is ',(accu*100),'found on random state',(best_rstate)) \n",
    "print(\"cross validation score is \",cross_val_score(kn,x,y,cv=5).mean()*100)"
   ]
  },
  {
   "cell_type": "code",
   "execution_count": 146,
   "metadata": {},
   "outputs": [],
   "source": [
    "#using the best random state found to split the data for test and train \n",
    "x_train,x_test,y_train,y_test=train_test_split(x,y,test_size=0.30,random_state=283)"
   ]
  },
  {
   "cell_type": "code",
   "execution_count": 147,
   "metadata": {},
   "outputs": [],
   "source": [
    "#importing libraries required for modelling\n",
    "\n",
    "from sklearn.tree import DecisionTreeClassifier\n",
    "from sklearn.linear_model import LogisticRegression\n",
    "from sklearn.naive_bayes import GaussianNB\n",
    "from sklearn.svm import SVC\n",
    "\n",
    "#boosting models\n",
    "\n",
    "from sklearn.ensemble import RandomForestClassifier\n",
    "from sklearn.ensemble import AdaBoostClassifier\n",
    "from sklearn.ensemble import GradientBoostingClassifier\n",
    "from sklearn.ensemble import BaggingClassifier\n",
    "from sklearn.ensemble import ExtraTreesClassifier\n",
    "\n",
    "\n",
    "#evaluation metrics\n",
    "from sklearn.metrics import confusion_matrix,classification_report"
   ]
  },
  {
   "cell_type": "code",
   "execution_count": 148,
   "metadata": {},
   "outputs": [
    {
     "name": "stdout",
     "output_type": "stream",
     "text": [
      "accuracy score of  DecisionTreeClassifier() = 12.739690044654584\n",
      "cross validation score = 12.86052009456265\n",
      "('difference=', -0.3178355660625165)\n",
      "\n",
      "\n",
      "accuracy score of  KNeighborsClassifier() = 9.876543209876543\n",
      "cross validation score = 10.614657210401893\n",
      "('difference=', -0.7381140005253499)\n",
      "\n",
      "\n",
      "accuracy score of  GaussianNB() = 3.677436301549777\n",
      "cross validation score = 2.434988179669031\n",
      "('difference=', 1.242448121880746)\n",
      "\n",
      "\n",
      "accuracy score of  SVC() = 13.422642500656684\n",
      "cross validation score = 13.167848699763592\n",
      "('difference=', 0.25479380089309167)\n",
      "\n",
      "\n",
      "accuracy score of  RandomForestClassifier() = 17.52035723666929\n",
      "cross validation score = 17.525610717100076\n",
      "('difference=', 0.16023115313895175)\n",
      "\n",
      "\n",
      "accuracy score of  AdaBoostClassifier() = 15.576569477278698\n",
      "cross validation score = 14.940898345153663\n",
      "('difference=', 0.6356711321250348)\n",
      "\n",
      "\n"
     ]
    },
    {
     "ename": "KeyboardInterrupt",
     "evalue": "",
     "output_type": "error",
     "traceback": [
      "\u001b[1;31m---------------------------------------------------------------------------\u001b[0m",
      "\u001b[1;31mKeyboardInterrupt\u001b[0m                         Traceback (most recent call last)",
      "\u001b[1;32m<ipython-input-148-ba8d5b392d6a>\u001b[0m in \u001b[0;36m<module>\u001b[1;34m\u001b[0m\n\u001b[0;32m      2\u001b[0m        BaggingClassifier(),ExtraTreesClassifier()]\n\u001b[0;32m      3\u001b[0m \u001b[1;32mfor\u001b[0m \u001b[0mi\u001b[0m \u001b[1;32min\u001b[0m \u001b[0mmodels\u001b[0m\u001b[1;33m:\u001b[0m\u001b[1;33m\u001b[0m\u001b[1;33m\u001b[0m\u001b[0m\n\u001b[1;32m----> 4\u001b[1;33m     \u001b[0mi\u001b[0m\u001b[1;33m.\u001b[0m\u001b[0mfit\u001b[0m\u001b[1;33m(\u001b[0m\u001b[0mx_train\u001b[0m\u001b[1;33m,\u001b[0m\u001b[0my_train\u001b[0m\u001b[1;33m)\u001b[0m\u001b[1;33m\u001b[0m\u001b[1;33m\u001b[0m\u001b[0m\n\u001b[0m\u001b[0;32m      5\u001b[0m     \u001b[0mi\u001b[0m\u001b[1;33m.\u001b[0m\u001b[0mscore\u001b[0m\u001b[1;33m(\u001b[0m\u001b[0mx_train\u001b[0m\u001b[1;33m,\u001b[0m\u001b[0my_train\u001b[0m\u001b[1;33m)\u001b[0m\u001b[1;33m\u001b[0m\u001b[1;33m\u001b[0m\u001b[0m\n\u001b[0;32m      6\u001b[0m     \u001b[0my_pred\u001b[0m\u001b[1;33m=\u001b[0m\u001b[0mi\u001b[0m\u001b[1;33m.\u001b[0m\u001b[0mpredict\u001b[0m\u001b[1;33m(\u001b[0m\u001b[0mx_test\u001b[0m\u001b[1;33m)\u001b[0m\u001b[1;33m\u001b[0m\u001b[1;33m\u001b[0m\u001b[0m\n",
      "\u001b[1;32m~\\Anaconda3\\lib\\site-packages\\sklearn\\ensemble\\_gb.py\u001b[0m in \u001b[0;36mfit\u001b[1;34m(self, X, y, sample_weight, monitor)\u001b[0m\n\u001b[0;32m    594\u001b[0m             \u001b[0msample_weight_val\u001b[0m\u001b[1;33m,\u001b[0m\u001b[1;33m\u001b[0m\u001b[1;33m\u001b[0m\u001b[0m\n\u001b[0;32m    595\u001b[0m             \u001b[0mbegin_at_stage\u001b[0m\u001b[1;33m,\u001b[0m\u001b[1;33m\u001b[0m\u001b[1;33m\u001b[0m\u001b[0m\n\u001b[1;32m--> 596\u001b[1;33m             \u001b[0mmonitor\u001b[0m\u001b[1;33m,\u001b[0m\u001b[1;33m\u001b[0m\u001b[1;33m\u001b[0m\u001b[0m\n\u001b[0m\u001b[0;32m    597\u001b[0m         )\n\u001b[0;32m    598\u001b[0m \u001b[1;33m\u001b[0m\u001b[0m\n",
      "\u001b[1;32m~\\Anaconda3\\lib\\site-packages\\sklearn\\ensemble\\_gb.py\u001b[0m in \u001b[0;36m_fit_stages\u001b[1;34m(self, X, y, raw_predictions, sample_weight, random_state, X_val, y_val, sample_weight_val, begin_at_stage, monitor)\u001b[0m\n\u001b[0;32m    670\u001b[0m                 \u001b[0mrandom_state\u001b[0m\u001b[1;33m,\u001b[0m\u001b[1;33m\u001b[0m\u001b[1;33m\u001b[0m\u001b[0m\n\u001b[0;32m    671\u001b[0m                 \u001b[0mX_csc\u001b[0m\u001b[1;33m,\u001b[0m\u001b[1;33m\u001b[0m\u001b[1;33m\u001b[0m\u001b[0m\n\u001b[1;32m--> 672\u001b[1;33m                 \u001b[0mX_csr\u001b[0m\u001b[1;33m,\u001b[0m\u001b[1;33m\u001b[0m\u001b[1;33m\u001b[0m\u001b[0m\n\u001b[0m\u001b[0;32m    673\u001b[0m             )\n\u001b[0;32m    674\u001b[0m \u001b[1;33m\u001b[0m\u001b[0m\n",
      "\u001b[1;32m~\\Anaconda3\\lib\\site-packages\\sklearn\\ensemble\\_gb.py\u001b[0m in \u001b[0;36m_fit_stage\u001b[1;34m(self, i, X, y, raw_predictions, sample_weight, sample_mask, random_state, X_csc, X_csr)\u001b[0m\n\u001b[0;32m    221\u001b[0m \u001b[1;33m\u001b[0m\u001b[0m\n\u001b[0;32m    222\u001b[0m             residual = loss.negative_gradient(\n\u001b[1;32m--> 223\u001b[1;33m                 \u001b[0my\u001b[0m\u001b[1;33m,\u001b[0m \u001b[0mraw_predictions_copy\u001b[0m\u001b[1;33m,\u001b[0m \u001b[0mk\u001b[0m\u001b[1;33m=\u001b[0m\u001b[0mk\u001b[0m\u001b[1;33m,\u001b[0m \u001b[0msample_weight\u001b[0m\u001b[1;33m=\u001b[0m\u001b[0msample_weight\u001b[0m\u001b[1;33m\u001b[0m\u001b[1;33m\u001b[0m\u001b[0m\n\u001b[0m\u001b[0;32m    224\u001b[0m             )\n\u001b[0;32m    225\u001b[0m \u001b[1;33m\u001b[0m\u001b[0m\n",
      "\u001b[1;32m~\\Anaconda3\\lib\\site-packages\\sklearn\\ensemble\\_gb_losses.py\u001b[0m in \u001b[0;36mnegative_gradient\u001b[1;34m(self, y, raw_predictions, k, **kwargs)\u001b[0m\n\u001b[0;32m    821\u001b[0m         \"\"\"\n\u001b[0;32m    822\u001b[0m         return y - np.nan_to_num(\n\u001b[1;32m--> 823\u001b[1;33m             \u001b[0mnp\u001b[0m\u001b[1;33m.\u001b[0m\u001b[0mexp\u001b[0m\u001b[1;33m(\u001b[0m\u001b[0mraw_predictions\u001b[0m\u001b[1;33m[\u001b[0m\u001b[1;33m:\u001b[0m\u001b[1;33m,\u001b[0m \u001b[0mk\u001b[0m\u001b[1;33m]\u001b[0m \u001b[1;33m-\u001b[0m \u001b[0mlogsumexp\u001b[0m\u001b[1;33m(\u001b[0m\u001b[0mraw_predictions\u001b[0m\u001b[1;33m,\u001b[0m \u001b[0maxis\u001b[0m\u001b[1;33m=\u001b[0m\u001b[1;36m1\u001b[0m\u001b[1;33m)\u001b[0m\u001b[1;33m)\u001b[0m\u001b[1;33m\u001b[0m\u001b[1;33m\u001b[0m\u001b[0m\n\u001b[0m\u001b[0;32m    824\u001b[0m         )\n\u001b[0;32m    825\u001b[0m \u001b[1;33m\u001b[0m\u001b[0m\n",
      "\u001b[1;32m~\\Anaconda3\\lib\\site-packages\\scipy\\special\\_logsumexp.py\u001b[0m in \u001b[0;36mlogsumexp\u001b[1;34m(a, axis, b, keepdims, return_sign)\u001b[0m\n\u001b[0;32m    108\u001b[0m         \u001b[0mtmp\u001b[0m \u001b[1;33m=\u001b[0m \u001b[0mb\u001b[0m \u001b[1;33m*\u001b[0m \u001b[0mnp\u001b[0m\u001b[1;33m.\u001b[0m\u001b[0mexp\u001b[0m\u001b[1;33m(\u001b[0m\u001b[0ma\u001b[0m \u001b[1;33m-\u001b[0m \u001b[0ma_max\u001b[0m\u001b[1;33m)\u001b[0m\u001b[1;33m\u001b[0m\u001b[1;33m\u001b[0m\u001b[0m\n\u001b[0;32m    109\u001b[0m     \u001b[1;32melse\u001b[0m\u001b[1;33m:\u001b[0m\u001b[1;33m\u001b[0m\u001b[1;33m\u001b[0m\u001b[0m\n\u001b[1;32m--> 110\u001b[1;33m         \u001b[0mtmp\u001b[0m \u001b[1;33m=\u001b[0m \u001b[0mnp\u001b[0m\u001b[1;33m.\u001b[0m\u001b[0mexp\u001b[0m\u001b[1;33m(\u001b[0m\u001b[0ma\u001b[0m \u001b[1;33m-\u001b[0m \u001b[0ma_max\u001b[0m\u001b[1;33m)\u001b[0m\u001b[1;33m\u001b[0m\u001b[1;33m\u001b[0m\u001b[0m\n\u001b[0m\u001b[0;32m    111\u001b[0m \u001b[1;33m\u001b[0m\u001b[0m\n\u001b[0;32m    112\u001b[0m     \u001b[1;31m# suppress warnings about log of zero\u001b[0m\u001b[1;33m\u001b[0m\u001b[1;33m\u001b[0m\u001b[1;33m\u001b[0m\u001b[0m\n",
      "\u001b[1;31mKeyboardInterrupt\u001b[0m: "
     ]
    }
   ],
   "source": [
    "models=[DecisionTreeClassifier(),KNeighborsClassifier(),GaussianNB(),SVC(),RandomForestClassifier(),AdaBoostClassifier(),GradientBoostingClassifier(),\n",
    "       BaggingClassifier(),ExtraTreesClassifier()]\n",
    "for i in models:\n",
    "    i.fit(x_train,y_train)\n",
    "    i.score(x_train,y_train)\n",
    "    y_pred=i.predict(x_test)\n",
    "    print(\"accuracy score of \",i,\"=\",accuracy_score(y_test,y_pred)*100)\n",
    "    print(\"cross validation score =\",cross_val_score(i,x,y,cv=5).mean()*100)\n",
    "    print((\"difference=\",(accuracy_score(y_test,y_pred)*100)-(cross_val_score(i,x,y,cv=5).mean()*100)))\n",
    "    print(\"\\n\")"
   ]
  },
  {
   "cell_type": "code",
   "execution_count": null,
   "metadata": {},
   "outputs": [],
   "source": [
    "#using the best parameter obtained above\n",
    "rfc=RandomForestClassifier(criterion='entropy',max_features=\"sqrt\",n_estimators=90)\n",
    "rfc.fit(x_train,y_train)\n",
    "y_pred=rfc.predict(x_test)\n",
    "rfc_score=accuracy_score(y_test,y_pred)*100\n",
    "print(\"accuracy\",rfc_score)\n",
    "rfc_crossval=cross_val_score(rfc,x,y,cv=5).mean()*100\n",
    "print(\"cross_validation score=\",rfc_crossval)\n",
    "print(\"\\n\")\n",
    "print(\"confusion matrix \\n\",confusion_matrix(y_test,y_pred))\n",
    "print(\"\\n\")\n",
    "print(\"classification report\\n\",classification_report(y_test,y_pred))"
   ]
  },
  {
   "cell_type": "code",
   "execution_count": null,
   "metadata": {},
   "outputs": [],
   "source": [
    "import pickle\n",
    "filename=\"Restaurants_classifier-cost.pkl\"\n",
    "pickle.dump(rfc,open(filename,'wb'))"
   ]
  },
  {
   "cell_type": "code",
   "execution_count": null,
   "metadata": {},
   "outputs": [],
   "source": [
    "actual_1=np.array(y_test)\n",
    "predicted_1=np.array(rfc.predict(x_test))"
   ]
  },
  {
   "cell_type": "code",
   "execution_count": null,
   "metadata": {},
   "outputs": [],
   "source": [
    "com=pd.DataFrame({\"actual values\":actual_1,\"predicted values\":predicted_1})\n",
    "com"
   ]
  },
  {
   "cell_type": "code",
   "execution_count": null,
   "metadata": {},
   "outputs": [],
   "source": []
  }
 ],
 "metadata": {
  "kernelspec": {
   "display_name": "Python 3",
   "language": "python",
   "name": "python3"
  },
  "language_info": {
   "codemirror_mode": {
    "name": "ipython",
    "version": 3
   },
   "file_extension": ".py",
   "mimetype": "text/x-python",
   "name": "python",
   "nbconvert_exporter": "python",
   "pygments_lexer": "ipython3",
   "version": "3.7.4"
  }
 },
 "nbformat": 4,
 "nbformat_minor": 2
}
